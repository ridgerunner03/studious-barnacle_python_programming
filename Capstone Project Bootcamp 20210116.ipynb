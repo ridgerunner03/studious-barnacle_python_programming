{
 "cells": [
  {
   "cell_type": "code",
   "execution_count": 2,
   "metadata": {},
   "outputs": [
    {
     "name": "stdout",
     "output_type": "stream",
     "text": [
      "Collecting package metadata (current_repodata.json): done\n",
      "Solving environment: failed with initial frozen solve. Retrying with flexible solve.\n",
      "Collecting package metadata (repodata.json): done\n",
      "Solving environment: failed with initial frozen solve. Retrying with flexible solve.\n",
      "\n",
      "PackagesNotFoundError: The following packages are not available from current channels:\n",
      "\n",
      "  - pypdf2\n",
      "\n",
      "Current channels:\n",
      "\n",
      "  - https://repo.anaconda.com/pkgs/main/linux-64\n",
      "  - https://repo.anaconda.com/pkgs/main/noarch\n",
      "  - https://repo.anaconda.com/pkgs/r/linux-64\n",
      "  - https://repo.anaconda.com/pkgs/r/noarch\n",
      "\n",
      "To search for alternate channels that may provide the conda package you're\n",
      "looking for, navigate to\n",
      "\n",
      "    https://anaconda.org\n",
      "\n",
      "and use the search bar at the top of the page.\n",
      "\n",
      "\n",
      "\n",
      "Note: you may need to restart the kernel to use updated packages.\n"
     ]
    }
   ],
   "source": [
    "conda install PyPDF2"
   ]
  },
  {
   "cell_type": "code",
   "execution_count": 32,
   "metadata": {},
   "outputs": [
    {
     "data": {
      "text/plain": [
       "'/home/kings_gambit/Documents/Python'"
      ]
     },
     "execution_count": 32,
     "metadata": {},
     "output_type": "execute_result"
    }
   ],
   "source": [
    "pwd"
   ]
  },
  {
   "cell_type": "code",
   "execution_count": 29,
   "metadata": {},
   "outputs": [],
   "source": [
    "import PyPDF2 as P2\n",
    "\n",
    "import os\n",
    "import pdfplumber\n"
   ]
  },
  {
   "cell_type": "code",
   "execution_count": 69,
   "metadata": {},
   "outputs": [
    {
     "name": "stdout",
     "output_type": "stream",
     "text": [
      "Jill  B  Williams  EPISCOPAL  DIOCESE  OF  W  MASS  Earnings  Statement \n",
      "Check Date  September 28, 2007 \n",
      ". Church ST  as  Employee Id  19007  Department  019  Period Beginning  September  16. 2007 \n",
      "‘ \n",
      "Period Ending  September 30,  2007 \n",
      "Tax Status  Check Number  6494 \n",
      "Fed Taxable Income  $20.13  Net Pay  601.99 \n",
      "Fed Fling Satu  M-1+18.20%  Check Amount  601.99 \n",
      "State Filing Status  M-1 \n",
      "Earning  Rate  Hours  Amount  YTDAmt  Tax/Deduction Amount  YTD Amt —  Direct Deposit  Type  Transit.  Account  Amount \n",
      "Sal ary   750.00  750.00  FITW  183.78  183.78  No Direct Deposits \n",
      "Add'tlComp  70.13  70.13  MA  34.36  34.36 \n",
      "Housing  166.67 \n",
      "  \n",
      "Benefit  Amount  YTD Amt  Accrual  Hours _ Dollars \n",
      "  \n",
      "  \n",
      "  \n",
      "Gross Earnings  820.13  986.80  Totals  218.14  218.14 \n",
      "Developing  Healthy,  Mission-Focused  Congregations  in  Western  Mass. \n",
      "Vv  REMOVE  DOCUMENT  ALONGTHIS  PERFORATION  WV\n"
     ]
    }
   ],
   "source": [
    "with pdfplumber.open('PayStubs/test2.pdf')as f:\n",
    "    page = f.pages[0]\n",
    "    text = page.extract_text()\n",
    "    print(text)\n",
    "    \n",
    "file_list = []\n",
    "file_list = text.split('  ')"
   ]
  },
  {
   "cell_type": "code",
   "execution_count": 82,
   "metadata": {},
   "outputs": [
    {
     "data": {
      "text/plain": [
       "' 750.00'"
      ]
     },
     "execution_count": 82,
     "metadata": {},
     "output_type": "execute_result"
    }
   ],
   "source": [
    "file_list[41]"
   ]
  },
  {
   "cell_type": "code",
   "execution_count": 79,
   "metadata": {},
   "outputs": [
    {
     "data": {
      "text/plain": [
       "['Jill',\n",
       " 'B',\n",
       " 'Williams',\n",
       " 'EPISCOPAL',\n",
       " 'DIOCESE',\n",
       " 'OF',\n",
       " 'W',\n",
       " 'MASS',\n",
       " 'Earnings',\n",
       " 'Statement \\nCheck Date',\n",
       " 'September 28, 2007 \\n. Church ST',\n",
       " 'as',\n",
       " 'Employee Id',\n",
       " '19007',\n",
       " 'Department',\n",
       " '019',\n",
       " 'Period Beginning',\n",
       " 'September',\n",
       " '16. 2007 \\n‘ \\nPeriod Ending',\n",
       " 'September 30,',\n",
       " '2007 \\nTax Status',\n",
       " 'Check Number',\n",
       " '6494 \\nFed Taxable Income',\n",
       " '$20.13',\n",
       " 'Net Pay',\n",
       " '601.99 \\nFed Fling Satu',\n",
       " 'M-1+18.20%',\n",
       " 'Check Amount',\n",
       " '601.99 \\nState Filing Status',\n",
       " 'M-1 \\nEarning',\n",
       " 'Rate',\n",
       " 'Hours',\n",
       " 'Amount',\n",
       " 'YTDAmt',\n",
       " 'Tax/Deduction Amount',\n",
       " 'YTD Amt —',\n",
       " 'Direct Deposit',\n",
       " 'Type',\n",
       " 'Transit.',\n",
       " 'Account',\n",
       " 'Amount \\nSal ary',\n",
       " ' 750.00',\n",
       " '750.00',\n",
       " 'FITW',\n",
       " '183.78',\n",
       " '183.78',\n",
       " \"No Direct Deposits \\nAdd'tlComp\",\n",
       " '70.13',\n",
       " '70.13',\n",
       " 'MA',\n",
       " '34.36',\n",
       " '34.36 \\nHousing',\n",
       " '166.67 \\n',\n",
       " '\\nBenefit',\n",
       " 'Amount',\n",
       " 'YTD Amt',\n",
       " 'Accrual',\n",
       " 'Hours _ Dollars \\n',\n",
       " '\\n',\n",
       " '\\n',\n",
       " '\\nGross Earnings',\n",
       " '820.13',\n",
       " '986.80',\n",
       " 'Totals',\n",
       " '218.14',\n",
       " '218.14 \\nDeveloping',\n",
       " 'Healthy,',\n",
       " 'Mission-Focused',\n",
       " 'Congregations',\n",
       " 'in',\n",
       " 'Western',\n",
       " 'Mass. \\nVv',\n",
       " 'REMOVE',\n",
       " 'DOCUMENT',\n",
       " 'ALONGTHIS',\n",
       " 'PERFORATION',\n",
       " 'WV']"
      ]
     },
     "execution_count": 79,
     "metadata": {},
     "output_type": "execute_result"
    }
   ],
   "source": [
    "file_list"
   ]
  },
  {
   "cell_type": "code",
   "execution_count": 63,
   "metadata": {},
   "outputs": [],
   "source": [
    "# this puts the words in a list by letter\n",
    "# file_string =\"\" \n",
    "# for words in text:\n",
    "#     file_string=file_string+\" \"+words\n",
    "\n",
    "file_string.replace(' ','')\n",
    "file_list = []\n",
    "file_list = file_string.split('  ')\n"
   ]
  },
  {
   "cell_type": "code",
   "execution_count": 64,
   "metadata": {},
   "outputs": [
    {
     "data": {
      "text/plain": [
       "[' J i l l',\n",
       " '',\n",
       " ' B',\n",
       " '',\n",
       " ' W i l l i a m s',\n",
       " '',\n",
       " ' E P I S C O P A L',\n",
       " '',\n",
       " ' D I O C E S E',\n",
       " '',\n",
       " ' O F',\n",
       " '',\n",
       " ' W',\n",
       " '',\n",
       " ' M A S S',\n",
       " '',\n",
       " ' E a r n i n g s',\n",
       " '',\n",
       " ' S t a t e m e n t',\n",
       " ' \\n C h e c k',\n",
       " ' D a t e',\n",
       " '',\n",
       " ' S e p t e m b e r',\n",
       " ' 2 8 ,',\n",
       " ' 2 0 0 7',\n",
       " ' \\n .',\n",
       " ' C h u r c h',\n",
       " ' S T',\n",
       " '',\n",
       " ' a s',\n",
       " '',\n",
       " ' E m p l o y e e',\n",
       " ' I d',\n",
       " '',\n",
       " ' 1 9 0 0 7',\n",
       " '',\n",
       " ' D e p a r t m e n t',\n",
       " '',\n",
       " ' 0 1 9',\n",
       " '',\n",
       " ' P e r i o d',\n",
       " ' B e g i n n i n g',\n",
       " '',\n",
       " ' S e p t e m b e r',\n",
       " '',\n",
       " ' 1 6 .',\n",
       " ' 2 0 0 7',\n",
       " ' \\n ‘',\n",
       " ' \\n P e r i o d',\n",
       " ' E n d i n g',\n",
       " '',\n",
       " ' S e p t e m b e r',\n",
       " ' 3 0 ,',\n",
       " '',\n",
       " ' 2 0 0 7',\n",
       " ' \\n T a x',\n",
       " ' S t a t u s',\n",
       " '',\n",
       " ' C h e c k',\n",
       " ' N u m b e r',\n",
       " '',\n",
       " ' 6 4 9 4',\n",
       " ' \\n F e d',\n",
       " ' T a x a b l e',\n",
       " ' I n c o m e',\n",
       " '',\n",
       " ' $ 2 0 . 1 3',\n",
       " '',\n",
       " ' N e t',\n",
       " ' P a y',\n",
       " '',\n",
       " ' 6 0 1 . 9 9',\n",
       " ' \\n F e d',\n",
       " ' F l i n g',\n",
       " ' S a t u',\n",
       " '',\n",
       " ' M - 1 + 1 8 . 2 0 %',\n",
       " '',\n",
       " ' C h e c k',\n",
       " ' A m o u n t',\n",
       " '',\n",
       " ' 6 0 1 . 9 9',\n",
       " ' \\n S t a t e',\n",
       " ' F i l i n g',\n",
       " ' S t a t u s',\n",
       " '',\n",
       " ' M - 1',\n",
       " ' \\n E a r n i n g',\n",
       " '',\n",
       " ' R a t e',\n",
       " '',\n",
       " ' H o u r s',\n",
       " '',\n",
       " ' A m o u n t',\n",
       " '',\n",
       " ' Y T D A m t',\n",
       " '',\n",
       " ' T a x / D e d u c t i o n',\n",
       " ' A m o u n t',\n",
       " '',\n",
       " ' Y T D',\n",
       " ' A m t',\n",
       " ' —',\n",
       " '',\n",
       " ' D i r e c t',\n",
       " ' D e p o s i t',\n",
       " '',\n",
       " ' T y p e',\n",
       " '',\n",
       " ' T r a n s i t .',\n",
       " '',\n",
       " ' A c c o u n t',\n",
       " '',\n",
       " ' A m o u n t',\n",
       " ' \\n S a l',\n",
       " ' a r y',\n",
       " '',\n",
       " '',\n",
       " ' 7 5 0 . 0 0',\n",
       " '',\n",
       " ' 7 5 0 . 0 0',\n",
       " '',\n",
       " ' F I T W',\n",
       " '',\n",
       " ' 1 8 3 . 7 8',\n",
       " '',\n",
       " ' 1 8 3 . 7 8',\n",
       " '',\n",
       " ' N o',\n",
       " ' D i r e c t',\n",
       " ' D e p o s i t s',\n",
       " \" \\n A d d ' t l C o m p\",\n",
       " '',\n",
       " ' 7 0 . 1 3',\n",
       " '',\n",
       " ' 7 0 . 1 3',\n",
       " '',\n",
       " ' M A',\n",
       " '',\n",
       " ' 3 4 . 3 6',\n",
       " '',\n",
       " ' 3 4 . 3 6',\n",
       " ' \\n H o u s i n g',\n",
       " '',\n",
       " ' 1 6 6 . 6 7',\n",
       " ' \\n',\n",
       " '',\n",
       " ' \\n B e n e f i t',\n",
       " '',\n",
       " ' A m o u n t',\n",
       " '',\n",
       " ' Y T D',\n",
       " ' A m t',\n",
       " '',\n",
       " ' A c c r u a l',\n",
       " '',\n",
       " ' H o u r s',\n",
       " ' _',\n",
       " ' D o l l a r s',\n",
       " ' \\n',\n",
       " '',\n",
       " ' \\n',\n",
       " '',\n",
       " ' \\n',\n",
       " '',\n",
       " ' \\n G r o s s',\n",
       " ' E a r n i n g s',\n",
       " '',\n",
       " ' 8 2 0 . 1 3',\n",
       " '',\n",
       " ' 9 8 6 . 8 0',\n",
       " '',\n",
       " ' T o t a l s',\n",
       " '',\n",
       " ' 2 1 8 . 1 4',\n",
       " '',\n",
       " ' 2 1 8 . 1 4',\n",
       " ' \\n D e v e l o p i n g',\n",
       " '',\n",
       " ' H e a l t h y ,',\n",
       " '',\n",
       " ' M i s s i o n - F o c u s e d',\n",
       " '',\n",
       " ' C o n g r e g a t i o n s',\n",
       " '',\n",
       " ' i n',\n",
       " '',\n",
       " ' W e s t e r n',\n",
       " '',\n",
       " ' M a s s .',\n",
       " ' \\n V v',\n",
       " '',\n",
       " ' R E M O V E',\n",
       " '',\n",
       " ' D O C U M E N T',\n",
       " '',\n",
       " ' A L O N G T H I S',\n",
       " '',\n",
       " ' P E R F O R A T I O N',\n",
       " '',\n",
       " ' W V']"
      ]
     },
     "execution_count": 64,
     "metadata": {},
     "output_type": "execute_result"
    }
   ],
   "source": [
    "file_list"
   ]
  },
  {
   "cell_type": "code",
   "execution_count": 65,
   "metadata": {},
   "outputs": [
    {
     "ename": "AttributeError",
     "evalue": "'list' object has no attribute 'replace'",
     "output_type": "error",
     "traceback": [
      "\u001b[0;31m---------------------------------------------------------------------------\u001b[0m",
      "\u001b[0;31mAttributeError\u001b[0m                            Traceback (most recent call last)",
      "\u001b[0;32m<ipython-input-65-658639a198dc>\u001b[0m in \u001b[0;36m<module>\u001b[0;34m\u001b[0m\n\u001b[0;32m----> 1\u001b[0;31m \u001b[0mfile_list\u001b[0m\u001b[0;34m.\u001b[0m\u001b[0mreplace\u001b[0m\u001b[0;34m(\u001b[0m\u001b[0;34m' '\u001b[0m\u001b[0;34m,\u001b[0m\u001b[0;34m'#'\u001b[0m\u001b[0;34m)\u001b[0m\u001b[0;34m\u001b[0m\u001b[0;34m\u001b[0m\u001b[0m\n\u001b[0m",
      "\u001b[0;31mAttributeError\u001b[0m: 'list' object has no attribute 'replace'"
     ]
    }
   ],
   "source": []
  },
  {
   "cell_type": "code",
   "execution_count": 34,
   "metadata": {
    "scrolled": true
   },
   "outputs": [
    {
     "name": "stdout",
     "output_type": "stream",
     "text": [
      " \n",
      " \n",
      "DEEP LEARNING APPLICATIONS \n",
      "IN \n",
      "AUDIT DECISION MAKING\n",
      " \n",
      "B\n",
      "y \n",
      "TING SUN\n",
      " \n",
      "A \n",
      "dissertation \n",
      "submitted to the\n",
      " \n",
      "Graduate School\n",
      "-\n",
      "Newark\n",
      " \n",
      "Rutgers, The State University of New Jersey\n",
      " \n",
      "i\n",
      "n partial fulfillment\n",
      " \n",
      "of requirements\n",
      " \n",
      "for the degree of\n",
      " \n",
      "Doctor of Philosophy\n",
      " \n",
      "Graduate Program in Management\n",
      " \n",
      "Written under the direction of\n",
      " \n",
      "Professor\n",
      " \n",
      "Miklos A. Vasarhelyi\n",
      " \n",
      "and approved by\n",
      " \n",
      "____________________\n",
      " \n",
      "Dr. Miklos A. Vasarhelyi\n",
      " \n",
      "____________________\n",
      " \n",
      "Dr. Alexander Kogan\n",
      " \n",
      "____________________\n",
      " \n",
      "Dr. Helen Brown\n",
      "-\n",
      "Liburd\n",
      " \n",
      "____________________\n",
      " \n",
      "Dr. Rajendra P. Srivastava\n",
      " \n",
      "Newark, New Jersey\n",
      " \n",
      "May\n",
      ",\n",
      " \n",
      "2018\n",
      " \n",
      "\n"
     ]
    }
   ],
   "source": [
    "with open('PayStubs/ETD-2018-8944.pdf','rb') as f:\n",
    "    \n",
    "    pdf = P2.PdfFileReader(f)\n",
    "    text = pdf.getPage(0)\n",
    "    print(text.extractText())\n"
   ]
  },
  {
   "cell_type": "code",
   "execution_count": 1,
   "metadata": {},
   "outputs": [
    {
     "ename": "ModuleNotFoundError",
     "evalue": "No module named 'PyPDF2'",
     "output_type": "error",
     "traceback": [
      "\u001b[0;31m---------------------------------------------------------------------------\u001b[0m",
      "\u001b[0;31mModuleNotFoundError\u001b[0m                       Traceback (most recent call last)",
      "\u001b[0;32m<ipython-input-1-7e423ff0ab8a>\u001b[0m in \u001b[0;36m<module>\u001b[0;34m\u001b[0m\n\u001b[0;32m----> 1\u001b[0;31m \u001b[0;32mimport\u001b[0m \u001b[0mPyPDF2\u001b[0m \u001b[0;32mas\u001b[0m \u001b[0mP2\u001b[0m\u001b[0;34m\u001b[0m\u001b[0;34m\u001b[0m\u001b[0m\n\u001b[0m",
      "\u001b[0;31mModuleNotFoundError\u001b[0m: No module named 'PyPDF2'"
     ]
    }
   ],
   "source": [
    "'ETD-2018-8944.pdf'"
   ]
  },
  {
   "cell_type": "code",
   "execution_count": 3,
   "metadata": {},
   "outputs": [],
   "source": [
    "from io import StringIO"
   ]
  },
  {
   "cell_type": "code",
   "execution_count": 13,
   "metadata": {},
   "outputs": [],
   "source": [
    "from pdfminer.converter import TextConverter\n",
    "from pdfminer.layout import LAParams\n",
    "from pdfminer.pdfdocument import PDFDocument\n",
    "from pdfminer.pdfinterp import PDFResourceManager,PDFPageInterpreter\n",
    "from pdfminer.pdfpage import PDFPage\n",
    "from pdfminer.pdfparser import PDFParser"
   ]
  },
  {
   "cell_type": "code",
   "execution_count": 14,
   "metadata": {},
   "outputs": [
    {
     "ename": "FileNotFoundError",
     "evalue": "[Errno 2] No such file or directory: '/PayStubs/test.pdf'",
     "output_type": "error",
     "traceback": [
      "\u001b[0;31m---------------------------------------------------------------------------\u001b[0m",
      "\u001b[0;31mFileNotFoundError\u001b[0m                         Traceback (most recent call last)",
      "\u001b[0;32m<ipython-input-14-678fe055281f>\u001b[0m in \u001b[0;36m<module>\u001b[0;34m\u001b[0m\n\u001b[1;32m      1\u001b[0m \u001b[0moutput_string\u001b[0m \u001b[0;34m=\u001b[0m \u001b[0mStringIO\u001b[0m\u001b[0;34m(\u001b[0m\u001b[0;34m)\u001b[0m\u001b[0;34m\u001b[0m\u001b[0;34m\u001b[0m\u001b[0m\n\u001b[0;32m----> 2\u001b[0;31m \u001b[0;32mwith\u001b[0m \u001b[0mopen\u001b[0m\u001b[0;34m(\u001b[0m\u001b[0;34m'/PayStubs/test.pdf'\u001b[0m\u001b[0;34m,\u001b[0m\u001b[0;34m'rb'\u001b[0m\u001b[0;34m)\u001b[0m \u001b[0;32mas\u001b[0m \u001b[0mf\u001b[0m\u001b[0;34m:\u001b[0m\u001b[0;34m\u001b[0m\u001b[0;34m\u001b[0m\u001b[0m\n\u001b[0m\u001b[1;32m      3\u001b[0m     \u001b[0mparser\u001b[0m \u001b[0;34m=\u001b[0m \u001b[0mPDFParser\u001b[0m\u001b[0;34m(\u001b[0m\u001b[0mf\u001b[0m\u001b[0;34m)\u001b[0m\u001b[0;34m\u001b[0m\u001b[0;34m\u001b[0m\u001b[0m\n\u001b[1;32m      4\u001b[0m     \u001b[0mdoc\u001b[0m \u001b[0;34m=\u001b[0m \u001b[0mPDFDocument\u001b[0m\u001b[0;34m(\u001b[0m\u001b[0mparser\u001b[0m\u001b[0;34m)\u001b[0m\u001b[0;34m\u001b[0m\u001b[0;34m\u001b[0m\u001b[0m\n\u001b[1;32m      5\u001b[0m     \u001b[0mrsrcmgr\u001b[0m \u001b[0;34m=\u001b[0m \u001b[0mPDFResourceManager\u001b[0m\u001b[0;34m(\u001b[0m\u001b[0;34m)\u001b[0m\u001b[0;34m\u001b[0m\u001b[0;34m\u001b[0m\u001b[0m\n",
      "\u001b[0;31mFileNotFoundError\u001b[0m: [Errno 2] No such file or directory: '/PayStubs/test.pdf'"
     ]
    }
   ],
   "source": [
    "output_string = StringIO()\n",
    "with open('/PayStubs/test.pdf','rb') as f:\n",
    "    parser = PDFParser(f)\n",
    "    doc = PDFDocument(parser)\n",
    "    rsrcmgr = PDFResourceManager()\n",
    "    device = TextConverter(rsrcmgr,output_string,laparams=LAParams())\n",
    "    interpreter = PDFPageInterpreter(rsrcmgr,device)\n",
    "    for page in PDFPage.create_pages(doc):\n",
    "        interpreter.process_page(page)\n",
    "        \n",
    "print(output_string.getvalue())\n"
   ]
  },
  {
   "cell_type": "code",
   "execution_count": null,
   "metadata": {},
   "outputs": [],
   "source": []
  }
 ],
 "metadata": {
  "kernelspec": {
   "display_name": "Python 3",
   "language": "python",
   "name": "python3"
  },
  "language_info": {
   "codemirror_mode": {
    "name": "ipython",
    "version": 3
   },
   "file_extension": ".py",
   "mimetype": "text/x-python",
   "name": "python",
   "nbconvert_exporter": "python",
   "pygments_lexer": "ipython3",
   "version": "3.8.5"
  }
 },
 "nbformat": 4,
 "nbformat_minor": 4
}
