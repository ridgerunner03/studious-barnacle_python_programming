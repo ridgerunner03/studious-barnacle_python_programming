{
 "cells": [
  {
   "cell_type": "markdown",
   "metadata": {},
   "source": [
    "# Caesar Cypher"
   ]
  },
  {
   "cell_type": "markdown",
   "metadata": {},
   "source": [
    "# This code will allow the user to enter text and then a shift number.  Each letter in the entered text will be shifted by the perscribed number of letters."
   ]
  },
  {
   "cell_type": "code",
   "execution_count": null,
   "metadata": {},
   "outputs": [],
   "source": [
    "alphabet = ['a', 'b', 'c', 'd', 'e', 'f', 'g', 'h', 'i', 'j', 'k', 'l', 'm', 'n', 'o', 'p', 'q', 'r', 's', 't', 'u', 'v', 'w', 'x', 'y', 'z']\n",
    "\n",
    "direction = input(\"Type 'encode' to encrypt, type 'decode' to decrypt:\\n\")\n",
    "text = input(\"Type your message:\\n\").lower()\n",
    "shift = int(input(\"Type the shift number:\\n\"))\n",
    "\n",
    "#TODO-1: Create a function called 'encrypt' that takes the 'text' and 'shift' as inputs.\n",
    "\n",
    "def encrypt(text,shift):\n",
    "    cypher = alphabet.copy()\n",
    "    encrypted_word = []\n",
    "    \n",
    "    while shift > 0:\n",
    "        letter = cypher.pop(0)\n",
    "        cypher.append(letter)\n",
    "        shift -= 1\n",
    "        \n",
    "    for a in text:\n",
    "        pos = alphabet.index(a)\n",
    "        let = cypher[pos]\n",
    "        encrypted_word.append(let)\n",
    "    print(\"\".join(encrypted_word))\n",
    "\n",
    "\n",
    "if direction == 'encode':\n",
    "    encrypt(text,shift)\n",
    "elif direction == 'decode':\n",
    "    print(\"not yet\")\n",
    "else:\n",
    "    print(\"I can only encode and decode a message.\")\n",
    "    #TODO-2: Inside the 'encrypt' function, shift each letter of the 'text' forwards in the alphabet by the shift amount and print the encrypted text.  \n",
    "    #e.g. \n",
    "    #plain_text = \"hello\"\n",
    "    #shift = 5\n",
    "    #cipher_text = \"mjqqt\"\n",
    "    #print output: \"The encoded text is mjqqt\"\n",
    "\n",
    "    ##HINT: How do you get the index of an item in a list:\n",
    "    #https://stackoverflow.com/questions/176918/finding-the-index-of-an-item-in-a-list\n",
    "\n",
    "    ##🐛Bug alert: What happens if you try to encode the word 'civilization'?🐛\n",
    "\n",
    "#TODO-3: Call the encrypt function and pass in the user inputs. You should be able to test the code and encrypt a message."
   ]
  },
  {
   "cell_type": "code",
   "execution_count": null,
   "metadata": {},
   "outputs": [],
   "source": [
    "bet = ['a', 'b', 'c', 'd', 'e', 'f', 'g', 'h', 'i', 'j', 'k', 'l', 'm', 'n', 'o', 'p', 'q', 'r', 's', 't', 'u', 'v', 'w', 'x', 'y', 'z']\n",
    "\n",
    "letter = bet.pop(0)\n",
    "bet.append(letter)\n",
    "print(letter)\n",
    "print(bet)"
   ]
  },
  {
   "cell_type": "code",
   "execution_count": null,
   "metadata": {},
   "outputs": [],
   "source": [
    "bet = ['a', 'b', 'c', 'd', 'e', 'f', 'g', 'h', 'i', 'j', 'k', 'l', 'm', 'n', 'o', 'p', 'q', 'r', 's', 't', 'u', 'v', 'w', 'x', 'y', 'z']\n",
    "s = 3\n",
    "cyp = bet.copy()\n",
    "t= 'hello'\n",
    "ew = []\n",
    "\n",
    "while s > 0:\n",
    "        letter = cyp.pop(0)\n",
    "        cyp.append(letter)\n",
    "        s -= 1\n",
    "\n",
    "print(cyp)\n",
    "print(bet)\n",
    "\n",
    "for a in t:\n",
    "    pos = bet.index(a)\n",
    "    let = cyp[pos]\n",
    "    ew.append(let)\n",
    "print(ew)\n",
    "print(\"\".join(ew))\n",
    "\n",
    "print(\"done\")"
   ]
  },
  {
   "cell_type": "markdown",
   "metadata": {},
   "source": [
    "This is the final code for the project.  I've already made this but it was almost a year ago so I didn't remember how I did it and I'm a little rusty apparently.  The program can encrypt and decrypt simple messages.  it can handle multiple words but no punctuation.  I could add punctuation but ehhhhh."
   ]
  },
  {
   "cell_type": "code",
   "execution_count": null,
   "metadata": {},
   "outputs": [],
   "source": [
    "alphabet = ['a', 'b', 'c', 'd', 'e', 'f', 'g', 'h', 'i', 'j', 'k', 'l',\n",
    "            'm', 'n', 'o', 'p', 'q', 'r', 's', 't', 'u', 'v', 'w', 'x', 'y', 'z', ' ']\n",
    "\n",
    "direction = input(\"Type 'encode' to encrypt, type 'decode' to decrypt:\\n\")\n",
    "text = input(\"Type your message:\\n\").lower()\n",
    "shift = int(input(\"Type the shift number:\\n\"))\n",
    "\n",
    "#TODO-1: Create a function called 'encrypt' that takes the 'text' and 'shift' as inputs.\n",
    "\n",
    "def decrypt(text,shift):\n",
    "    cypher = alphabet.copy()\n",
    "    encrypted_word = []\n",
    "    \n",
    "    while shift > 0:\n",
    "        letter = cypher.pop(-1)\n",
    "        cypher.insert(0,letter)\n",
    "        shift -= 1\n",
    "        \n",
    "    for a in text:\n",
    "        pos = alphabet.index(a)\n",
    "        let = cypher[pos]\n",
    "        encrypted_word.append(let)\n",
    "    print(\"\".join(encrypted_word))\n",
    "\n",
    "\n",
    "if direction == 'encode':\n",
    "    encrypt(text,shift)\n",
    "elif direction == 'decode':\n",
    "    decrypt(text,shift)\n",
    "else:\n",
    "    print(\"I can only encode and decode a message.\")\n",
    "    #TODO-2: Inside the 'encrypt' function, shift each letter of the 'text' forwards in the alphabet by the shift amount and print the encrypted text.  \n",
    "    #e.g. \n",
    "    #plain_text = \"hello\"\n",
    "    #shift = 5\n",
    "    #cipher_text = \"mjqqt\"\n",
    "    #print output: \"The encoded text is mjqqt\"\n",
    "\n",
    "    ##HINT: How do you get the index of an item in a list:\n",
    "    #https://stackoverflow.com/questions/176918/finding-the-index-of-an-item-in-a-list\n",
    "\n",
    "    ##🐛Bug alert: What happens if you try to encode the word 'civilization'?🐛\n",
    "\n",
    "#TODO-3: Call the encrypt function and pass in the user inputs. You should be able to test the code and encrypt a message."
   ]
  },
  {
   "cell_type": "code",
   "execution_count": null,
   "metadata": {},
   "outputs": [],
   "source": []
  },
  {
   "cell_type": "code",
   "execution_count": null,
   "metadata": {},
   "outputs": [],
   "source": []
  }
 ],
 "metadata": {
  "kernelspec": {
   "display_name": "Python 3",
   "language": "python",
   "name": "python3"
  },
  "language_info": {
   "codemirror_mode": {
    "name": "ipython",
    "version": 3
   },
   "file_extension": ".py",
   "mimetype": "text/x-python",
   "name": "python",
   "nbconvert_exporter": "python",
   "pygments_lexer": "ipython3",
   "version": "3.8.5"
  }
 },
 "nbformat": 4,
 "nbformat_minor": 4
}
