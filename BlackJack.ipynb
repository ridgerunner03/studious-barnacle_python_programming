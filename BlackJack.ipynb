{
 "cells": [
  {
   "cell_type": "markdown",
   "metadata": {},
   "source": [
    "computer dealer and one human player\n",
    "\n",
    "player places bet\n",
    "\n",
    "dealers presents one card face up and one card face down\n",
    "player recieves two cards face up\n",
    "player can hit or stay\n",
    "\n",
    "Goal is:\n",
    "    dealer<player<21\n",
    "    if dealer > 21:\n",
    "        Player wins\n",
    "    if player > 21:\n",
    "        Player busts\n",
    "        \n",
    "face cards = 10\n",
    "aces = 1 or 11\n",
    "\n",
    "classes needed:\n",
    "BankRole\n",
    "Cards\n",
    "Deck\n",
    "PlayerHand"
   ]
  },
  {
   "cell_type": "markdown",
   "metadata": {},
   "source": [
    "chips class will be used to keep track of how much money the player has to bid."
   ]
  },
  {
   "cell_type": "code",
   "execution_count": 146,
   "metadata": {},
   "outputs": [],
   "source": [
    "class Chips:\n",
    "#     This class will define the amount of money that the player has.  \n",
    "#     It will allow them to determine balance, place bets, win, and lose\n",
    "    \n",
    "    def __init__(self,bal=100):\n",
    "        self.bal = bal \n",
    "        self.bet = 0\n",
    "    \n",
    "    def take_bet(chips):\n",
    "#         This string will be called every time the player places a bet\n",
    "        print (\"how much would you like to bet?\")\n",
    "        hold = False\n",
    "        while hold == False:\n",
    "            try:\n",
    "                chips.bet = int(input())\n",
    "                if chips.bet > chips.bal:\n",
    "                    print(\"Who do you think you are, Midas?  You don't have that much money!!\")\n",
    "                    hold = False\n",
    "                else:\n",
    "                    hold = True\n",
    "            except ValueError:\n",
    "                print(\"sorry that's not a number, please place a bet.\")\n",
    "                hold = False\n",
    "            \n",
    "        \n",
    "#     def __str__(self):\n",
    "# #         this string is used to identify the balance and ask for a bet\n",
    "#         self.bal = str(self.bal)\n",
    "#         return(f\"The Player's current balance is ${self.bal}\")\n",
    "#         bet = int(input())\n",
    "#         print(bet)\n",
    "    \n",
    "    def win_bet(self):\n",
    "#         This method can be called to add winnings and present a new balance\n",
    "        self.bal = int(self.bal)\n",
    "        self.bal = self.bal + (2*self.bet)\n",
    "        return (f\"Your new balance is {self.bal}\")\n",
    "    \n",
    "    def lose_bet(self):\n",
    "#         This method can be called when the player loses\n",
    "        self.bal = int(self.bal)\n",
    "        self.bal = self.bal - self.bet\n",
    "        if self.bal < 1:\n",
    "            print(\"sorry, you've lost the game...\")\n",
    "        else:\n",
    "            print(f\"Your new balance is {self.bal}\")\n",
    "    \n",
    "#     def take_bet(chips): \n",
    "#         while True:\n",
    "#             try:\n",
    "#                 chips.bet = int(input('How many chips would you like to bet:  ')\n",
    "#             except ValueError:     #i was getting a syntax error on this when i ran it\n",
    "#                 print('Sorry, a bet must be an integer!')\n",
    "#             else:\n",
    "#                 if chips.bet > chips.bal:\n",
    "#                     print(f\"Sorry, your bet can't exceed{chips.bal}\")\n",
    "#                 else:\n",
    "#                     break\n",
    "        \n",
    "        \n",
    "        "
   ]
  },
  {
   "cell_type": "code",
   "execution_count": null,
   "metadata": {},
   "outputs": [],
   "source": []
  },
  {
   "cell_type": "code",
   "execution_count": 49,
   "metadata": {},
   "outputs": [],
   "source": [
    "money = Chips(100)"
   ]
  },
  {
   "cell_type": "code",
   "execution_count": 50,
   "metadata": {},
   "outputs": [
    {
     "name": "stdout",
     "output_type": "stream",
     "text": [
      "how much would you like to bet?\n",
      "2\n"
     ]
    }
   ],
   "source": [
    "money.bet()"
   ]
  },
  {
   "cell_type": "code",
   "execution_count": null,
   "metadata": {},
   "outputs": [],
   "source": []
  },
  {
   "cell_type": "code",
   "execution_count": 51,
   "metadata": {},
   "outputs": [
    {
     "name": "stdout",
     "output_type": "stream",
     "text": [
      "Your new balance is 50\n"
     ]
    },
    {
     "data": {
      "text/plain": [
       "50"
      ]
     },
     "execution_count": 51,
     "metadata": {},
     "output_type": "execute_result"
    }
   ],
   "source": [
    "money.lose(50)"
   ]
  },
  {
   "cell_type": "code",
   "execution_count": 52,
   "metadata": {},
   "outputs": [
    {
     "name": "stdout",
     "output_type": "stream",
     "text": [
      "<__main__.Chips object at 0x0000024BFE397FD0>\n"
     ]
    }
   ],
   "source": [
    "print(money)"
   ]
  },
  {
   "cell_type": "code",
   "execution_count": 53,
   "metadata": {},
   "outputs": [
    {
     "name": "stdout",
     "output_type": "stream",
     "text": [
      "how much would you like to bet?\n",
      "2\n"
     ]
    },
    {
     "ename": "TypeError",
     "evalue": "int() argument must be a string, a bytes-like object or a number, not 'NoneType'",
     "output_type": "error",
     "traceback": [
      "\u001b[1;31m---------------------------------------------------------------------------\u001b[0m",
      "\u001b[1;31mTypeError\u001b[0m                                 Traceback (most recent call last)",
      "\u001b[1;32m<ipython-input-53-d49617137445>\u001b[0m in \u001b[0;36m<module>\u001b[1;34m\u001b[0m\n\u001b[1;32m----> 1\u001b[1;33m \u001b[0mx\u001b[0m \u001b[1;33m=\u001b[0m \u001b[0mint\u001b[0m\u001b[1;33m(\u001b[0m\u001b[0mmoney\u001b[0m\u001b[1;33m.\u001b[0m\u001b[0mbet\u001b[0m\u001b[1;33m(\u001b[0m\u001b[1;33m)\u001b[0m\u001b[1;33m)\u001b[0m\u001b[1;33m\u001b[0m\u001b[1;33m\u001b[0m\u001b[0m\n\u001b[0m\u001b[0;32m      2\u001b[0m \u001b[0mmoney\u001b[0m\u001b[1;33m.\u001b[0m\u001b[0mwin\u001b[0m\u001b[1;33m(\u001b[0m\u001b[0mx\u001b[0m\u001b[1;33m)\u001b[0m\u001b[1;33m\u001b[0m\u001b[1;33m\u001b[0m\u001b[0m\n",
      "\u001b[1;31mTypeError\u001b[0m: int() argument must be a string, a bytes-like object or a number, not 'NoneType'"
     ]
    }
   ],
   "source": [
    "x = int(money.bet())\n",
    "money.win(x)"
   ]
  },
  {
   "cell_type": "markdown",
   "metadata": {},
   "source": [
    "gobal variables and cards class\n",
    "the card class sets up the list of suits and card values but doesn't tether the two"
   ]
  },
  {
   "cell_type": "code",
   "execution_count": 120,
   "metadata": {},
   "outputs": [],
   "source": [
    "suits = ('Hearts', 'Diamonds', 'Spades', 'Clubs')\n",
    "ranks = ('Two', 'Three', 'Four', 'Five', 'Six', 'Seven', 'Eight', 'Nine', 'Ten', 'Jack', 'Queen', 'King', 'Ace')\n",
    "values = {'Two':2, 'Three':3, 'Four':4, 'Five':5, 'Six':6, 'Seven':7, 'Eight':8, \n",
    "            'Nine':9, 'Ten':10, 'Jack':10, 'Queen':10, 'King':10, 'Ace':11}\n",
    "game_on = True\n",
    "\n",
    "\n",
    "class Card:\n",
    "#     the card class will set up the cards with value and suit\n",
    "    def __init__(self, suit, rank):\n",
    "        self.suit = suit\n",
    "        self.rank = rank\n",
    "#         self.value = values[rank]\n",
    "        \n",
    "    def __str__(self):\n",
    "        return self.rank + ' of ' + self.suit"
   ]
  },
  {
   "cell_type": "code",
   "execution_count": 71,
   "metadata": {},
   "outputs": [
    {
     "data": {
      "text/plain": [
       "'Hearts'"
      ]
     },
     "execution_count": 71,
     "metadata": {},
     "output_type": "execute_result"
    }
   ],
   "source": [
    "suits[0]"
   ]
  },
  {
   "cell_type": "code",
   "execution_count": 72,
   "metadata": {},
   "outputs": [
    {
     "data": {
      "text/plain": [
       "'Two'"
      ]
     },
     "execution_count": 72,
     "metadata": {},
     "output_type": "execute_result"
    }
   ],
   "source": [
    "ranks[0]"
   ]
  },
  {
   "cell_type": "markdown",
   "metadata": {},
   "source": [
    "Deck class will be used to create the deck of 52 cards, each with a value (rank) and suit, and then shuffle that deck"
   ]
  },
  {
   "cell_type": "code",
   "execution_count": 125,
   "metadata": {},
   "outputs": [],
   "source": [
    "class Deck:\n",
    "    \n",
    "    def __init__(self):\n",
    "        \n",
    "        self.all_cards = []\n",
    "        for suit in suits:\n",
    "            for rank in ranks:\n",
    "#                 this assumes the card class has alreday been defined\n",
    "                self.all_cards.append(Card(suit,rank))\n",
    "    \n",
    "    def __str__(self):\n",
    "#         I think this will return each card in the deck\n",
    "        complete_deck = ''\n",
    "        for card in self.all_cards:\n",
    "            complete_deck += '\\n' + card.__str__()\n",
    "        return 'The deck has: ' + complete_deck\n",
    "    \n",
    "    \n",
    "    def shuffle(self):\n",
    "        import random\n",
    "#         this method doesn't return anything but it will randomize the cards\n",
    "        random.shuffle(self.all_cards)\n",
    "    \n",
    "    def deal(self):\n",
    "#         Note we remove one card from the list of all_cards\n",
    "#         this method will be used to increase card count\n",
    "        return self.all_cards.pop()\n",
    "\n",
    "   \n",
    "        \n",
    "        \n",
    "#         self.dealer = self.dealer + self.all_cards.pop()\n",
    "#         print(self.dealer)"
   ]
  },
  {
   "cell_type": "code",
   "execution_count": 126,
   "metadata": {},
   "outputs": [],
   "source": [
    "mydeck = Deck()"
   ]
  },
  {
   "cell_type": "code",
   "execution_count": null,
   "metadata": {},
   "outputs": [],
   "source": [
    "print(mydeck)\n",
    "# But really, don't do it, it is terribly long"
   ]
  },
  {
   "cell_type": "code",
   "execution_count": 115,
   "metadata": {},
   "outputs": [],
   "source": [
    "card = mydeck.all_cards[0]"
   ]
  },
  {
   "cell_type": "code",
   "execution_count": 116,
   "metadata": {},
   "outputs": [
    {
     "name": "stdout",
     "output_type": "stream",
     "text": [
      "Two of Hearts\n"
     ]
    }
   ],
   "source": [
    "print(card)"
   ]
  },
  {
   "cell_type": "code",
   "execution_count": 117,
   "metadata": {},
   "outputs": [],
   "source": [
    "mydeck.shuffle()"
   ]
  },
  {
   "cell_type": "code",
   "execution_count": 118,
   "metadata": {},
   "outputs": [],
   "source": [
    "card2 = mydeck.all_cards[0]"
   ]
  },
  {
   "cell_type": "code",
   "execution_count": 119,
   "metadata": {},
   "outputs": [
    {
     "name": "stdout",
     "output_type": "stream",
     "text": [
      "Four of Spades\n"
     ]
    }
   ],
   "source": [
    "print(card2)"
   ]
  },
  {
   "cell_type": "code",
   "execution_count": 85,
   "metadata": {},
   "outputs": [
    {
     "name": "stdout",
     "output_type": "stream",
     "text": [
      "Ace\n",
      "11\n"
     ]
    }
   ],
   "source": [
    "dealer = \"Ace of Hearts\"\n",
    "player_count = dealer.split()\n",
    "num = player_count[0]\n",
    "print(num)\n",
    "print(values[num])"
   ]
  },
  {
   "cell_type": "code",
   "execution_count": 140,
   "metadata": {},
   "outputs": [],
   "source": [
    "class Hand:\n",
    "    \n",
    "    def __init__(self):\n",
    "        self.cards = []\n",
    "        self.value = 0\n",
    "        self.aces = 0\n",
    "       \n",
    "    def add_card(self, card):\n",
    "        self.cards.append(card)\n",
    "        self.value += values[card.rank]\n",
    "        if card.rank == \"Ace\":\n",
    "#             This will track how many aces are in our hand\n",
    "#             see adjust_for_aces\n",
    "            self.aces += 1 \n",
    "        \n",
    "    def adjust_for_ace(self):\n",
    "#         with the aces method variable above \n",
    "#         this will be used to adjust the value of aces\n",
    "#         from 11 to 1 when our total hand value is above 21\n",
    "        while self.value > 21 and self.aces:\n",
    "            self.value -=10\n",
    "            self.aces -= 1\n",
    "        \n",
    "        \n",
    "   "
   ]
  },
  {
   "cell_type": "code",
   "execution_count": 136,
   "metadata": {},
   "outputs": [
    {
     "data": {
      "text/plain": [
       "20"
      ]
     },
     "execution_count": 136,
     "metadata": {},
     "output_type": "execute_result"
    }
   ],
   "source": [
    "mydeck = Deck()\n",
    "mydeck.shuffle()\n",
    "test_player = Hand()\n",
    "test_player.add_card(mydeck.deal())\n",
    "test_player.add_card(mydeck.deal())\n",
    "test_player.value"
   ]
  },
  {
   "cell_type": "code",
   "execution_count": 138,
   "metadata": {},
   "outputs": [
    {
     "name": "stdout",
     "output_type": "stream",
     "text": [
      "Queen of Hearts\n",
      "Ten of Spades\n"
     ]
    }
   ],
   "source": [
    "for card in test_player.cards:\n",
    "    print(card)"
   ]
  },
  {
   "cell_type": "code",
   "execution_count": 141,
   "metadata": {},
   "outputs": [
    {
     "ename": "AttributeError",
     "evalue": "'Deck' object has no attribute 'pop'",
     "output_type": "error",
     "traceback": [
      "\u001b[1;31m---------------------------------------------------------------------------\u001b[0m",
      "\u001b[1;31mAttributeError\u001b[0m                            Traceback (most recent call last)",
      "\u001b[1;32m<ipython-input-141-6b7ddd70a37d>\u001b[0m in \u001b[0;36m<module>\u001b[1;34m\u001b[0m\n\u001b[1;32m----> 1\u001b[1;33m \u001b[0mnew_player\u001b[0m\u001b[1;33m.\u001b[0m\u001b[0mdeal_hand\u001b[0m\u001b[1;33m(\u001b[0m\u001b[1;33m)\u001b[0m\u001b[1;33m\u001b[0m\u001b[1;33m\u001b[0m\u001b[0m\n\u001b[0m",
      "\u001b[1;32m<ipython-input-102-3b3979953945>\u001b[0m in \u001b[0;36mdeal_hand\u001b[1;34m(self)\u001b[0m\n\u001b[0;32m     11\u001b[0m     \u001b[1;32mdef\u001b[0m \u001b[0mdeal_hand\u001b[0m\u001b[1;33m(\u001b[0m\u001b[0mself\u001b[0m\u001b[1;33m)\u001b[0m\u001b[1;33m:\u001b[0m\u001b[1;33m\u001b[0m\u001b[1;33m\u001b[0m\u001b[0m\n\u001b[0;32m     12\u001b[0m \u001b[1;31m#         This method will be used to initiate a hand of cards for the player and dealer\u001b[0m\u001b[1;33m\u001b[0m\u001b[1;33m\u001b[0m\u001b[1;33m\u001b[0m\u001b[0m\n\u001b[1;32m---> 13\u001b[1;33m         \u001b[0mself\u001b[0m\u001b[1;33m.\u001b[0m\u001b[0mdealer\u001b[0m \u001b[1;33m=\u001b[0m \u001b[0mself\u001b[0m\u001b[1;33m.\u001b[0m\u001b[0mall_cards\u001b[0m\u001b[1;33m.\u001b[0m\u001b[0mpop\u001b[0m\u001b[1;33m(\u001b[0m\u001b[1;33m)\u001b[0m\u001b[1;33m\u001b[0m\u001b[1;33m\u001b[0m\u001b[0m\n\u001b[0m\u001b[0;32m     14\u001b[0m         \u001b[0mprint\u001b[0m\u001b[1;33m(\u001b[0m\u001b[0mself\u001b[0m\u001b[1;33m.\u001b[0m\u001b[0mdealer\u001b[0m\u001b[1;33m)\u001b[0m\u001b[1;33m\u001b[0m\u001b[1;33m\u001b[0m\u001b[0m\n\u001b[0;32m     15\u001b[0m \u001b[1;31m#         card_list = dealer.split()\u001b[0m\u001b[1;33m\u001b[0m\u001b[1;33m\u001b[0m\u001b[1;33m\u001b[0m\u001b[0m\n",
      "\u001b[1;31mAttributeError\u001b[0m: 'Deck' object has no attribute 'pop'"
     ]
    }
   ],
   "source": [
    "new_player.deal_hand()"
   ]
  },
  {
   "cell_type": "markdown",
   "metadata": {},
   "source": [
    "##Game Logic\n",
    "\n",
    "this will cover asking to initiate game, end game, dealer hand, and the mechanics of hitting and staying"
   ]
  },
  {
   "cell_type": "code",
   "execution_count": 148,
   "metadata": {},
   "outputs": [],
   "source": [
    "def hit(deck,hand):\n",
    "    \n",
    "    hand.add_card(deck.deal())\n",
    "    hand.adjust_for_ace()"
   ]
  },
  {
   "cell_type": "code",
   "execution_count": 149,
   "metadata": {},
   "outputs": [],
   "source": [
    "def hit_or_stand(deck,hand):\n",
    "    global playing\n",
    "    \n",
    "    while True:\n",
    "        x = input(\"Would you like to hit (h) or stand (s)? Enter 'h' or 'S'\")\n",
    "        \n",
    "        if x[0].lower() == 'h':\n",
    "            hit(deck,hand)\n",
    "            \n",
    "        elif x[0].lower() =='s':\n",
    "            print(\"Player stands.  Dealer is playing...\")\n",
    "            playing = False\n",
    "            \n",
    "        else:\n",
    "            print(\"Sorry, please try again.\")\n",
    "            continue\n",
    "        break"
   ]
  },
  {
   "cell_type": "code",
   "execution_count": null,
   "metadata": {},
   "outputs": [],
   "source": [
    "step 9\n",
    "https://medium.com/@samarakoon.gayan/a-game-of-black-jack-on-python-as-a-fun-exercise-3cd54efb9d83 "
   ]
  }
 ],
 "metadata": {
  "kernelspec": {
   "display_name": "Python 3",
   "language": "python",
   "name": "python3"
  },
  "language_info": {
   "codemirror_mode": {
    "name": "ipython",
    "version": 3
   },
   "file_extension": ".py",
   "mimetype": "text/x-python",
   "name": "python",
   "nbconvert_exporter": "python",
   "pygments_lexer": "ipython3",
   "version": "3.8.5"
  }
 },
 "nbformat": 4,
 "nbformat_minor": 4
}
