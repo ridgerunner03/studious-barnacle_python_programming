{
 "cells": [
  {
   "cell_type": "markdown",
   "metadata": {},
   "source": [
    "computer dealer and one human player\n",
    "\n",
    "player places bet\n",
    "\n",
    "dealers presents one card face up and one card face down\n",
    "player recieves two cards face up\n",
    "player can hit or stay\n",
    "\n",
    "Goal is:\n",
    "    dealer<player<21\n",
    "    if dealer > 21:\n",
    "        Player wins\n",
    "    if player > 21:\n",
    "        Player busts\n",
    "        \n",
    "face cards = 10\n",
    "aces = 1 or 11\n",
    "\n",
    "classes needed:\n",
    "BankRole\n",
    "Cards\n",
    "Deck\n",
    "PlayerHand"
   ]
  },
  {
   "cell_type": "markdown",
   "metadata": {},
   "source": [
    "chips class will be used to keep track of how much money the player has to bid."
   ]
  },
  {
   "cell_type": "code",
   "execution_count": 4,
   "metadata": {},
   "outputs": [],
   "source": [
    "class Chips:\n",
    "#     This class will define the amount of money that the player has.  \n",
    "#     It will allow them to determine balance, place bets, win, and lose\n",
    "    \n",
    "    def __init__(self,bal=0):\n",
    "        self.bal = bal\n",
    "    \n",
    "    def bet(self):\n",
    "#         This string will be called every time the player places a bet\n",
    "        print (\"how much would you like to bet?\")\n",
    "        hold = False\n",
    "        while hold == False:\n",
    "            try:\n",
    "                winnings = int(input())\n",
    "                if winnings > self.bal:\n",
    "                    print(\"Who do you think you are, Midas?  You don't have that much money!!\")\n",
    "                    hold = False\n",
    "                else:\n",
    "                    hold = True\n",
    "            except ValueError:\n",
    "                print(\"sorry that's not a number, please place a bet.\")\n",
    "                hold = False\n",
    "            finally:\n",
    "                winnings = int(winnings)\n",
    "        \n",
    "#     def __str__(self):\n",
    "# #         this string is used to identify the balance and ask for a bet\n",
    "#         self.bal = str(self.bal)\n",
    "#         return(f\"The Player's current balance is ${self.bal}\")\n",
    "#         bet = int(input())\n",
    "#         print(bet)\n",
    "    \n",
    "    def win(self):\n",
    "#         This method can be called to add winnings and present a new balance\n",
    "        self.bal = int(self.bal)\n",
    "        self.bal = self.bal + (2*winnings)\n",
    "        return (f\"Your new balance is {self.bal}\")\n",
    "    \n",
    "    def lose(self,lose):\n",
    "#         This method can be called when the player loses\n",
    "        self.bal = int(self.bal)\n",
    "        self.bal = self.bal - lose\n",
    "        if self.bal < 1:\n",
    "            print(\"sorry, you've lost the game...\")\n",
    "        else:\n",
    "            print(f\"Your new balance is {self.bal}\")\n",
    "            return self.bal\n",
    "    \n",
    "    \n",
    "        \n",
    "        \n",
    "        \n",
    "        "
   ]
  },
  {
   "cell_type": "code",
   "execution_count": 7,
   "metadata": {},
   "outputs": [],
   "source": [
    "money = Chips(10)"
   ]
  },
  {
   "cell_type": "code",
   "execution_count": 8,
   "metadata": {},
   "outputs": [
    {
     "name": "stdout",
     "output_type": "stream",
     "text": [
      "how much would you like to bet?\n",
      "10\n"
     ]
    }
   ],
   "source": [
    "money.bet()"
   ]
  },
  {
   "cell_type": "code",
   "execution_count": 9,
   "metadata": {},
   "outputs": [
    {
     "ename": "TypeError",
     "evalue": "win() missing 1 required positional argument: 'winnings'",
     "output_type": "error",
     "traceback": [
      "\u001b[1;31m---------------------------------------------------------------------------\u001b[0m",
      "\u001b[1;31mTypeError\u001b[0m                                 Traceback (most recent call last)",
      "\u001b[1;32m<ipython-input-9-7a240598b40d>\u001b[0m in \u001b[0;36m<module>\u001b[1;34m\u001b[0m\n\u001b[1;32m----> 1\u001b[1;33m \u001b[0mmoney\u001b[0m\u001b[1;33m.\u001b[0m\u001b[0mwin\u001b[0m\u001b[1;33m(\u001b[0m\u001b[1;33m)\u001b[0m\u001b[1;33m\u001b[0m\u001b[1;33m\u001b[0m\u001b[0m\n\u001b[0m",
      "\u001b[1;31mTypeError\u001b[0m: win() missing 1 required positional argument: 'winnings'"
     ]
    }
   ],
   "source": [
    "money.win()"
   ]
  },
  {
   "cell_type": "code",
   "execution_count": 59,
   "metadata": {},
   "outputs": [
    {
     "name": "stdout",
     "output_type": "stream",
     "text": [
      "Your new balance is 60\n"
     ]
    },
    {
     "data": {
      "text/plain": [
       "60"
      ]
     },
     "execution_count": 59,
     "metadata": {},
     "output_type": "execute_result"
    }
   ],
   "source": [
    "money.lose(50)"
   ]
  },
  {
   "cell_type": "code",
   "execution_count": 60,
   "metadata": {},
   "outputs": [
    {
     "name": "stdout",
     "output_type": "stream",
     "text": [
      "The Player's current balance is $60\n"
     ]
    }
   ],
   "source": [
    "print(money)"
   ]
  },
  {
   "cell_type": "code",
   "execution_count": 3,
   "metadata": {},
   "outputs": [
    {
     "name": "stdout",
     "output_type": "stream",
     "text": [
      "how much would you like to bet?\n",
      "5\n"
     ]
    },
    {
     "ename": "TypeError",
     "evalue": "int() argument must be a string, a bytes-like object or a number, not 'NoneType'",
     "output_type": "error",
     "traceback": [
      "\u001b[1;31m---------------------------------------------------------------------------\u001b[0m",
      "\u001b[1;31mTypeError\u001b[0m                                 Traceback (most recent call last)",
      "\u001b[1;32m<ipython-input-3-d49617137445>\u001b[0m in \u001b[0;36m<module>\u001b[1;34m\u001b[0m\n\u001b[1;32m----> 1\u001b[1;33m \u001b[0mx\u001b[0m \u001b[1;33m=\u001b[0m \u001b[0mint\u001b[0m\u001b[1;33m(\u001b[0m\u001b[0mmoney\u001b[0m\u001b[1;33m.\u001b[0m\u001b[0mbet\u001b[0m\u001b[1;33m(\u001b[0m\u001b[1;33m)\u001b[0m\u001b[1;33m)\u001b[0m\u001b[1;33m\u001b[0m\u001b[1;33m\u001b[0m\u001b[0m\n\u001b[0m\u001b[0;32m      2\u001b[0m \u001b[0mmoney\u001b[0m\u001b[1;33m.\u001b[0m\u001b[0mwin\u001b[0m\u001b[1;33m(\u001b[0m\u001b[0mx\u001b[0m\u001b[1;33m)\u001b[0m\u001b[1;33m\u001b[0m\u001b[1;33m\u001b[0m\u001b[0m\n",
      "\u001b[1;31mTypeError\u001b[0m: int() argument must be a string, a bytes-like object or a number, not 'NoneType'"
     ]
    }
   ],
   "source": [
    "x = int(money.bet())\n",
    "money.win(x)"
   ]
  },
  {
   "cell_type": "markdown",
   "metadata": {},
   "source": [
    "gobal variables and cards class\n",
    "the card class sets up the list of suits and card values but doesn't tether the two"
   ]
  },
  {
   "cell_type": "code",
   "execution_count": 90,
   "metadata": {},
   "outputs": [],
   "source": [
    "suits = ('Hearts', 'Diamonds', 'Spades', 'Clubs')\n",
    "ranks = ('Two', 'Three', 'Four', 'Five', 'Six', 'Seven', 'Eight', 'Nine', 'Ten', 'Jack', 'Queen', 'King', 'Ace')\n",
    "values = {'Two':2, 'Three':3, 'Four':4, 'Five':5, 'Six':6, 'Seven':7, 'Eight':8, \n",
    "            'Nine':9, 'Ten':10, 'Jack':11, 'Queen':12, 'King':13, 'Ace':14}\n",
    "\n",
    "\n",
    "\n",
    "class Card:\n",
    "#     the card class will set up the cards with value and suit\n",
    "    def __init__(self, suit, rank):\n",
    "        self.suit = suit\n",
    "        self.rank = rank\n",
    "        self.value = values[rank]\n",
    "        \n",
    "    def __str__(self):\n",
    "        return self.rank + ' of ' + self.suit"
   ]
  },
  {
   "cell_type": "code",
   "execution_count": 20,
   "metadata": {},
   "outputs": [
    {
     "data": {
      "text/plain": [
       "'Hearts'"
      ]
     },
     "execution_count": 20,
     "metadata": {},
     "output_type": "execute_result"
    }
   ],
   "source": [
    "suits[0]"
   ]
  },
  {
   "cell_type": "code",
   "execution_count": 21,
   "metadata": {},
   "outputs": [
    {
     "data": {
      "text/plain": [
       "'Two'"
      ]
     },
     "execution_count": 21,
     "metadata": {},
     "output_type": "execute_result"
    }
   ],
   "source": [
    "ranks[0]"
   ]
  },
  {
   "cell_type": "markdown",
   "metadata": {},
   "source": [
    "Deck class will be used to create the deck of 52 cards, each with a value (rank) and suit, and then shuffle that deck"
   ]
  },
  {
   "cell_type": "code",
   "execution_count": 72,
   "metadata": {},
   "outputs": [],
   "source": [
    "class Deck:\n",
    "    \n",
    "    def __init__(self):\n",
    "        \n",
    "        self.all_cards = []\n",
    "        for suit in suits:\n",
    "            for rank in ranks:\n",
    "#                 this assumes the card class has alreday been defined\n",
    "                self.all_cards.append(Card(suit,rank))\n",
    "    \n",
    "    def shuffle(self):\n",
    "        import random\n",
    "#         this method doesn't return anything but it will randomize the cards\n",
    "        random.shuffle(self.all_cards)\n",
    "    \n",
    "    def deal_one(self):\n",
    "#         Note we remove one card from the list of all_cards\n",
    "#         this method will be used to increase card count\n",
    "        return self.all_cards.pop()\n",
    "\n",
    "   \n",
    "        \n",
    "        \n",
    "#         self.dealer = self.dealer + self.all_cards.pop()\n",
    "#         print(self.dealer)"
   ]
  },
  {
   "cell_type": "code",
   "execution_count": 73,
   "metadata": {},
   "outputs": [],
   "source": [
    "mydeck = Deck()"
   ]
  },
  {
   "cell_type": "code",
   "execution_count": 77,
   "metadata": {},
   "outputs": [],
   "source": [
    "mydeck.shuffle()"
   ]
  },
  {
   "cell_type": "code",
   "execution_count": 79,
   "metadata": {},
   "outputs": [
    {
     "ename": "AttributeError",
     "evalue": "'Card' object has no attribute 'split'",
     "output_type": "error",
     "traceback": [
      "\u001b[1;31m---------------------------------------------------------------------------\u001b[0m",
      "\u001b[1;31mAttributeError\u001b[0m                            Traceback (most recent call last)",
      "\u001b[1;32m<ipython-input-79-bf4a618a6b1c>\u001b[0m in \u001b[0;36m<module>\u001b[1;34m\u001b[0m\n\u001b[1;32m----> 1\u001b[1;33m \u001b[0mmydeck\u001b[0m\u001b[1;33m.\u001b[0m\u001b[0mdeal_hand\u001b[0m\u001b[1;33m(\u001b[0m\u001b[1;33m)\u001b[0m\u001b[1;33m\u001b[0m\u001b[1;33m\u001b[0m\u001b[0m\n\u001b[0m",
      "\u001b[1;32m<ipython-input-72-2047b8a9e532>\u001b[0m in \u001b[0;36mdeal_hand\u001b[1;34m(self)\u001b[0m\n\u001b[0;32m     22\u001b[0m \u001b[1;31m#         This method will be used to initiate a hand of cards for the player and dealer\u001b[0m\u001b[1;33m\u001b[0m\u001b[1;33m\u001b[0m\u001b[1;33m\u001b[0m\u001b[0m\n\u001b[0;32m     23\u001b[0m         \u001b[0mself\u001b[0m\u001b[1;33m.\u001b[0m\u001b[0mdealer\u001b[0m \u001b[1;33m=\u001b[0m \u001b[0mself\u001b[0m\u001b[1;33m.\u001b[0m\u001b[0mall_cards\u001b[0m\u001b[1;33m.\u001b[0m\u001b[0mpop\u001b[0m\u001b[1;33m(\u001b[0m\u001b[1;33m)\u001b[0m\u001b[1;33m\u001b[0m\u001b[1;33m\u001b[0m\u001b[0m\n\u001b[1;32m---> 24\u001b[1;33m         \u001b[0mhand\u001b[0m \u001b[1;33m=\u001b[0m \u001b[0mself\u001b[0m\u001b[1;33m.\u001b[0m\u001b[0mdealer\u001b[0m\u001b[1;33m.\u001b[0m\u001b[0msplit\u001b[0m\u001b[1;33m(\u001b[0m\u001b[1;34m\" \"\u001b[0m\u001b[1;33m)\u001b[0m\u001b[1;33m\u001b[0m\u001b[1;33m\u001b[0m\u001b[0m\n\u001b[0m\u001b[0;32m     25\u001b[0m         \u001b[0mprint\u001b[0m\u001b[1;33m(\u001b[0m\u001b[0mself\u001b[0m\u001b[1;33m.\u001b[0m\u001b[0mdealer\u001b[0m\u001b[1;33m)\u001b[0m\u001b[1;33m\u001b[0m\u001b[1;33m\u001b[0m\u001b[0m\n\u001b[0;32m     26\u001b[0m         \u001b[0mself\u001b[0m\u001b[1;33m.\u001b[0m\u001b[0mdealer\u001b[0m \u001b[1;33m=\u001b[0m \u001b[0mself\u001b[0m\u001b[1;33m.\u001b[0m\u001b[0mall_cards\u001b[0m\u001b[1;33m.\u001b[0m\u001b[0mpop\u001b[0m\u001b[1;33m(\u001b[0m\u001b[1;33m)\u001b[0m\u001b[1;33m\u001b[0m\u001b[1;33m\u001b[0m\u001b[0m\n",
      "\u001b[1;31mAttributeError\u001b[0m: 'Card' object has no attribute 'split'"
     ]
    }
   ],
   "source": [
    "mydeck.deal_hand()"
   ]
  },
  {
   "cell_type": "code",
   "execution_count": 92,
   "metadata": {},
   "outputs": [
    {
     "name": "stdout",
     "output_type": "stream",
     "text": [
      "14\n"
     ]
    }
   ],
   "source": [
    "dealer = \"Ace of Hearts\"\n",
    "player_count = dealer.split()\n",
    "num = player_count[0]\n",
    "print(values['Ace'])"
   ]
  },
  {
   "cell_type": "code",
   "execution_count": null,
   "metadata": {},
   "outputs": [],
   "source": [
    "class Player:\n",
    "    \n",
    "    def __init__(self.name):\n",
    "        self.name = name\n",
    "        self.all_cards = []\n",
    "    \n",
    "    \n",
    "     def deal_hand(self):\n",
    "#         This method will be used to initiate a hand of cards for the player and dealer\n",
    "        self.dealer = self.all_cards.pop()\n",
    "        hand = self.dealer.split()\n",
    "        \n",
    "        print(self.dealer)\n",
    "        self.dealer = self.all_cards.pop()\n",
    "        \n",
    "        print(self.dealer)\n",
    "        \n",
    "        dealer = \"Ace of Hearts\"\n",
    "player_count = dealer.split()\n",
    "num = player_count[0]\n",
    "print(values['Ace'])"
   ]
  },
  {
   "cell_type": "code",
   "execution_count": null,
   "metadata": {},
   "outputs": [],
   "source": []
  }
 ],
 "metadata": {
  "kernelspec": {
   "display_name": "Python 3",
   "language": "python",
   "name": "python3"
  },
  "language_info": {
   "codemirror_mode": {
    "name": "ipython",
    "version": 3
   },
   "file_extension": ".py",
   "mimetype": "text/x-python",
   "name": "python",
   "nbconvert_exporter": "python",
   "pygments_lexer": "ipython3",
   "version": "3.8.5"
  }
 },
 "nbformat": 4,
 "nbformat_minor": 4
}
