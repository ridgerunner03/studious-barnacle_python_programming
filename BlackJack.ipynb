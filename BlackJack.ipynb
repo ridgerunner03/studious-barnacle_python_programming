{
 "cells": [
  {
   "cell_type": "markdown",
   "metadata": {},
   "source": [
    "computer dealer and one human player\n",
    "\n",
    "player places bet\n",
    "\n",
    "dealers presents one card face up and one card face down\n",
    "player recieves two cards face up\n",
    "player can hit or stay\n",
    "\n",
    "Goal is:\n",
    "    dealer<player<21\n",
    "    if dealer > 21:\n",
    "        Player wins\n",
    "    if player > 21:\n",
    "        Player busts\n",
    "        \n",
    "face cards = 10\n",
    "aces = 1 or 11\n",
    "\n",
    "classes needed:\n",
    "BankRole\n",
    "Cards\n",
    "Deck\n",
    "PlayerHand"
   ]
  },
  {
   "cell_type": "markdown",
   "metadata": {},
   "source": [
    "chips class will be used to keep track of how much money the player has to bid."
   ]
  },
  {
   "cell_type": "code",
   "execution_count": 43,
   "metadata": {},
   "outputs": [],
   "source": [
    "class Chips:\n",
    "#     This class will define the amount of money that the player has.  \n",
    "#     It will allow them to determine balance, place bets, win, and lose\n",
    "    \n",
    "    def __init__(self,bal=100):\n",
    "        self.bal = bal \n",
    "        self.bet = 0\n",
    "        print(f\"your balance is {self.bal}\")\n",
    "        \n",
    "    \n",
    "    def take_bet(chips):\n",
    "#         This string will be called every time the player places a bet\n",
    "        print (\"how much would you like to bet?\")\n",
    "        hold = False\n",
    "        while hold == False:\n",
    "            try:\n",
    "                chips.bet = int(input())\n",
    "                if chips.bet > chips.bal:\n",
    "                    print(\"Who do you think you are, Midas?  You don't have that much money!!\")\n",
    "                    hold = False\n",
    "                else:\n",
    "                    hold = True\n",
    "            except ValueError:\n",
    "                print(\"sorry that's not a number, please place a bet.\")\n",
    "                hold = False\n",
    "            \n",
    "        \n",
    "#     def __str__(self):\n",
    "# #         this string is used to identify the balance and ask for a bet\n",
    "#         self.bal = str(self.bal)\n",
    "#         return(f\"The Player's current balance is ${self.bal}\")\n",
    "#         bet = int(input())\n",
    "#         print(bet)\n",
    "    \n",
    "    def win_bet(self):\n",
    "#         This method can be called to add winnings and present a new balance\n",
    "        self.bal = int(self.bal)\n",
    "        self.bal = self.bal + (2*self.bet)\n",
    "        return (f\"Your new balance is {self.bal}\")\n",
    "    \n",
    "    def lose_bet(self):\n",
    "#         This method can be called when the player loses\n",
    "        self.bal = int(self.bal)\n",
    "        self.bal = self.bal - self.bet\n",
    "        if self.bal < 1:\n",
    "            print(\"sorry, you've lost the game...\")\n",
    "        else:\n",
    "            print(f\"Your new balance is {self.bal}\")\n",
    "    \n",
    "#     def take_bet(chips): \n",
    "#         while True:\n",
    "#             try:\n",
    "#                 chips.bet = int(input('How many chips would you like to bet:  ')\n",
    "#             except ValueError:     #i was getting a syntax error on this when i ran it\n",
    "#                 print('Sorry, a bet must be an integer!')\n",
    "#             else:\n",
    "#                 if chips.bet > chips.bal:\n",
    "#                     print(f\"Sorry, your bet can't exceed{chips.bal}\")\n",
    "#                 else:\n",
    "#                     break\n",
    "        \n",
    "        \n",
    "        "
   ]
  },
  {
   "cell_type": "code",
   "execution_count": 44,
   "metadata": {},
   "outputs": [
    {
     "name": "stdout",
     "output_type": "stream",
     "text": [
      "your balance is 100\n",
      "how much would you like to bet?\n",
      "23\n"
     ]
    }
   ],
   "source": [
    "player_chips = Chips()\n",
    "player_chips.take_bet()"
   ]
  },
  {
   "cell_type": "code",
   "execution_count": 24,
   "metadata": {},
   "outputs": [],
   "source": [
    "money = Chips(100)"
   ]
  },
  {
   "cell_type": "code",
   "execution_count": 25,
   "metadata": {},
   "outputs": [
    {
     "name": "stdout",
     "output_type": "stream",
     "text": [
      "how much would you like to bet?\n",
      "2\n"
     ]
    }
   ],
   "source": [
    "money.take_bet()"
   ]
  },
  {
   "cell_type": "code",
   "execution_count": null,
   "metadata": {},
   "outputs": [],
   "source": []
  },
  {
   "cell_type": "code",
   "execution_count": 156,
   "metadata": {},
   "outputs": [
    {
     "name": "stdout",
     "output_type": "stream",
     "text": [
      "Your new balance is 98\n"
     ]
    }
   ],
   "source": [
    "money.lose_bet()"
   ]
  },
  {
   "cell_type": "code",
   "execution_count": 157,
   "metadata": {},
   "outputs": [
    {
     "name": "stdout",
     "output_type": "stream",
     "text": [
      "<__main__.Chips object at 0x0000024B8034BB20>\n"
     ]
    }
   ],
   "source": [
    "print(money)"
   ]
  },
  {
   "cell_type": "code",
   "execution_count": 53,
   "metadata": {},
   "outputs": [
    {
     "name": "stdout",
     "output_type": "stream",
     "text": [
      "how much would you like to bet?\n",
      "2\n"
     ]
    },
    {
     "ename": "TypeError",
     "evalue": "int() argument must be a string, a bytes-like object or a number, not 'NoneType'",
     "output_type": "error",
     "traceback": [
      "\u001b[1;31m---------------------------------------------------------------------------\u001b[0m",
      "\u001b[1;31mTypeError\u001b[0m                                 Traceback (most recent call last)",
      "\u001b[1;32m<ipython-input-53-d49617137445>\u001b[0m in \u001b[0;36m<module>\u001b[1;34m\u001b[0m\n\u001b[1;32m----> 1\u001b[1;33m \u001b[0mx\u001b[0m \u001b[1;33m=\u001b[0m \u001b[0mint\u001b[0m\u001b[1;33m(\u001b[0m\u001b[0mmoney\u001b[0m\u001b[1;33m.\u001b[0m\u001b[0mbet\u001b[0m\u001b[1;33m(\u001b[0m\u001b[1;33m)\u001b[0m\u001b[1;33m)\u001b[0m\u001b[1;33m\u001b[0m\u001b[1;33m\u001b[0m\u001b[0m\n\u001b[0m\u001b[0;32m      2\u001b[0m \u001b[0mmoney\u001b[0m\u001b[1;33m.\u001b[0m\u001b[0mwin\u001b[0m\u001b[1;33m(\u001b[0m\u001b[0mx\u001b[0m\u001b[1;33m)\u001b[0m\u001b[1;33m\u001b[0m\u001b[1;33m\u001b[0m\u001b[0m\n",
      "\u001b[1;31mTypeError\u001b[0m: int() argument must be a string, a bytes-like object or a number, not 'NoneType'"
     ]
    }
   ],
   "source": [
    "x = int(money.bet())\n",
    "money.win(x)"
   ]
  },
  {
   "cell_type": "markdown",
   "metadata": {},
   "source": [
    "gobal variables and cards class\n",
    "the card class sets up the list of suits and card values but doesn't tether the two"
   ]
  },
  {
   "cell_type": "code",
   "execution_count": 2,
   "metadata": {},
   "outputs": [],
   "source": [
    "suits = ('Hearts', 'Diamonds', 'Spades', 'Clubs')\n",
    "ranks = ('Two', 'Three', 'Four', 'Five', 'Six', 'Seven', 'Eight', 'Nine', 'Ten', 'Jack', 'Queen', 'King', 'Ace')\n",
    "values = {'Two':2, 'Three':3, 'Four':4, 'Five':5, 'Six':6, 'Seven':7, 'Eight':8, \n",
    "            'Nine':9, 'Ten':10, 'Jack':10, 'Queen':10, 'King':10, 'Ace':11}\n",
    "game_on = True\n",
    "\n",
    "\n",
    "class Card:\n",
    "#     the card class will set up the cards with value and suit\n",
    "    def __init__(self, suit, rank):\n",
    "        self.suit = suit\n",
    "        self.rank = rank\n",
    "#         self.value = values[rank]\n",
    "        \n",
    "    def __str__(self):\n",
    "        return self.rank + ' of ' + self.suit"
   ]
  },
  {
   "cell_type": "code",
   "execution_count": 159,
   "metadata": {},
   "outputs": [
    {
     "data": {
      "text/plain": [
       "'Hearts'"
      ]
     },
     "execution_count": 159,
     "metadata": {},
     "output_type": "execute_result"
    }
   ],
   "source": [
    "suits[0]"
   ]
  },
  {
   "cell_type": "code",
   "execution_count": 160,
   "metadata": {},
   "outputs": [
    {
     "data": {
      "text/plain": [
       "'Two'"
      ]
     },
     "execution_count": 160,
     "metadata": {},
     "output_type": "execute_result"
    }
   ],
   "source": [
    "ranks[0]"
   ]
  },
  {
   "cell_type": "markdown",
   "metadata": {},
   "source": [
    "Deck class will be used to create the deck of 52 cards, each with a value (rank) and suit, and then shuffle that deck"
   ]
  },
  {
   "cell_type": "code",
   "execution_count": 3,
   "metadata": {},
   "outputs": [],
   "source": [
    "class Deck:\n",
    "    \n",
    "    def __init__(self):\n",
    "        \n",
    "        self.all_cards = []\n",
    "        for suit in suits:\n",
    "            for rank in ranks:\n",
    "#                 this assumes the card class has alreday been defined\n",
    "                self.all_cards.append(Card(suit,rank))\n",
    "    \n",
    "    def __str__(self):\n",
    "#         I think this will return each card in the deck\n",
    "        complete_deck = ''\n",
    "        for card in self.all_cards:\n",
    "            complete_deck += '\\n' + card.__str__()\n",
    "        return 'The deck has: ' + complete_deck\n",
    "    \n",
    "    \n",
    "    def shuffle(self):\n",
    "        import random\n",
    "#         this method doesn't return anything but it will randomize the cards\n",
    "        random.shuffle(self.all_cards)\n",
    "    \n",
    "    def deal(self):\n",
    "#         Note we remove one card from the list of all_cards\n",
    "#         this method will be used to increase card count\n",
    "        return self.all_cards.pop()\n",
    "\n",
    "   \n",
    "        \n",
    "        \n",
    "#         self.dealer = self.dealer + self.all_cards.pop()\n",
    "#         print(self.dealer)"
   ]
  },
  {
   "cell_type": "code",
   "execution_count": 162,
   "metadata": {},
   "outputs": [],
   "source": [
    "mydeck = Deck()"
   ]
  },
  {
   "cell_type": "code",
   "execution_count": 163,
   "metadata": {},
   "outputs": [
    {
     "name": "stdout",
     "output_type": "stream",
     "text": [
      "The deck has: \n",
      "Two of Hearts\n",
      "Three of Hearts\n",
      "Four of Hearts\n",
      "Five of Hearts\n",
      "Six of Hearts\n",
      "Seven of Hearts\n",
      "Eight of Hearts\n",
      "Nine of Hearts\n",
      "Ten of Hearts\n",
      "Jack of Hearts\n",
      "Queen of Hearts\n",
      "King of Hearts\n",
      "Ace of Hearts\n",
      "Two of Diamonds\n",
      "Three of Diamonds\n",
      "Four of Diamonds\n",
      "Five of Diamonds\n",
      "Six of Diamonds\n",
      "Seven of Diamonds\n",
      "Eight of Diamonds\n",
      "Nine of Diamonds\n",
      "Ten of Diamonds\n",
      "Jack of Diamonds\n",
      "Queen of Diamonds\n",
      "King of Diamonds\n",
      "Ace of Diamonds\n",
      "Two of Spades\n",
      "Three of Spades\n",
      "Four of Spades\n",
      "Five of Spades\n",
      "Six of Spades\n",
      "Seven of Spades\n",
      "Eight of Spades\n",
      "Nine of Spades\n",
      "Ten of Spades\n",
      "Jack of Spades\n",
      "Queen of Spades\n",
      "King of Spades\n",
      "Ace of Spades\n",
      "Two of Clubs\n",
      "Three of Clubs\n",
      "Four of Clubs\n",
      "Five of Clubs\n",
      "Six of Clubs\n",
      "Seven of Clubs\n",
      "Eight of Clubs\n",
      "Nine of Clubs\n",
      "Ten of Clubs\n",
      "Jack of Clubs\n",
      "Queen of Clubs\n",
      "King of Clubs\n",
      "Ace of Clubs\n"
     ]
    }
   ],
   "source": [
    "print(mydeck)\n",
    "# But really, don't do it, it is terribly long"
   ]
  },
  {
   "cell_type": "code",
   "execution_count": 164,
   "metadata": {},
   "outputs": [],
   "source": [
    "card = mydeck.all_cards[0]"
   ]
  },
  {
   "cell_type": "code",
   "execution_count": 165,
   "metadata": {},
   "outputs": [
    {
     "name": "stdout",
     "output_type": "stream",
     "text": [
      "Two of Hearts\n"
     ]
    }
   ],
   "source": [
    "print(card)"
   ]
  },
  {
   "cell_type": "code",
   "execution_count": 166,
   "metadata": {},
   "outputs": [],
   "source": [
    "mydeck.shuffle()"
   ]
  },
  {
   "cell_type": "code",
   "execution_count": 167,
   "metadata": {},
   "outputs": [],
   "source": [
    "card2 = mydeck.all_cards[0]"
   ]
  },
  {
   "cell_type": "code",
   "execution_count": 168,
   "metadata": {},
   "outputs": [
    {
     "name": "stdout",
     "output_type": "stream",
     "text": [
      "Five of Hearts\n"
     ]
    }
   ],
   "source": [
    "print(card2)"
   ]
  },
  {
   "cell_type": "code",
   "execution_count": 169,
   "metadata": {},
   "outputs": [
    {
     "name": "stdout",
     "output_type": "stream",
     "text": [
      "Ace\n",
      "11\n"
     ]
    }
   ],
   "source": [
    "dealer = \"Ace of Hearts\"\n",
    "player_count = dealer.split()\n",
    "num = player_count[0]\n",
    "print(num)\n",
    "print(values[num])"
   ]
  },
  {
   "cell_type": "code",
   "execution_count": 4,
   "metadata": {},
   "outputs": [],
   "source": [
    "class Hand:\n",
    "    \n",
    "    def __init__(self):\n",
    "        self.cards = []\n",
    "        self.value = 0\n",
    "        self.aces = 0\n",
    "       \n",
    "    def add_card(self, card):\n",
    "        self.cards.append(card)\n",
    "        self.value += values[card.rank]\n",
    "        if card.rank == \"Ace\":\n",
    "#             This will track how many aces are in our hand\n",
    "#             see adjust_for_aces\n",
    "            self.aces += 1 \n",
    "        \n",
    "    def adjust_for_ace(self):\n",
    "#         with the aces method variable above \n",
    "#         this will be used to adjust the value of aces\n",
    "#         from 11 to 1 when our total hand value is above 21\n",
    "        while self.value > 21 and self.aces:\n",
    "            self.value -=10\n",
    "            self.aces -= 1\n",
    "        \n",
    "        \n",
    "   "
   ]
  },
  {
   "cell_type": "code",
   "execution_count": 5,
   "metadata": {},
   "outputs": [
    {
     "data": {
      "text/plain": [
       "16"
      ]
     },
     "execution_count": 5,
     "metadata": {},
     "output_type": "execute_result"
    }
   ],
   "source": [
    "mydeck = Deck()\n",
    "mydeck.shuffle()\n",
    "test_player = Hand()\n",
    "test_player.add_card(mydeck.deal())\n",
    "test_player.add_card(mydeck.deal())\n",
    "test_player.value"
   ]
  },
  {
   "cell_type": "code",
   "execution_count": 6,
   "metadata": {},
   "outputs": [
    {
     "name": "stdout",
     "output_type": "stream",
     "text": [
      "Queen of Clubs\n",
      "Six of Diamonds\n"
     ]
    }
   ],
   "source": [
    "for card in test_player.cards:\n",
    "    print(card)"
   ]
  },
  {
   "cell_type": "code",
   "execution_count": 173,
   "metadata": {},
   "outputs": [
    {
     "ename": "AttributeError",
     "evalue": "'Deck' object has no attribute 'pop'",
     "output_type": "error",
     "traceback": [
      "\u001b[1;31m---------------------------------------------------------------------------\u001b[0m",
      "\u001b[1;31mAttributeError\u001b[0m                            Traceback (most recent call last)",
      "\u001b[1;32m<ipython-input-173-6b7ddd70a37d>\u001b[0m in \u001b[0;36m<module>\u001b[1;34m\u001b[0m\n\u001b[1;32m----> 1\u001b[1;33m \u001b[0mnew_player\u001b[0m\u001b[1;33m.\u001b[0m\u001b[0mdeal_hand\u001b[0m\u001b[1;33m(\u001b[0m\u001b[1;33m)\u001b[0m\u001b[1;33m\u001b[0m\u001b[1;33m\u001b[0m\u001b[0m\n\u001b[0m",
      "\u001b[1;32m<ipython-input-102-3b3979953945>\u001b[0m in \u001b[0;36mdeal_hand\u001b[1;34m(self)\u001b[0m\n\u001b[0;32m     11\u001b[0m     \u001b[1;32mdef\u001b[0m \u001b[0mdeal_hand\u001b[0m\u001b[1;33m(\u001b[0m\u001b[0mself\u001b[0m\u001b[1;33m)\u001b[0m\u001b[1;33m:\u001b[0m\u001b[1;33m\u001b[0m\u001b[1;33m\u001b[0m\u001b[0m\n\u001b[0;32m     12\u001b[0m \u001b[1;31m#         This method will be used to initiate a hand of cards for the player and dealer\u001b[0m\u001b[1;33m\u001b[0m\u001b[1;33m\u001b[0m\u001b[1;33m\u001b[0m\u001b[0m\n\u001b[1;32m---> 13\u001b[1;33m         \u001b[0mself\u001b[0m\u001b[1;33m.\u001b[0m\u001b[0mdealer\u001b[0m \u001b[1;33m=\u001b[0m \u001b[0mself\u001b[0m\u001b[1;33m.\u001b[0m\u001b[0mall_cards\u001b[0m\u001b[1;33m.\u001b[0m\u001b[0mpop\u001b[0m\u001b[1;33m(\u001b[0m\u001b[1;33m)\u001b[0m\u001b[1;33m\u001b[0m\u001b[1;33m\u001b[0m\u001b[0m\n\u001b[0m\u001b[0;32m     14\u001b[0m         \u001b[0mprint\u001b[0m\u001b[1;33m(\u001b[0m\u001b[0mself\u001b[0m\u001b[1;33m.\u001b[0m\u001b[0mdealer\u001b[0m\u001b[1;33m)\u001b[0m\u001b[1;33m\u001b[0m\u001b[1;33m\u001b[0m\u001b[0m\n\u001b[0;32m     15\u001b[0m \u001b[1;31m#         card_list = dealer.split()\u001b[0m\u001b[1;33m\u001b[0m\u001b[1;33m\u001b[0m\u001b[1;33m\u001b[0m\u001b[0m\n",
      "\u001b[1;31mAttributeError\u001b[0m: 'Deck' object has no attribute 'pop'"
     ]
    }
   ],
   "source": [
    "new_player.deal_hand()"
   ]
  },
  {
   "cell_type": "markdown",
   "metadata": {},
   "source": [
    "##Game Logic\n",
    "\n",
    "this will cover asking to initiate game, end game, dealer hand, and the mechanics of hitting and staying"
   ]
  },
  {
   "cell_type": "code",
   "execution_count": 7,
   "metadata": {},
   "outputs": [],
   "source": [
    "def hit(deck,hand):\n",
    "    \n",
    "    hand.add_card(deck.deal())\n",
    "    hand.adjust_for_ace()"
   ]
  },
  {
   "cell_type": "code",
   "execution_count": 8,
   "metadata": {},
   "outputs": [],
   "source": [
    "def hit_or_stand(deck,hand):\n",
    "    global playing\n",
    "    \n",
    "    while True:\n",
    "        x = input(\"Would you like to hit (h) or stand (s)? Enter 'h' or 'S'\")\n",
    "        \n",
    "        if x[0].lower() == 'h':\n",
    "            hit(deck,hand)\n",
    "            \n",
    "        elif x[0].lower() =='s':\n",
    "            print(\"Player stands.  Dealer is playing...\")\n",
    "            playing = False\n",
    "            \n",
    "        else:\n",
    "            print(\"Sorry, please try again.\")\n",
    "            continue\n",
    "        break"
   ]
  },
  {
   "cell_type": "code",
   "execution_count": 9,
   "metadata": {},
   "outputs": [],
   "source": [
    "def show_some(player,dealer):\n",
    "    print(\"\\nDealer's Hand:\")\n",
    "    print(\" <card hidden>\")\n",
    "    print('',dealer.cards[1])\n",
    "    print(\"\\nPlayer's Hand: \", *player.cards, sep='\\n ')\n",
    "    \n",
    "def show_all(player,dealer):\n",
    "    print(\"\\nDealer's Hand: \", *dealer.cards, sep='\\n ')\n",
    "    print(\"Dealer's Hand =\",dealer.value)\n",
    "    print(\"\\nPlayer's Hand: \", player.cards, sep='\\n ')\n",
    "    print(\"Player's Hand =\", player.value)"
   ]
  },
  {
   "cell_type": "code",
   "execution_count": 10,
   "metadata": {},
   "outputs": [],
   "source": [
    "def player_busts(player, dealer, chips):\n",
    "    print(\"Player busts!\")\n",
    "    chips.lose_bet()\n",
    "    \n",
    "def player_wins(player, dealer, chips):\n",
    "    print(\"Player wins!\")\n",
    "    chips.win_bet()\n",
    "    \n",
    "def dealer_wins(player, dealer, chips):\n",
    "    print(\"Dealer wins!\")\n",
    "    chips.lose_bet()\n",
    "    \n",
    "def push(player, dealer):\n",
    "    print(\"Dealer and Player tie!  It's a push.\")\n",
    "    "
   ]
  },
  {
   "cell_type": "code",
   "execution_count": 12,
   "metadata": {},
   "outputs": [
    {
     "name": "stdout",
     "output_type": "stream",
     "text": [
      "Welcome to BlackJack!  Try to get as close to 21 without going over. \n",
      "Face cards count as 10 Aces can count as 11 or 1.\n",
      "If you beat the dealer you win!\n"
     ]
    },
    {
     "ename": "NameError",
     "evalue": "name 'take_bet' is not defined",
     "output_type": "error",
     "traceback": [
      "\u001b[1;31m---------------------------------------------------------------------------\u001b[0m",
      "\u001b[1;31mNameError\u001b[0m                                 Traceback (most recent call last)",
      "\u001b[1;32m<ipython-input-12-c1f4156d5119>\u001b[0m in \u001b[0;36m<module>\u001b[1;34m\u001b[0m\n\u001b[0;32m     17\u001b[0m \u001b[1;31m#     Set up the Player's chips\u001b[0m\u001b[1;33m\u001b[0m\u001b[1;33m\u001b[0m\u001b[1;33m\u001b[0m\u001b[0m\n\u001b[0;32m     18\u001b[0m     \u001b[0mplayer_chips\u001b[0m \u001b[1;33m=\u001b[0m \u001b[0mChips\u001b[0m\u001b[1;33m(\u001b[0m\u001b[1;33m)\u001b[0m\u001b[1;33m\u001b[0m\u001b[1;33m\u001b[0m\u001b[0m\n\u001b[1;32m---> 19\u001b[1;33m     \u001b[0mtake_bet\u001b[0m\u001b[1;33m(\u001b[0m\u001b[0mplayer_chips\u001b[0m\u001b[1;33m)\u001b[0m\u001b[1;33m\u001b[0m\u001b[1;33m\u001b[0m\u001b[0m\n\u001b[0m\u001b[0;32m     20\u001b[0m \u001b[1;33m\u001b[0m\u001b[0m\n\u001b[0;32m     21\u001b[0m \u001b[1;31m#     Show cards(but keep one dealer card hidden)\u001b[0m\u001b[1;33m\u001b[0m\u001b[1;33m\u001b[0m\u001b[1;33m\u001b[0m\u001b[0m\n",
      "\u001b[1;31mNameError\u001b[0m: name 'take_bet' is not defined"
     ]
    }
   ],
   "source": [
    "while True:\n",
    "    #opening statement\n",
    "    print(\"Welcome to BlackJack!  Try to get as close to 21 without going over. \\nFace cards count as 10 Aces can count as 11 or 1.\\nIf you beat the dealer you win!\")\n",
    "\n",
    "    #     Create & shuffle the deck, deal two cards to each player\n",
    "    deck = Deck()\n",
    "    deck.shuffle()\n",
    "    \n",
    "    player_hand = Hand()\n",
    "    player_hand.add_card(deck.deal())\n",
    "    player_hand.add_card(deck.deal())\n",
    "    \n",
    "    dealer_hand = Hand()\n",
    "    dealer_hand.add_card(deck.deal())\n",
    "    dealer_hand.add_card(deck.deal())\n",
    "    \n",
    "#     Set up the Player's chips\n",
    "    player_chips = Chips()\n",
    "    take_bet(player_chips)\n",
    "    \n",
    "#     Show cards(but keep one dealer card hidden)\n",
    "    show_some(player_hand,dealer_hand)\n",
    "    \n",
    "    while playing:\n",
    "#         Prompt for Player to Hit or Stand\n",
    "        hit_or_stand(deck,player_hand)\n",
    "    \n",
    "#         Show cards (but keep one dealer card hidden)\n",
    "        show_some(player_hand, dealer_hand)\n",
    "    \n",
    "#         If Player's hand exceeds 21, run player_busts and breakout of the loop\n",
    "        if player_hand.value > 21:\n",
    "            player_busts(player_hand, dealer_hand, player_chips)\n",
    "            break\n",
    "            \n",
    "#         If Player hasn't busted, play Dealer's hand until dealer reaches 17\n",
    "        if player_hand.value <= 21:\n",
    "            while dealer_hand.value < 17:\n",
    "                hit(deck.dealer_hand)\n",
    "                \n",
    "#             show all cards\n",
    "            show_all(player_hand, dealer_hand)\n",
    "    \n",
    "#             Run different winning scenarios\n",
    "            if dealer_hand.value > 21:\n",
    "                dealer_busts(player_hand, dealer_hand, player_chips)\n",
    "            elif dealer_hand.value > player_hand.value:\n",
    "                dealer_wins(player_hand, dealer_hand, player_chips)\n",
    "            elif dealer_hand.value > player_hand.value:\n",
    "                player_wins(player_hand, dealer_hand, player_chips)\n",
    "            else:\n",
    "                push(player_hand, dealer_hand)\n",
    "                \n",
    "#     Inform Player of their chip total\n",
    "    print(f\"\\nPlayer's winnings stat at {player_chips.total}\")\n",
    "    \n",
    "#     Ask to play again\n",
    "    new_game = input(\"would you like to play again?  Yes or No: \")\n",
    "    \n",
    "    \n",
    "    if new_game[0].lower =='y':\n",
    "        game_on = True\n",
    "        continue\n",
    "    else:\n",
    "        print(\"Thanks for playing!\")\n",
    "        break"
   ]
  },
  {
   "cell_type": "code",
   "execution_count": 50,
   "metadata": {},
   "outputs": [
    {
     "name": "stdout",
     "output_type": "stream",
     "text": [
      "Welcome to BlackJack!  Try to get as close to 21 without going over. \n",
      "Face cards count as 10 Aces can count as 11 or 1.\n",
      "If you beat the dealer you win!\n",
      "your current balances is 100.\n",
      "How much would you like to bet?\n",
      "30\n",
      "\n",
      "Dealer's Hand:\n",
      " <card hidden>\n",
      " Ace of Spades\n",
      "\n",
      "Player's Hand: \n",
      " Five of Diamonds\n",
      " Queen of Clubs\n",
      "Would you like to hit (h) or stand (s)? Enter 'h' or 'S'h\n",
      "\n",
      "Dealer's Hand:\n",
      " <card hidden>\n",
      " Ace of Spades\n",
      "\n",
      "Player's Hand: \n",
      " Five of Diamonds\n",
      " Queen of Clubs\n",
      " Eight of Hearts\n",
      "Player busts!\n",
      "Your new balance is 70\n",
      "Welcome to BlackJack!  Try to get as close to 21 without going over. \n",
      "Face cards count as 10 Aces can count as 11 or 1.\n",
      "If you beat the dealer you win!\n",
      "your current balances is 100.\n",
      "How much would you like to bet?\n",
      "33\n",
      "\n",
      "Dealer's Hand:\n",
      " <card hidden>\n",
      " Three of Diamonds\n",
      "\n",
      "Player's Hand: \n",
      " Jack of Spades\n",
      " Six of Diamonds\n",
      "Would you like to hit (h) or stand (s)? Enter 'h' or 'S's\n",
      "Player stands.  Dealer is playing...\n",
      "\n",
      "Dealer's Hand:\n",
      " <card hidden>\n",
      " Three of Diamonds\n",
      "\n",
      "Player's Hand: \n",
      " Jack of Spades\n",
      " Six of Diamonds\n",
      "\n",
      "Dealer's Hand: \n",
      " Two of Diamonds\n",
      " Three of Diamonds\n",
      " Three of Clubs\n",
      " Six of Spades\n",
      " Six of Hearts\n",
      "Dealer's Hand = 20\n",
      "\n",
      "Player's Hand: \n",
      " Jack of Spades\n",
      " Six of Diamonds\n",
      "Player's Hand = 16\n",
      "Dealer wins!\n",
      "Your new balance is 67\n",
      "\n",
      "Player's winnings stat at 67\n",
      "would you like to play again?  Yes or No: n\n",
      "Thanks for playing!\n",
      "Welcome to BlackJack!  Try to get as close to 21 without going over. \n",
      "Face cards count as 10 Aces can count as 11 or 1.\n",
      "If you beat the dealer you win!\n",
      "your current balances is 100.\n",
      "How much would you like to bet?\n"
     ]
    },
    {
     "ename": "KeyboardInterrupt",
     "evalue": "Interrupted by user",
     "output_type": "error",
     "traceback": [
      "\u001b[1;31m---------------------------------------------------------------------------\u001b[0m",
      "\u001b[1;31mKeyboardInterrupt\u001b[0m                         Traceback (most recent call last)",
      "\u001b[1;32m<ipython-input-50-caca8c47a0f5>\u001b[0m in \u001b[0;36m<module>\u001b[1;34m\u001b[0m\n\u001b[0;32m    195\u001b[0m \u001b[1;31m#     Set up the Player's chips\u001b[0m\u001b[1;33m\u001b[0m\u001b[1;33m\u001b[0m\u001b[1;33m\u001b[0m\u001b[0m\n\u001b[0;32m    196\u001b[0m     \u001b[0mplayer_chips\u001b[0m \u001b[1;33m=\u001b[0m \u001b[0mChips\u001b[0m\u001b[1;33m(\u001b[0m\u001b[1;33m)\u001b[0m\u001b[1;33m\u001b[0m\u001b[1;33m\u001b[0m\u001b[0m\n\u001b[1;32m--> 197\u001b[1;33m     \u001b[0mplayer_chips\u001b[0m\u001b[1;33m.\u001b[0m\u001b[0mtake_bet\u001b[0m\u001b[1;33m(\u001b[0m\u001b[1;33m)\u001b[0m\u001b[1;33m\u001b[0m\u001b[1;33m\u001b[0m\u001b[0m\n\u001b[0m\u001b[0;32m    198\u001b[0m \u001b[1;33m\u001b[0m\u001b[0m\n\u001b[0;32m    199\u001b[0m \u001b[1;31m#     Show cards(but keep one dealer card hidden)\u001b[0m\u001b[1;33m\u001b[0m\u001b[1;33m\u001b[0m\u001b[1;33m\u001b[0m\u001b[0m\n",
      "\u001b[1;32m<ipython-input-50-caca8c47a0f5>\u001b[0m in \u001b[0;36mtake_bet\u001b[1;34m(chips)\u001b[0m\n\u001b[0;32m     14\u001b[0m         \u001b[1;32mwhile\u001b[0m \u001b[0mhold\u001b[0m \u001b[1;33m==\u001b[0m \u001b[1;32mFalse\u001b[0m\u001b[1;33m:\u001b[0m\u001b[1;33m\u001b[0m\u001b[1;33m\u001b[0m\u001b[0m\n\u001b[0;32m     15\u001b[0m             \u001b[1;32mtry\u001b[0m\u001b[1;33m:\u001b[0m\u001b[1;33m\u001b[0m\u001b[1;33m\u001b[0m\u001b[0m\n\u001b[1;32m---> 16\u001b[1;33m                 \u001b[0mchips\u001b[0m\u001b[1;33m.\u001b[0m\u001b[0mbet\u001b[0m \u001b[1;33m=\u001b[0m \u001b[0mint\u001b[0m\u001b[1;33m(\u001b[0m\u001b[0minput\u001b[0m\u001b[1;33m(\u001b[0m\u001b[1;33m)\u001b[0m\u001b[1;33m)\u001b[0m\u001b[1;33m\u001b[0m\u001b[1;33m\u001b[0m\u001b[0m\n\u001b[0m\u001b[0;32m     17\u001b[0m                 \u001b[1;32mif\u001b[0m \u001b[0mchips\u001b[0m\u001b[1;33m.\u001b[0m\u001b[0mbet\u001b[0m \u001b[1;33m>\u001b[0m \u001b[0mchips\u001b[0m\u001b[1;33m.\u001b[0m\u001b[0mbal\u001b[0m\u001b[1;33m:\u001b[0m\u001b[1;33m\u001b[0m\u001b[1;33m\u001b[0m\u001b[0m\n\u001b[0;32m     18\u001b[0m                     \u001b[0mprint\u001b[0m\u001b[1;33m(\u001b[0m\u001b[1;34m\"Who do you think you are, Midas?  You don't have that much money!!\"\u001b[0m\u001b[1;33m)\u001b[0m\u001b[1;33m\u001b[0m\u001b[1;33m\u001b[0m\u001b[0m\n",
      "\u001b[1;32m~\\anaconda3\\lib\\site-packages\\ipykernel\\kernelbase.py\u001b[0m in \u001b[0;36mraw_input\u001b[1;34m(self, prompt)\u001b[0m\n\u001b[0;32m    858\u001b[0m                 \u001b[1;34m\"raw_input was called, but this frontend does not support input requests.\"\u001b[0m\u001b[1;33m\u001b[0m\u001b[1;33m\u001b[0m\u001b[0m\n\u001b[0;32m    859\u001b[0m             )\n\u001b[1;32m--> 860\u001b[1;33m         return self._input_request(str(prompt),\n\u001b[0m\u001b[0;32m    861\u001b[0m             \u001b[0mself\u001b[0m\u001b[1;33m.\u001b[0m\u001b[0m_parent_ident\u001b[0m\u001b[1;33m,\u001b[0m\u001b[1;33m\u001b[0m\u001b[1;33m\u001b[0m\u001b[0m\n\u001b[0;32m    862\u001b[0m             \u001b[0mself\u001b[0m\u001b[1;33m.\u001b[0m\u001b[0m_parent_header\u001b[0m\u001b[1;33m,\u001b[0m\u001b[1;33m\u001b[0m\u001b[1;33m\u001b[0m\u001b[0m\n",
      "\u001b[1;32m~\\anaconda3\\lib\\site-packages\\ipykernel\\kernelbase.py\u001b[0m in \u001b[0;36m_input_request\u001b[1;34m(self, prompt, ident, parent, password)\u001b[0m\n\u001b[0;32m    902\u001b[0m             \u001b[1;32mexcept\u001b[0m \u001b[0mKeyboardInterrupt\u001b[0m\u001b[1;33m:\u001b[0m\u001b[1;33m\u001b[0m\u001b[1;33m\u001b[0m\u001b[0m\n\u001b[0;32m    903\u001b[0m                 \u001b[1;31m# re-raise KeyboardInterrupt, to truncate traceback\u001b[0m\u001b[1;33m\u001b[0m\u001b[1;33m\u001b[0m\u001b[1;33m\u001b[0m\u001b[0m\n\u001b[1;32m--> 904\u001b[1;33m                 \u001b[1;32mraise\u001b[0m \u001b[0mKeyboardInterrupt\u001b[0m\u001b[1;33m(\u001b[0m\u001b[1;34m\"Interrupted by user\"\u001b[0m\u001b[1;33m)\u001b[0m \u001b[1;32mfrom\u001b[0m \u001b[1;32mNone\u001b[0m\u001b[1;33m\u001b[0m\u001b[1;33m\u001b[0m\u001b[0m\n\u001b[0m\u001b[0;32m    905\u001b[0m             \u001b[1;32mexcept\u001b[0m \u001b[0mException\u001b[0m \u001b[1;32mas\u001b[0m \u001b[0me\u001b[0m\u001b[1;33m:\u001b[0m\u001b[1;33m\u001b[0m\u001b[1;33m\u001b[0m\u001b[0m\n\u001b[0;32m    906\u001b[0m                 \u001b[0mself\u001b[0m\u001b[1;33m.\u001b[0m\u001b[0mlog\u001b[0m\u001b[1;33m.\u001b[0m\u001b[0mwarning\u001b[0m\u001b[1;33m(\u001b[0m\u001b[1;34m\"Invalid Message:\"\u001b[0m\u001b[1;33m,\u001b[0m \u001b[0mexc_info\u001b[0m\u001b[1;33m=\u001b[0m\u001b[1;32mTrue\u001b[0m\u001b[1;33m)\u001b[0m\u001b[1;33m\u001b[0m\u001b[1;33m\u001b[0m\u001b[0m\n",
      "\u001b[1;31mKeyboardInterrupt\u001b[0m: Interrupted by user"
     ]
    }
   ],
   "source": [
    "class Chips:\n",
    "#     This class will define the amount of money that the player has.  \n",
    "#     It will allow them to determine balance, place bets, win, and lose\n",
    "    \n",
    "    def __init__(self,bal=100):\n",
    "        self.bal = bal \n",
    "        self.bet = 0\n",
    "        print(f\"your current balances is {self.bal}.\")\n",
    "    \n",
    "    def take_bet(chips):\n",
    "#         This string will be called every time the player places a bet\n",
    "        print (\"How much would you like to bet?\")\n",
    "        hold = False\n",
    "        while hold == False:\n",
    "            try:\n",
    "                chips.bet = int(input())\n",
    "                if chips.bet > chips.bal:\n",
    "                    print(\"Who do you think you are, Midas?  You don't have that much money!!\")\n",
    "                    hold = False\n",
    "                else:\n",
    "                    hold = True\n",
    "            except ValueError:\n",
    "                print(\"sorry that's not a number, please place a bet.\")\n",
    "                hold = False\n",
    "            \n",
    "        \n",
    "#     def __str__(self):\n",
    "# #         this string is used to identify the balance and ask for a bet\n",
    "#         self.bal = str(self.bal)\n",
    "#         return(f\"The Player's current balance is ${self.bal}\")\n",
    "#         bet = int(input())\n",
    "#         print(bet)\n",
    "    \n",
    "    def win_bet(self):\n",
    "#         This method can be called to add winnings and present a new balance\n",
    "        self.bal = int(self.bal)\n",
    "        self.bal = self.bal + (2*self.bet)\n",
    "        return (f\"Your new balance is {self.bal}\")\n",
    "    \n",
    "    def lose_bet(self):\n",
    "#         This method can be called when the player loses\n",
    "        self.bal = int(self.bal)\n",
    "        self.bal = self.bal - self.bet\n",
    "        if self.bal < 1:\n",
    "            print(\"sorry, you've lost the game...\")\n",
    "        else:\n",
    "            print(f\"Your new balance is {self.bal}\")\n",
    "    \n",
    "        \n",
    "suits = ('Hearts', 'Diamonds', 'Spades', 'Clubs')\n",
    "ranks = ('Two', 'Three', 'Four', 'Five', 'Six', 'Seven', 'Eight', 'Nine', 'Ten', 'Jack', 'Queen', 'King', 'Ace')\n",
    "values = {'Two':2, 'Three':3, 'Four':4, 'Five':5, 'Six':6, 'Seven':7, 'Eight':8, \n",
    "            'Nine':9, 'Ten':10, 'Jack':10, 'Queen':10, 'King':10, 'Ace':11}\n",
    "game_on = True\n",
    "\n",
    "\n",
    "class Card:\n",
    "#     the card class will set up the cards with value and suit\n",
    "    def __init__(self, suit, rank):\n",
    "        self.suit = suit\n",
    "        self.rank = rank\n",
    "#         self.value = values[rank]\n",
    "        \n",
    "    def __str__(self):\n",
    "        return self.rank + ' of ' + self.suit\n",
    "\n",
    "class Deck:\n",
    "    \n",
    "    def __init__(self):\n",
    "        \n",
    "        self.all_cards = []\n",
    "        for suit in suits:\n",
    "            for rank in ranks:\n",
    "#                 this assumes the card class has alreday been defined\n",
    "                self.all_cards.append(Card(suit,rank))\n",
    "    \n",
    "    def __str__(self):\n",
    "#         I think this will return each card in the deck\n",
    "        complete_deck = ''\n",
    "        for card in self.all_cards:\n",
    "            complete_deck += '\\n' + card.__str__()\n",
    "        return 'The deck has: ' + complete_deck\n",
    "    \n",
    "    \n",
    "    def shuffle(self):\n",
    "        import random\n",
    "#         this method doesn't return anything but it will randomize the cards\n",
    "        random.shuffle(self.all_cards)\n",
    "    \n",
    "    def deal(self):\n",
    "#         Note we remove one card from the list of all_cards\n",
    "#         this method will be used to increase card count\n",
    "        return self.all_cards.pop()\n",
    "\n",
    "class Hand:\n",
    "    \n",
    "    def __init__(self):\n",
    "        self.cards = []\n",
    "        self.value = 0\n",
    "        self.aces = 0\n",
    "       \n",
    "    def add_card(self, card):\n",
    "        self.cards.append(card)\n",
    "        self.value += values[card.rank]\n",
    "        if card.rank == \"Ace\":\n",
    "#             This will track how many aces are in our hand\n",
    "#             see adjust_for_aces\n",
    "            self.aces += 1 \n",
    "        \n",
    "    def adjust_for_ace(self):\n",
    "#         with the aces method variable above \n",
    "#         this will be used to adjust the value of aces\n",
    "#         from 11 to 1 when our total hand value is above 21\n",
    "        while self.value > 21 and self.aces:\n",
    "            self.value -=10\n",
    "            self.aces -= 1\n",
    "        \n",
    "mydeck = Deck()\n",
    "mydeck.shuffle()\n",
    "test_player = Hand()\n",
    "test_player.add_card(mydeck.deal())\n",
    "test_player.add_card(mydeck.deal())\n",
    "test_player.value\n",
    "\n",
    "def hit(deck,hand):\n",
    "    \n",
    "    hand.add_card(deck.deal())\n",
    "    hand.adjust_for_ace()\n",
    "    \n",
    "def hit_or_stand(deck,hand):\n",
    "    global playing\n",
    "    \n",
    "    while True:\n",
    "        x = input(\"Would you like to hit (h) or stand (s)? Enter 'h' or 'S'\")\n",
    "        \n",
    "        if x[0].lower() == 'h':\n",
    "            hit(deck,hand)\n",
    "            \n",
    "        elif x[0].lower() =='s':\n",
    "            print(\"Player stands.  Dealer is playing...\")\n",
    "            playing = False\n",
    "            \n",
    "        else:\n",
    "            print(\"Sorry, please try again.\")\n",
    "            continue\n",
    "        break\n",
    "    \n",
    "    \n",
    "def show_some(player,dealer):\n",
    "    print(\"\\nDealer's Hand:\")\n",
    "    print(\" <card hidden>\")\n",
    "    print('',dealer.cards[1])\n",
    "    print(\"\\nPlayer's Hand: \", *player.cards, sep='\\n ')\n",
    "    \n",
    "def show_all(player,dealer):\n",
    "    print(\"\\nDealer's Hand: \", *dealer.cards, sep='\\n ')\n",
    "    print(\"Dealer's Hand =\",dealer.value)\n",
    "    print(\"\\nPlayer's Hand: \", *player.cards, sep='\\n ')\n",
    "    print(\"Player's Hand =\", player.value)    \n",
    "    \n",
    "def player_busts(player, dealer, chips):\n",
    "    print(\"Player busts!\")\n",
    "    chips.lose_bet()\n",
    "    \n",
    "def player_wins(player, dealer, chips):\n",
    "    print(\"Player wins!\")\n",
    "    chips.win_bet()\n",
    "    \n",
    "def dealer_wins(player, dealer, chips):\n",
    "    print(\"Dealer wins!\")\n",
    "    chips.lose_bet()\n",
    "\n",
    "def dealer_busts(player,dealer,chips):\n",
    "    print(\"Dealer busts, Player Wins!\")\n",
    "    chips.win_bet()\n",
    "def push(player, dealer):\n",
    "    print(\"Dealer and Player tie!  It's a push.\")\n",
    "    \n",
    "    \n",
    "while game_on == True:\n",
    "    #opening statement\n",
    "    print(\"Welcome to BlackJack!  Try to get as close to 21 without going over. \\nFace cards count as 10 Aces can count as 11 or 1.\\nIf you beat the dealer you win!\")\n",
    "    #     Create & shuffle the deck, deal two cards to each player\n",
    "    deck = Deck()\n",
    "    deck.shuffle()\n",
    "    \n",
    "    player_hand = Hand()\n",
    "    player_hand.add_card(deck.deal())\n",
    "    player_hand.add_card(deck.deal())\n",
    "    \n",
    "    dealer_hand = Hand()\n",
    "    dealer_hand.add_card(deck.deal())\n",
    "    dealer_hand.add_card(deck.deal())\n",
    "    \n",
    "#     Set up the Player's chips\n",
    "    player_chips = Chips()\n",
    "    player_chips.take_bet()\n",
    "    \n",
    "#     Show cards(but keep one dealer card hidden)\n",
    "    show_some(player_hand,dealer_hand)\n",
    "    \n",
    "    \n",
    "    \n",
    "    while game_on == True:\n",
    "\n",
    "    #         Prompt for Player to Hit or Stand\n",
    "        hit_or_stand(deck,player_hand)\n",
    "\n",
    "    #         Show cards (but keep one dealer card hidden)\n",
    "        show_some(player_hand, dealer_hand)\n",
    "\n",
    "    #         If Player's hand exceeds 21, run player_busts and breakout of the loop\n",
    "        if player_hand.value > 21:\n",
    "            player_busts(player_hand, dealer_hand, player_chips)\n",
    "            break\n",
    "\n",
    "    #         If Player hasn't busted, play Dealer's hand until dealer reaches 17\n",
    "        if player_hand.value <= 21:\n",
    "            while dealer_hand.value < 17:\n",
    "                hit(deck,dealer_hand)\n",
    "\n",
    "    #             show all cards\n",
    "            show_all(player_hand, dealer_hand)\n",
    "\n",
    "    #             Run different winning scenarios\n",
    "            if dealer_hand.value > 21:\n",
    "                dealer_busts(player_hand, dealer_hand, player_chips)\n",
    "            elif dealer_hand.value > player_hand.value:\n",
    "                dealer_wins(player_hand, dealer_hand, player_chips)\n",
    "            elif dealer_hand.value > player_hand.value:\n",
    "                player_wins(player_hand, dealer_hand, player_chips)\n",
    "            else:\n",
    "                push(player_hand, dealer_hand)\n",
    "\n",
    "    #     Inform Player of their chip total\n",
    "        print(f\"\\nPlayer's winnings stat at {player_chips.bal}\")\n",
    "\n",
    "    #     Ask to play again\n",
    "        new_game = input(\"would you like to play again?  Yes or No: \")\n",
    "\n",
    "\n",
    "        if new_game[0].lower =='y':\n",
    "            game_on = True\n",
    "            continue\n",
    "        else:\n",
    "            print(\"Thanks for playing!\")\n",
    "            break  \n",
    "\n",
    "    "
   ]
  },
  {
   "cell_type": "code",
   "execution_count": null,
   "metadata": {},
   "outputs": [],
   "source": []
  }
 ],
 "metadata": {
  "kernelspec": {
   "display_name": "Python 3",
   "language": "python",
   "name": "python3"
  },
  "language_info": {
   "codemirror_mode": {
    "name": "ipython",
    "version": 3
   },
   "file_extension": ".py",
   "mimetype": "text/x-python",
   "name": "python",
   "nbconvert_exporter": "python",
   "pygments_lexer": "ipython3",
   "version": "3.8.5"
  }
 },
 "nbformat": 4,
 "nbformat_minor": 4
}
