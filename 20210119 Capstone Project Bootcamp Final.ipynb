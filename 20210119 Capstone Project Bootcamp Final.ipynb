{
 "cells": [
  {
   "cell_type": "code",
   "execution_count": null,
   "metadata": {},
   "outputs": [],
   "source": []
  },
  {
   "cell_type": "code",
   "execution_count": null,
   "metadata": {},
   "outputs": [],
   "source": [
    "import zipfile\n",
    "with zipfile.ZipFile('/home/kings_gambit/Documents/Python/scan14documents.zip','r')as zip_ref:\n",
    "    zip_ref.extractall('/home/kings_gambit/Documents/Python/PayStubs')"
   ]
  },
  {
   "cell_type": "code",
   "execution_count": null,
   "metadata": {},
   "outputs": [],
   "source": [
    "\n",
    "import os\n",
    "# I have found better results with pdfplumber than with PyPDF2\n",
    "import pdfplumber\n",
    "\n",
    "# These will be the final arrays\n",
    "employee_id = []\n",
    "pd_ending = []\n",
    "gross_amt = []\n",
    "net_amt = []\n",
    "\n",
    "'''\n",
    "until I can figure this out I have solved this\n",
    "by running it at the command line.\n",
    "linux command run in folder:\n",
    "    for f in ./*.pdf; do ocrmypdf \"$f\" \"$(basename \"$f\" \".pdf\")_ocr.pdf\"; done\n",
    "class DocumentReader:\n",
    "#     This class is used to open and read a \n",
    "#     document using OCR and then\n",
    "#     creating the document in its place\n",
    "    def __init__(self,file):\n",
    "        self.file = file\n",
    "#         self.file.replace('.pdf','')\n",
    "    def convert(self):\n",
    "#         global new_doc\n",
    "#         new_doc = str(self.file)+'_new.pdf'\n",
    "#         doc_name = self.file+'.pdf'\n",
    "        ocrmypdf.ocr(self.file,self.file,deskew=True)  \n",
    "'''\n",
    "        \n",
    "class Filter:\n",
    "    def __init__(self):\n",
    "        self.new_doc = new_doc\n",
    "            \n",
    "    def plumb(self):\n",
    "#         This method will read the new document\n",
    "#         and then put it in a list to be easily sorted\n",
    "        with pdfplumber.open(self.new_doc)as f:\n",
    "            page = f.pages[0]\n",
    "            text = page.extract_text()\n",
    "            print(text)\n",
    "#         file_list = []\n",
    "        file_list = text.split('  ')\n",
    "        \n",
    "    def sort(self):\n",
    "#         After running the plumb method this method will finish up the job\n",
    "#         it picks out the important parts and puts them in their lists\n",
    "#         which were set up at the beginning of the code \n",
    "        employee_id.append(file_list[13])\n",
    "        \n",
    "        gross_amt.append(file_list[61])\n",
    "        \n",
    "        net_amt.append(file_list[41])\n",
    "        \n",
    "#         the final data point needed some cleaning up\n",
    "        pd=''\n",
    "        new=pd.join(file_list[19:21])\n",
    "        pd_end = new.replace(' \\nTax Status','')\n",
    "        pd_ending.append(pd_end)\n",
    "    \n",
    "    \n",
    "# with all of our classes introduced we can run the actual mechanics\n",
    "# which is a simple while loop to go through every file in a folder.\n",
    "    "
   ]
  },
  {
   "cell_type": "code",
   "execution_count": null,
   "metadata": {},
   "outputs": [],
   "source": [
    "# onlyfiles = next(os.walk('PayStubs'))[2]\n",
    "# final = len(onlyfiles)\n",
    "# count = 0\n",
    "# # data_paths = [os.path.join(path,f)for pth,files in os.walk('/PayStubs') for f in files]:\n",
    "# while count <= final:\n",
    "for file in os.walk('/PayStubs'):\n",
    "#         index = str(file).find('.pdf')\n",
    "#         global new_doc\n",
    "#         new_doc = file[:index]+'_new'+file[index:]\n",
    "\n",
    "    d1 = DocumentReader(file)\n",
    "    d1.convert()\n",
    "#     f = Filter(d1)\n",
    "#     f.plumb()\n",
    "#     f.sort()\n",
    "    "
   ]
  },
  {
   "cell_type": "markdown",
   "metadata": {},
   "source": [
    "New Day New Start"
   ]
  },
  {
   "cell_type": "code",
   "execution_count": 14,
   "metadata": {},
   "outputs": [],
   "source": [
    "import os\n",
    "# I have found better results with pdfplumber than with PyPDF2\n",
    "import pdfplumber\n",
    "\n",
    "# These will be the final arrays\n",
    "employee_id = []\n",
    "pd_ending = []\n",
    "gross_amt = []\n",
    "net_amt = []\n",
    "file_list = []"
   ]
  },
  {
   "cell_type": "code",
   "execution_count": 15,
   "metadata": {},
   "outputs": [],
   "source": [
    "\n",
    "\n",
    "class Filter:\n",
    "    def __init__(self):\n",
    "        self.new_doc = new_doc\n",
    "            \n",
    "    def plumb(self):\n",
    "#         This method will read the new document\n",
    "#         and then put it in a list to be easily sorted\n",
    "        with pdfplumber.open(self.new_doc)as f:\n",
    "            page = f.pages[0]\n",
    "            text = page.extract_text()\n",
    "            print(text)\n",
    "#         file_list = []\n",
    "        file_list = text.split('  ')\n",
    "        \n",
    "    def sort(self):\n",
    "#         After running the plumb method this method will finish up the job\n",
    "#         it picks out the important parts and puts them in their lists\n",
    "#         which were set up at the beginning of the code \n",
    "        employee_id.append(file_list[13])\n",
    "        \n",
    "        gross_amt.append(file_list[61])\n",
    "        \n",
    "        net_amt.append(file_list[41])\n",
    "        \n",
    "#         the final data point needed some cleaning up\n",
    "        pd=''\n",
    "        new=pd.join(file_list[19:21])\n",
    "        pd_end = new.replace(' \\nTax Status','')\n",
    "        pd_ending.append(pd_end)\n",
    "        \n",
    "\n"
   ]
  },
  {
   "cell_type": "code",
   "execution_count": 7,
   "metadata": {},
   "outputs": [
    {
     "data": {
      "text/plain": [
       "'/home/kings_gambit/Documents/Python'"
      ]
     },
     "execution_count": 7,
     "metadata": {},
     "output_type": "execute_result"
    }
   ],
   "source": [
    "pwd"
   ]
  },
  {
   "cell_type": "code",
   "execution_count": 23,
   "metadata": {},
   "outputs": [
    {
     "ename": "FileNotFoundError",
     "evalue": "[Errno 2] No such file or directory: '20071123ch7003_ocr.pdf'",
     "output_type": "error",
     "traceback": [
      "\u001b[0;31m---------------------------------------------------------------------------\u001b[0m",
      "\u001b[0;31mFileNotFoundError\u001b[0m                         Traceback (most recent call last)",
      "\u001b[0;32m<ipython-input-23-8cbfd3b7c93a>\u001b[0m in \u001b[0;36m<module>\u001b[0;34m\u001b[0m\n\u001b[1;32m      3\u001b[0m \u001b[0;32mfor\u001b[0m \u001b[0mfilename\u001b[0m \u001b[0;32min\u001b[0m \u001b[0mos\u001b[0m\u001b[0;34m.\u001b[0m\u001b[0mlistdir\u001b[0m\u001b[0;34m(\u001b[0m\u001b[0;34m'PayStubs'\u001b[0m\u001b[0;34m)\u001b[0m\u001b[0;34m:\u001b[0m\u001b[0;34m\u001b[0m\u001b[0;34m\u001b[0m\u001b[0m\n\u001b[1;32m      4\u001b[0m     \u001b[0;32mif\u001b[0m \u001b[0mfilename\u001b[0m\u001b[0;34m.\u001b[0m\u001b[0mendswith\u001b[0m\u001b[0;34m(\u001b[0m\u001b[0;34m'_ocr.pdf'\u001b[0m\u001b[0;34m)\u001b[0m\u001b[0;34m:\u001b[0m\u001b[0;34m\u001b[0m\u001b[0;34m\u001b[0m\u001b[0m\n\u001b[0;32m----> 5\u001b[0;31m         \u001b[0;32mwith\u001b[0m \u001b[0mpdfplumber\u001b[0m\u001b[0;34m.\u001b[0m\u001b[0mopen\u001b[0m\u001b[0;34m(\u001b[0m\u001b[0mfilename\u001b[0m\u001b[0;34m)\u001b[0m\u001b[0;32mas\u001b[0m \u001b[0mf\u001b[0m\u001b[0;34m:\u001b[0m\u001b[0;34m\u001b[0m\u001b[0;34m\u001b[0m\u001b[0m\n\u001b[0m\u001b[1;32m      6\u001b[0m             \u001b[0mpage\u001b[0m \u001b[0;34m=\u001b[0m \u001b[0mf\u001b[0m\u001b[0;34m.\u001b[0m\u001b[0mpages\u001b[0m\u001b[0;34m[\u001b[0m\u001b[0;36m0\u001b[0m\u001b[0;34m]\u001b[0m\u001b[0;34m\u001b[0m\u001b[0;34m\u001b[0m\u001b[0m\n\u001b[1;32m      7\u001b[0m             \u001b[0mtext\u001b[0m \u001b[0;34m=\u001b[0m \u001b[0mpage\u001b[0m\u001b[0;34m.\u001b[0m\u001b[0mextract_text\u001b[0m\u001b[0;34m(\u001b[0m\u001b[0;34m)\u001b[0m\u001b[0;34m\u001b[0m\u001b[0;34m\u001b[0m\u001b[0m\n",
      "\u001b[0;32m~/anaconda3/lib/python3.8/site-packages/pdfplumber/pdf.py\u001b[0m in \u001b[0;36mopen\u001b[0;34m(cls, path_or_fp, **kwargs)\u001b[0m\n\u001b[1;32m     56\u001b[0m     \u001b[0;32mdef\u001b[0m \u001b[0mopen\u001b[0m\u001b[0;34m(\u001b[0m\u001b[0mcls\u001b[0m\u001b[0;34m,\u001b[0m \u001b[0mpath_or_fp\u001b[0m\u001b[0;34m,\u001b[0m \u001b[0;34m**\u001b[0m\u001b[0mkwargs\u001b[0m\u001b[0;34m)\u001b[0m\u001b[0;34m:\u001b[0m\u001b[0;34m\u001b[0m\u001b[0;34m\u001b[0m\u001b[0m\n\u001b[1;32m     57\u001b[0m         \u001b[0;32mif\u001b[0m \u001b[0misinstance\u001b[0m\u001b[0;34m(\u001b[0m\u001b[0mpath_or_fp\u001b[0m\u001b[0;34m,\u001b[0m \u001b[0;34m(\u001b[0m\u001b[0mstr\u001b[0m\u001b[0;34m,\u001b[0m \u001b[0mpathlib\u001b[0m\u001b[0;34m.\u001b[0m\u001b[0mPath\u001b[0m\u001b[0;34m)\u001b[0m\u001b[0;34m)\u001b[0m\u001b[0;34m:\u001b[0m\u001b[0;34m\u001b[0m\u001b[0;34m\u001b[0m\u001b[0m\n\u001b[0;32m---> 58\u001b[0;31m             \u001b[0mfp\u001b[0m \u001b[0;34m=\u001b[0m \u001b[0mopen\u001b[0m\u001b[0;34m(\u001b[0m\u001b[0mpath_or_fp\u001b[0m\u001b[0;34m,\u001b[0m \u001b[0;34m\"rb\"\u001b[0m\u001b[0;34m)\u001b[0m\u001b[0;34m\u001b[0m\u001b[0;34m\u001b[0m\u001b[0m\n\u001b[0m\u001b[1;32m     59\u001b[0m             \u001b[0minst\u001b[0m \u001b[0;34m=\u001b[0m \u001b[0mcls\u001b[0m\u001b[0;34m(\u001b[0m\u001b[0mfp\u001b[0m\u001b[0;34m,\u001b[0m \u001b[0;34m**\u001b[0m\u001b[0mkwargs\u001b[0m\u001b[0;34m)\u001b[0m\u001b[0;34m\u001b[0m\u001b[0;34m\u001b[0m\u001b[0m\n\u001b[1;32m     60\u001b[0m             \u001b[0minst\u001b[0m\u001b[0;34m.\u001b[0m\u001b[0mclose\u001b[0m \u001b[0;34m=\u001b[0m \u001b[0mfp\u001b[0m\u001b[0;34m.\u001b[0m\u001b[0mclose\u001b[0m\u001b[0;34m\u001b[0m\u001b[0;34m\u001b[0m\u001b[0m\n",
      "\u001b[0;31mFileNotFoundError\u001b[0m: [Errno 2] No such file or directory: '20071123ch7003_ocr.pdf'"
     ]
    }
   ],
   "source": [
    "###  PROGRAM MECHANICS  ###\n",
    "\n",
    "for filename in os.listdir('PayStubs'):\n",
    "    if filenam820.13 e.endswith('_ocr.pdf'):\n",
    "        with pdfplumber.open(filename)as f:\n",
    "            page = f.pages[0]\n",
    "            text = page.extract_text()\n",
    "            print(text)\n",
    "        file_list = []\n",
    "        file_list = text.split('  ')\n",
    "        employee_id.append(file_list[13])\n",
    "        \n",
    "        \n",
    "        gross_amt.append(file_list[61])\n",
    "        \n",
    "        net_amt.append(file_list[41])\n",
    "        \n",
    "#         the final data point needed some cleaning up\n",
    "        pd=''\n",
    "        new=pd.join(file_list[19:21])\n",
    "        pd_end = new.replace(' \\nTax Status','')\n",
    "        pd_ending.append(pd_end)\n",
    "        \n",
    "        continue\n",
    "    else:\n",
    "        pass"
   ]
  },
  {
   "cell_type": "code",
   "execution_count": 11,
   "metadata": {},
   "outputs": [
    {
     "ename": "NameError",
     "evalue": "name 'f' is not defined",
     "output_type": "error",
     "traceback": [
      "\u001b[0;31m---------------------------------------------------------------------------\u001b[0m",
      "\u001b[0;31mNameError\u001b[0m                                 Traceback (most recent call last)",
      "\u001b[0;32m<ipython-input-11-5ae666672ebc>\u001b[0m in \u001b[0;36m<module>\u001b[0;34m\u001b[0m\n\u001b[0;32m----> 1\u001b[0;31m \u001b[0mf\u001b[0m\u001b[0;34m.\u001b[0m\u001b[0mplumb\u001b[0m\u001b[0;34m(\u001b[0m\u001b[0;34m)\u001b[0m\u001b[0;34m\u001b[0m\u001b[0;34m\u001b[0m\u001b[0m\n\u001b[0m",
      "\u001b[0;31mNameError\u001b[0m: name 'f' is not defined"
     ]
    }
   ],
   "source": [
    "f.plumb()"
   ]
  },
  {
   "cell_type": "code",
   "execution_count": 28,
   "metadata": {},
   "outputs": [
    {
     "name": "stdout",
     "output_type": "stream",
     "text": [
      "Jill  B  Williams  EPISCOPAL  DIOCESE  OF  W  MASS  Earnings  Statement  | \n",
      "54 Church Street  Check Date  September 28, 2007  | \n",
      "Ware,  MA 01082-1233  Employee Id  19007  Department  i  Period Beginning  September 16.2007 \n",
      "Period Ending  September 30, 2007  | \n",
      "Tex Status  Check Numb  6494 \n",
      "ne ee  So \n",
      "- SFteadt e TFiaFlxiilanibgn lge S tSatItanutcsu os me  M-1+ 18.8  2“02M.-01I%13    NCeth cet Pecck   rayA muomubnetr   660011.°.9 99 9.  .|  \n",
      "aang  Rate  __Hours   __Amount ——_YTDAmt  Tax/Deduction  Amount  YTD Amt _  Direct Deposit  Type  _—‘Transit  Account  Amount \n",
      "malary  750.00  750.00  FITW  183.78  183.78  No Direct Deposits \n",
      "    \n",
      "Add'tiComp  70,13  70.13  MA  34.36  ©: 34,36 \n",
      "Housing  166.67 \n",
      "| \n",
      "  \n",
      "Benefit  Amount  YTD Amt  Accrual  Hours __ Dollars \n",
      "  \n",
      " Gross Earnings  820.13   986.80  Totals  218.14  218.14 \n",
      "  \n",
      "Developing Healthy,  Mission-Focused  Congregations  in  Western  Mass. \n",
      "v  REMOVE  DOCUMENT  ALONGTHIS  PERFORATION  W \n",
      "orce nen ee  rem ann eeer e poem errnne rrateera s FOOLER EEO OOO  OO EMA  Cm  RE a  ee me Ee  Re ee ee, a \n",
      "  \n",
      "    \n"
     ]
    }
   ],
   "source": [
    "with pdfplumber.open('PayStubs/20070928ch6494_ocr.pdf')as f:\n",
    "    page = f.pages[0]\n",
    "    text = page.extract_text()\n",
    "    print(text)\n",
    "file_list = []\n",
    "file_list = text.split('  ')"
   ]
  },
  {
   "cell_type": "code",
   "execution_count": 29,
   "metadata": {},
   "outputs": [],
   "source": [
    "employee_id.append(file_list[13])\n",
    "        \n",
    "        \n",
    "gross_amt.append(file_list[61])\n",
    "\n",
    "net_amt.append(file_list[41])\n",
    "\n",
    "#         the final data point needed some cleaning up\n",
    "pd=''\n",
    "new=pd.join(file_list[19:21])\n",
    "pd_end = new.replace(' \\nTax Status','')\n",
    "pd_ending.append(pd_end)\n"
   ]
  },
  {
   "cell_type": "code",
   "execution_count": 30,
   "metadata": {},
   "outputs": [
    {
     "data": {
      "text/plain": [
       "[' Id', '| \\nWare,']"
      ]
     },
     "execution_count": 30,
     "metadata": {},
     "output_type": "execute_result"
    }
   ],
   "source": [
    "employee_id"
   ]
  },
  {
   "cell_type": "code",
   "execution_count": 31,
   "metadata": {},
   "outputs": [
    {
     "data": {
      "text/plain": [
       "['\\n', 'YTD Amt']"
      ]
     },
     "execution_count": 31,
     "metadata": {},
     "output_type": "execute_result"
    }
   ],
   "source": [
    "gross_amt"
   ]
  },
  {
   "cell_type": "code",
   "execution_count": 32,
   "metadata": {},
   "outputs": [
    {
     "data": {
      "text/plain": [
       "['27,520.85', 'Type']"
      ]
     },
     "execution_count": 32,
     "metadata": {},
     "output_type": "execute_result"
    }
   ],
   "source": [
    "net_amt"
   ]
  },
  {
   "cell_type": "code",
   "execution_count": 33,
   "metadata": {},
   "outputs": [
    {
     "data": {
      "text/plain": [
       "['November 30, 2007 \\n Fol Taxable nomen oBe nO',\n",
       " 'Period BeginningSeptember 16.2007 \\nPeriod Ending']"
      ]
     },
     "execution_count": 33,
     "metadata": {},
     "output_type": "execute_result"
    }
   ],
   "source": [
    "pd_ending"
   ]
  },
  {
   "cell_type": "markdown",
   "metadata": {},
   "source": [
    "I need to start over because due to the nature of scanning with PDFs,\n",
    "items cannot be guaranteed to be at the same point in a list everytime.\n",
    "I will try a combination of regex and conditional statements to get my desired results\n",
    "\n",
    "need to work on this combination.  i'm going to come back to this i need some motivation and forward progress.  come back to this when i know more about regex."
   ]
  },
  {
   "cell_type": "code",
   "execution_count": 3,
   "metadata": {},
   "outputs": [],
   "source": [
    "import os\n",
    "# I have found better results with pdfplumber than with PyPDF2\n",
    "import pdfplumber\n",
    "import re\n",
    "\n",
    "# These will be the final arrays\n",
    "employee_id = []\n",
    "pd_ending = []\n",
    "gross_amt = []\n",
    "net_amt = []"
   ]
  },
  {
   "cell_type": "code",
   "execution_count": 71,
   "metadata": {},
   "outputs": [
    {
     "name": "stdout",
     "output_type": "stream",
     "text": [
      "Jill  B  Williams  EPISCOPAL  DIOCESE  OF  W  MASS  Earnings  Statement  | \n",
      "54 Church Street  Check Date  September 28, 2007  | \n",
      "Ware,  MA 01082-1233  Employee Id  19007  Department  i  Period Beginning  September 16.2007 \n",
      "Period Ending  September 30, 2007  | \n",
      "Tex Status  Check Numb  6494 \n",
      "ne ee  So \n",
      "- SFteadt e TFiaFlxiilanibgn lge S tSatItanutcsu os me  M-1+ 18.8  2“02M.-01I%13    NCeth cet Pecck   rayA muomubnetr   660011.°.9 99 9.  .|  \n",
      "aang  Rate  __Hours   __Amount ——_YTDAmt  Tax/Deduction  Amount  YTD Amt _  Direct Deposit  Type  _—‘Transit  Account  Amount \n",
      "malary  750.00  750.00  FITW  183.78  183.78  No Direct Deposits \n",
      "    \n",
      "Add'tiComp  70,13  70.13  MA  34.36  ©: 34,36 \n",
      "Housing  166.67 \n",
      "| \n",
      "  \n",
      "Benefit  Amount  YTD Amt  Accrual  Hours __ Dollars \n",
      "  \n",
      " Gross Earnings  820.13   986.80  Totals  218.14  218.14 \n",
      "  \n",
      "Developing Healthy,  Mission-Focused  Congregations  in  Western  Mass. \n",
      "v  REMOVE  DOCUMENT  ALONGTHIS  PERFORATION  W \n",
      "orce nen ee  rem ann eeer e poem errnne rrateera s FOOLER EEO OOO  OO EMA  Cm  RE a  ee me Ee  Re ee ee, a \n",
      "  \n",
      "    \n"
     ]
    },
    {
     "ename": "AttributeError",
     "evalue": "module 're' has no attribute 'find'",
     "output_type": "error",
     "traceback": [
      "\u001b[0;31m---------------------------------------------------------------------------\u001b[0m",
      "\u001b[0;31mAttributeError\u001b[0m                            Traceback (most recent call last)",
      "\u001b[0;32m<ipython-input-71-188884bc3842>\u001b[0m in \u001b[0;36m<module>\u001b[0;34m\u001b[0m\n\u001b[1;32m      7\u001b[0m     \u001b[0mamt\u001b[0m\u001b[0;34m=\u001b[0m\u001b[0;34m(\u001b[0m\u001b[0;34mr'\\d\\d\\d.\\d\\d'\u001b[0m\u001b[0;34m)\u001b[0m\u001b[0;34m\u001b[0m\u001b[0;34m\u001b[0m\u001b[0m\n\u001b[1;32m      8\u001b[0m \u001b[0;34m\u001b[0m\u001b[0m\n\u001b[0;32m----> 9\u001b[0;31m     \u001b[0;32mif\u001b[0m \u001b[0mre\u001b[0m\u001b[0;34m.\u001b[0m\u001b[0mfind\u001b[0m\u001b[0;34m(\u001b[0m\u001b[0meid\u001b[0m\u001b[0;34m,\u001b[0m\u001b[0mtext\u001b[0m\u001b[0;34m)\u001b[0m\u001b[0;34m==\u001b[0m \u001b[0;36m66001\u001b[0m\u001b[0;34m:\u001b[0m\u001b[0;34m\u001b[0m\u001b[0;34m\u001b[0m\u001b[0m\n\u001b[0m\u001b[1;32m     10\u001b[0m         \u001b[0;32mpass\u001b[0m\u001b[0;34m\u001b[0m\u001b[0;34m\u001b[0m\u001b[0m\n\u001b[1;32m     11\u001b[0m     \u001b[0;32melse\u001b[0m\u001b[0;34m:\u001b[0m\u001b[0;34m\u001b[0m\u001b[0;34m\u001b[0m\u001b[0m\n",
      "\u001b[0;31mAttributeError\u001b[0m: module 're' has no attribute 'find'"
     ]
    }
   ],
   "source": [
    "with pdfplumber.open('PayStubs/20070928ch6494_ocr.pdf')as f:\n",
    "    page = f.pages[0]\n",
    "    text = page.extract_text()\n",
    "    print(text)\n",
    "\n",
    "    eid=(r'\\d\\d\\d\\d\\d')\n",
    "    amt=(r'\\d\\d\\d.\\d\\d')\n",
    "    \n",
    "    if re.find(eid,text)== 66001:\n",
    "        pass\n",
    "    else:\n",
    "        employee_id.append(re.find(eid,text))\n",
    "    "
   ]
  },
  {
   "cell_type": "code",
   "execution_count": 14,
   "metadata": {},
   "outputs": [
    {
     "data": {
      "text/plain": [
       "str"
      ]
     },
     "execution_count": 14,
     "metadata": {},
     "output_type": "execute_result"
    }
   ],
   "source": [
    "type(text)"
   ]
  },
  {
   "cell_type": "code",
   "execution_count": 72,
   "metadata": {},
   "outputs": [
    {
     "data": {
      "text/plain": [
       "[['01082', '19007', '66001'],\n",
       " ['01082', '19007', '66001'],\n",
       " ['01082', '19007', '66001']]"
      ]
     },
     "execution_count": 72,
     "metadata": {},
     "output_type": "execute_result"
    }
   ],
   "source": [
    "employee_id"
   ]
  },
  {
   "cell_type": "code",
   "execution_count": 48,
   "metadata": {},
   "outputs": [
    {
     "name": "stderr",
     "output_type": "stream",
     "text": [
      "<>:1: SyntaxWarning: 'int' object is not subscriptable; perhaps you missed a comma?\n",
      "<>:1: SyntaxWarning: 'int' object is not subscriptable; perhaps you missed a comma?\n",
      "<ipython-input-48-90c64205bf8d>:1: SyntaxWarning: 'int' object is not subscriptable; perhaps you missed a comma?\n",
      "  employee_id.pop(0[0])\n"
     ]
    },
    {
     "ename": "TypeError",
     "evalue": "'int' object is not subscriptable",
     "output_type": "error",
     "traceback": [
      "\u001b[0;31m---------------------------------------------------------------------------\u001b[0m",
      "\u001b[0;31mTypeError\u001b[0m                                 Traceback (most recent call last)",
      "\u001b[0;32m<ipython-input-48-90c64205bf8d>\u001b[0m in \u001b[0;36m<module>\u001b[0;34m\u001b[0m\n\u001b[0;32m----> 1\u001b[0;31m \u001b[0memployee_id\u001b[0m\u001b[0;34m.\u001b[0m\u001b[0mpop\u001b[0m\u001b[0;34m(\u001b[0m\u001b[0;36m0\u001b[0m\u001b[0;34m[\u001b[0m\u001b[0;36m0\u001b[0m\u001b[0;34m]\u001b[0m\u001b[0;34m)\u001b[0m\u001b[0;34m\u001b[0m\u001b[0;34m\u001b[0m\u001b[0m\n\u001b[0m",
      "\u001b[0;31mTypeError\u001b[0m: 'int' object is not subscriptable"
     ]
    }
   ],
   "source": [
    "employee_id.pop(0[0])"
   ]
  },
  {
   "cell_type": "code",
   "execution_count": 32,
   "metadata": {},
   "outputs": [
    {
     "name": "stdout",
     "output_type": "stream",
     "text": [
      "['9626']\n"
     ]
    }
   ],
   "source": [
    "import re\n",
    "pattern =(r'\\d\\d\\d\\d')\n",
    "\n",
    "match = re.findall(pattern,\"my former address is 9626 Villagesmith Way but now i live somewhere else.\")\n",
    "print(match)"
   ]
  },
  {
   "cell_type": "code",
   "execution_count": null,
   "metadata": {},
   "outputs": [],
   "source": []
  }
 ],
 "metadata": {
  "kernelspec": {
   "display_name": "Python 3",
   "language": "python",
   "name": "python3"
  },
  "language_info": {
   "codemirror_mode": {
    "name": "ipython",
    "version": 3
   },
   "file_extension": ".py",
   "mimetype": "text/x-python",
   "name": "python",
   "nbconvert_exporter": "python",
   "pygments_lexer": "ipython3",
   "version": "3.8.5"
  }
 },
 "nbformat": 4,
 "nbformat_minor": 4
}
