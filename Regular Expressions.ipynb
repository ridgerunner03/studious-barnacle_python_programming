{
 "cells": [
  {
   "cell_type": "markdown",
   "metadata": {},
   "source": [
    "regular expressions will match that the word matches but will overlook extra characters added after the condition is true.  note that if the key word is buried in the middle of the string it won't find the match."
   ]
  },
  {
   "cell_type": "code",
   "execution_count": null,
   "metadata": {},
   "outputs": [],
   "source": [
    "import re\n",
    "\n",
    "pattern = r\"spam\"\n",
    "\n",
    "if re.match(pattern, \"spamsmmssmpppaa spam mspampspamassssss\"):\n",
    "    print(\"Match\")\n",
    "else:\n",
    "    print(\"No match\")"
   ]
  },
  {
   "cell_type": "code",
   "execution_count": null,
   "metadata": {},
   "outputs": [],
   "source": [
    "import re\n",
    "\n",
    "clue = r\"gl\"\n",
    "\n",
    "word = input()\n",
    "\n",
    "if re.match(clue, word):\n",
    "    print(\"Match\")\n",
    "else:\n",
    "    print(\"No Match\")"
   ]
  },
  {
   "cell_type": "code",
   "execution_count": null,
   "metadata": {},
   "outputs": [],
   "source": [
    "import re\n",
    "\n",
    "pattern = r\"spam\"\n",
    "\n",
    "if re.match(pattern, \"eggspamsausagespam\"):\n",
    "    print(\"Match\")\n",
    "else:\n",
    "    print(\"No match\")\n",
    "\n",
    "if re.search(pattern, \"eggspamsausagespam\"):\n",
    "    print(\"Match\")\n",
    "else:\n",
    "    print(\"No match\")\n",
    "\n",
    "print(re.findall(pattern, \"eggspamsausagespam\"))\n",
    "\n",
    "print(re.finditer(pattern,\"eggspamsausagespam\"))"
   ]
  },
  {
   "cell_type": "code",
   "execution_count": null,
   "metadata": {},
   "outputs": [],
   "source": [
    "import re\n",
    "\n",
    "quote = r\"Always do your best. Your best is going to change from moment to moment; it will be different when you are healthy as opposed to sick. Under any circumstance, simply do your best, and you will avoid self-judgment, self-abuse and regret\"\n",
    "\n",
    "word = input()\n",
    "#your code goes here\n",
    "\n",
    "print(len(re.findall(word, quote)))\n"
   ]
  },
  {
   "cell_type": "code",
   "execution_count": null,
   "metadata": {},
   "outputs": [],
   "source": [
    "import re\n",
    "\n",
    "string = \"My name is David. Hi David.\"\n",
    "print(string)\n",
    "pattern = input()\n",
    "new = input()\n",
    "newstr = re.sub(pattern, new, string)\n",
    "print(newstr)"
   ]
  },
  {
   "cell_type": "code",
   "execution_count": 4,
   "metadata": {},
   "outputs": [
    {
     "name": "stdout",
     "output_type": "stream",
     "text": [
      "3241324235\n"
     ]
    }
   ],
   "source": [
    "import re\n",
    "\n",
    "#your code goes here\n",
    "old_number = input()\n",
    "\n",
    "zero = r\"00\"\n",
    "\n",
    "try:\n",
    "    num = re.search(zero,old_number)\n",
    "    amt = num.start()\n",
    "    if amt == 0:\n",
    "        print (re.sub(\"00\", \"+\",old_number,count = 0))\n",
    "    else:\n",
    "        old_number = str(old_number)\n",
    "        print(old_number)\n",
    "except AttributeError:\n",
    "    pass\n",
    "#     print(old_number)\n",
    "    \n"
   ]
  },
  {
   "cell_type": "code",
   "execution_count": 13,
   "metadata": {},
   "outputs": [
    {
     "name": "stdout",
     "output_type": "stream",
     "text": [
      "pam\n",
      "0\n",
      "3\n",
      "(0, 3)\n"
     ]
    }
   ],
   "source": [
    "import re\n",
    "\n",
    "pattern = r\"pam\"\n",
    "\n",
    "match = re.search(pattern, \"pameggspamsausage\")\n",
    "if match:\n",
    "    print(match.group())\n",
    "    print(match.start())\n",
    "    print(match.end())\n",
    "    print(match.span())\n"
   ]
  },
  {
   "cell_type": "code",
   "execution_count": 6,
   "metadata": {},
   "outputs": [
    {
     "name": "stdout",
     "output_type": "stream",
     "text": [
      "mine\n",
      "Match\n"
     ]
    }
   ],
   "source": [
    "import re\n",
    "\n",
    "word = input()\n",
    "#your code goes here\n",
    "pattern = r\"^m..e$\"\n",
    "\n",
    "if re.match(pattern,word):\n",
    "    print(\"Match\")"
   ]
  },
  {
   "cell_type": "markdown",
   "metadata": {},
   "source": [
    "The first symbol: an uppercase character\n",
    "The second symbol: an uppercase character\n",
    "The third symbol: a digit\n",
    "The forth symbol: a digit\n",
    "\n",
    "Write a program for a search tool, that will take the ID as input and output \"Searching\" if the format is correct, and \"Wrong format\", if it's not.\n",
    "\n",
    "Sample Input\n",
    "LG17\n",
    "\n",
    "Sample Output\n",
    "Searching"
   ]
  },
  {
   "cell_type": "code",
   "execution_count": 7,
   "metadata": {},
   "outputs": [
    {
     "name": "stdout",
     "output_type": "stream",
     "text": [
      "FK2\n",
      "Searching\n"
     ]
    }
   ],
   "source": [
    "import re\n",
    "\n",
    "search = input()\n",
    "\n",
    "product = r\"[A-Z][A-Z][0-9]$\"\n",
    "\n",
    "if re.search(product,search):\n",
    "    print(\"Searching\")\n",
    "else:\n",
    "    print(\"Wrong format\")"
   ]
  },
  {
   "cell_type": "markdown",
   "metadata": {},
   "source": [
    "Let's imagine we are creating our own authentication system.\n",
    "Create a program that takes a password as input and returns \"Password created\" if\n",
    "- it has at least one uppercase character\n",
    "- it has at least one number\n",
    "\n",
    "The Program should output \"Wrong format\" if requirements above are not met.\n",
    "\n",
    "Sample Input\n",
    "Hal44gb8\n",
    "\n",
    "Sample Output\n",
    "Password created"
   ]
  },
  {
   "cell_type": "code",
   "execution_count": 24,
   "metadata": {},
   "outputs": [
    {
     "name": "stdout",
     "output_type": "stream",
     "text": [
      "sdSD\n",
      "Wrong format\n"
     ]
    }
   ],
   "source": [
    "import re\n",
    "password = input()\n",
    "\n",
    "#your code goes here\n",
    "passwd = r\"[a-z]*[A-Z]+[0-9]*\"\n",
    "\n",
    "if re.match(passwd, password):\n",
    "    print(\"Password created\")\n",
    "else:\n",
    "    print(\"Wrong format\")"
   ]
  },
  {
   "cell_type": "code",
   "execution_count": 35,
   "metadata": {},
   "outputs": [
    {
     "name": "stdout",
     "output_type": "stream",
     "text": [
      "no #sdf\n"
     ]
    }
   ],
   "source": [
    "import re\n",
    "text = input()\n",
    "#your code goes here\n",
    "#use re.findall() with r\"#\\w+\" as the regex\n",
    "\n",
    "pattern = r\"([\\W]+[A\\'#'][\\w])\"\n",
    "\n",
    "hashtag = re.match(pattern,text)\n",
    "\n",
    "if hashtag:\n",
    "    print(hashtag)\n",
    "else:\n",
    "    pass\n"
   ]
  },
  {
   "cell_type": "code",
   "execution_count": null,
   "metadata": {},
   "outputs": [],
   "source": [
    "#  this pattern pulls an email address out of a string.\n",
    "\n",
    "import re\n",
    "\n",
    "pattern = r\"([\\w\\.-]+)@([\\w\\.-]+)(\\.[\\w\\.]+)\"\n",
    "str = \"Please contact info@sololearn.com for assistance\"\n",
    "\n",
    "match = re.search(pattern, str)\n",
    "if match:\n",
    "    print(match.group())"
   ]
  },
  {
   "cell_type": "markdown",
   "metadata": {},
   "source": [
    "You are given a number input, and need to check if it is a valid phone number.\n",
    "A valid phone number has exactly 8 digits and starts with 1, 8 or 9.\n",
    "Output \"Valid\" if the number is valid and \"Invalid\", if it is not.\n",
    "\n",
    "Sample Input\n",
    "81239870\n",
    "\n",
    "Sample Output\n",
    "Valid\n",
    "You can use a regular expression to check if the input matches the given pattern."
   ]
  },
  {
   "cell_type": "code",
   "execution_count": 83,
   "metadata": {},
   "outputs": [
    {
     "name": "stdout",
     "output_type": "stream",
     "text": [
      "12345678d\n",
      "Invalid\n"
     ]
    }
   ],
   "source": [
    "import re\n",
    "\n",
    "phone_number = input()\n",
    "\n",
    "check =r\"[1|8|9][0-9]{7}\\Z\"\n",
    "\n",
    "if re.match(check,phone_number):\n",
    "    print(\"Valid\")\n",
    "else:\n",
    "    print(\"Invalid\")"
   ]
  },
  {
   "cell_type": "code",
   "execution_count": null,
   "metadata": {},
   "outputs": [],
   "source": []
  },
  {
   "cell_type": "code",
   "execution_count": null,
   "metadata": {},
   "outputs": [],
   "source": []
  }
 ],
 "metadata": {
  "kernelspec": {
   "display_name": "Python 3",
   "language": "python",
   "name": "python3"
  },
  "language_info": {
   "codemirror_mode": {
    "name": "ipython",
    "version": 3
   },
   "file_extension": ".py",
   "mimetype": "text/x-python",
   "name": "python",
   "nbconvert_exporter": "python",
   "pygments_lexer": "ipython3",
   "version": "3.8.5"
  }
 },
 "nbformat": 4,
 "nbformat_minor": 4
}
