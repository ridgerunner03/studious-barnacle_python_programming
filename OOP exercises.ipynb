{
 "cells": [
  {
   "cell_type": "code",
   "execution_count": 12,
   "metadata": {},
   "outputs": [
    {
     "name": "stdout",
     "output_type": "stream",
     "text": [
      "42\n",
      "42\n"
     ]
    },
    {
     "data": {
      "text/plain": [
       "1764"
      ]
     },
     "execution_count": 12,
     "metadata": {},
     "output_type": "execute_result"
    }
   ],
   "source": [
    "class Rectangle:\n",
    "#     defines the two attributes of this 2D shape\n",
    "    def __init__ (self, height, width):\n",
    "        self.w = width\n",
    "        self.h = height\n",
    "        \n",
    "#     they ask for the volume but they mean the area because it is 2D not 3D\n",
    "    def vol(self):\n",
    "        return self.w * self.h\n",
    "        \n",
    "w = int(input())\n",
    "h = int(input())\n",
    "        \n",
    "obj = Rectangle(w,h)\n",
    "obj.vol()"
   ]
  },
  {
   "cell_type": "code",
   "execution_count": 6,
   "metadata": {},
   "outputs": [],
   "source": [
    "obj = Rectangle(3,4)"
   ]
  },
  {
   "cell_type": "code",
   "execution_count": 7,
   "metadata": {},
   "outputs": [
    {
     "data": {
      "text/plain": [
       "12"
      ]
     },
     "execution_count": 7,
     "metadata": {},
     "output_type": "execute_result"
    }
   ],
   "source": [
    "obj.vol()"
   ]
  },
  {
   "cell_type": "code",
   "execution_count": null,
   "metadata": {},
   "outputs": [],
   "source": [
    "class Living:\n",
    "    def __init__ (self, breathing, emoting):\n",
    "        self.breathing = breathing\n",
    "        self.emoting = emoting\n",
    "class Animal(Living): \n",
    "    def __init__(self, name, color):\n",
    "        self.name = name\n",
    "        self.color = color\n",
    "\n",
    "class Cat(Animal):\n",
    "    def purr(self):\n",
    "        print(\"Purr...\")\n",
    "        \n",
    "class Dog(Animal):\n",
    "    def bark(self):\n",
    "        print(\"Woof!\")\n",
    "\n",
    "fido = Dog(\"Fido\", \"brown\")\n",
    "print(fido.color)\n",
    "\n",
    "#here fido is allowed attributes from dog, animal, and living so you can have superclasses within superclasses!\n",
    "fido.bark()"
   ]
  },
  {
   "cell_type": "markdown",
   "metadata": {},
   "source": [
    "using the add dunder within classes to merge two instances\n",
    "\n",
    "result.add(1024, 42)"
   ]
  },
  {
   "cell_type": "code",
   "execution_count": 63,
   "metadata": {},
   "outputs": [
    {
     "name": "stdout",
     "output_type": "stream",
     "text": [
      "1066\n"
     ]
    }
   ],
   "source": [
    "class BankAccount:\n",
    "    def __init__(self, balance=0):\n",
    "        self.balance = balance\n",
    "\n",
    "    def __add__(self,other):\n",
    "        \n",
    "        new_account = self.balance + other.balance\n",
    "        return (new_account)\n",
    "\n",
    "        \n",
    "acct1 = BankAccount(1024)\n",
    "acct2 = BankAccount(42)\n",
    "print(acct1 + acct2)        \n",
    "    \n",
    "\n"
   ]
  },
  {
   "cell_type": "code",
   "execution_count": 58,
   "metadata": {},
   "outputs": [
    {
     "name": "stdout",
     "output_type": "stream",
     "text": [
      "1066\n"
     ]
    }
   ],
   "source": [
    "acct1 = BankAccount(1024)\n",
    "acct2 = BankAccount(42)\n",
    "print(acct1 + acct2)\n",
    "\n",
    "# acct2 = BankAccount(42)\n",
    "\n"
   ]
  },
  {
   "cell_type": "code",
   "execution_count": 50,
   "metadata": {},
   "outputs": [
    {
     "ename": "NameError",
     "evalue": "name 'add' is not defined",
     "output_type": "error",
     "traceback": [
      "\u001b[1;31m---------------------------------------------------------------------------\u001b[0m",
      "\u001b[1;31mNameError\u001b[0m                                 Traceback (most recent call last)",
      "\u001b[1;32m<ipython-input-50-9253b791818f>\u001b[0m in \u001b[0;36m<module>\u001b[1;34m\u001b[0m\n\u001b[1;32m----> 1\u001b[1;33m \u001b[0mprint\u001b[0m\u001b[1;33m(\u001b[0m\u001b[0madd\u001b[0m\u001b[1;33m(\u001b[0m\u001b[0macct1\u001b[0m \u001b[1;33m/\u001b[0m \u001b[0macct2\u001b[0m\u001b[1;33m)\u001b[0m\u001b[1;33m)\u001b[0m\u001b[1;33m\u001b[0m\u001b[1;33m\u001b[0m\u001b[0m\n\u001b[0m",
      "\u001b[1;31mNameError\u001b[0m: name 'add' is not defined"
     ]
    }
   ],
   "source": [
    "print(add(acct1 / acct2))"
   ]
  },
  {
   "cell_type": "code",
   "execution_count": 18,
   "metadata": {},
   "outputs": [
    {
     "name": "stdout",
     "output_type": "stream",
     "text": [
      "spam\n",
      "============\n",
      "Hello world!\n"
     ]
    }
   ],
   "source": [
    "  def __add__(self, b):\n",
    "        return A(self.value + b)\n",
    "\n",
    "    def __str__(self):\n",
    "        return str(self.value)\n",
    "a = A()\n",
    "print(a + 1 + 2)\n",
    "\n",
    "\n",
    "\n",
    ">>> class A:\n",
    "...     def __init__(self, val):\n",
    "...         self.val = val\n",
    "...     def __add__(self, other):\n",
    "...         print(f'Summing {self} + {other}')\n",
    "...         return A(self.val + other)\n",
    "...\n",
    ">>> A(42) + 10\n",
    "Summing A(42) + 10\n",
    "<A(52)>\n",
    ">>> A(42) + 10 + 100\n",
    "Summing A(42) + 10\n",
    "Summing A(52) + 100\n",
    "<A(152)>"
   ]
  },
  {
   "cell_type": "code",
   "execution_count": 62,
   "metadata": {},
   "outputs": [],
   "source": [
    "class User:\n",
    "    def __init__(self,name):\n",
    "        self.username = name\n",
    "    \n",
    "    def __repr__(self):\n",
    "        return 'Instance {} of class User'.format(self.username)\n",
    "    def __str__(self):\n",
    "        return'{} user-friendly. Debug info in __repr__'.format(self.username)\n",
    "        \n",
    "lp = User('lp')"
   ]
  },
  {
   "cell_type": "code",
   "execution_count": 63,
   "metadata": {},
   "outputs": [
    {
     "data": {
      "text/plain": [
       "'lp user-friendly. Debug info in __repr__'"
      ]
     },
     "execution_count": 63,
     "metadata": {},
     "output_type": "execute_result"
    }
   ],
   "source": [
    "str(lp)"
   ]
  },
  {
   "cell_type": "markdown",
   "metadata": {},
   "source": [
    "Complete the given code to define a static add() method for the calculator class, which returns the sum of its parameters.\n",
    "\n",
    "the code takes two numbers as input, and should return their sum using the Calculator class's add() method.\n",
    "\n",
    "Static methods can be called without creationg an object of the class."
   ]
  },
  {
   "cell_type": "markdown",
   "metadata": {},
   "source": [
    "Write a program that checks if the water is boiling.\n",
    "Take the integer temp in celsius as input and output \"Boiling\" if the temp is above or equal to 100."
   ]
  },
  {
   "cell_type": "code",
   "execution_count": 3,
   "metadata": {},
   "outputs": [
    {
     "name": "stdout",
     "output_type": "stream",
     "text": [
      "110\n",
      "Boiling\n"
     ]
    }
   ],
   "source": [
    "temp = int(input())\n",
    "\n",
    "if (temp >= 100):\n",
    "    print(\"Boiling\")\n",
    "else:\n",
    "    print(\"\")"
   ]
  },
  {
   "cell_type": "code",
   "execution_count": 57,
   "metadata": {},
   "outputs": [
    {
     "name": "stdout",
     "output_type": "stream",
     "text": [
      "Jack - jack@gmail.com\n",
      "Student('Jack','jack@gmail.com', '78')\n",
      "Jack - jack@gmail.com\n",
      "158\n"
     ]
    }
   ],
   "source": [
    "class Student:\n",
    "    def __init__(self,name,email,score):\n",
    "        self.name = name\n",
    "        self.email = email\n",
    "        self.score = score\n",
    "        \n",
    "    def __str__(self):\n",
    "        return self.name + \" - \" + self.email\n",
    "    def __repr__(self):\n",
    "        return f\"Student('{self.name}','{self.email}', '{self.score}')\"\n",
    "    \n",
    "    def __add__(self,other):\n",
    "        return self.score + other .score\n",
    "    \n",
    "        \n",
    "student_1 = Student(\"Tom\",\"tom@gmail.com\",80)\n",
    "student_2 = Student(\"Jack\",\"jack@gmail.com\",78)\n",
    "\n",
    "print(student_2.__str__())\n",
    "print(student_2.__repr__())\n",
    "print(student_2)\n",
    "\n",
    "print(student_1 + student_2)"
   ]
  },
  {
   "cell_type": "markdown",
   "metadata": {},
   "source": [
    "Complete the given code to define a static add() method for the calculator class, which returns the sum of its parameters\n",
    "\n",
    "the codde takes two numbers as input, and should return their sum using the calculator class's add() method."
   ]
  },
  {
   "cell_type": "code",
   "execution_count": 64,
   "metadata": {},
   "outputs": [
    {
     "name": "stdout",
     "output_type": "stream",
     "text": [
      "2\n",
      "3\n",
      "5\n"
     ]
    }
   ],
   "source": [
    "class Calculator:\n",
    "    def __init__(self,num):\n",
    "        self.num = num\n",
    "        \n",
    "    def __add__(self,other):\n",
    "        sum = self.num + other.num\n",
    "        return (sum)\n",
    "    \n",
    "n1 = Calculator(int(input()))\n",
    "n2 = Calculator(int(input()))\n",
    "\n",
    "print(n1+n2)"
   ]
  },
  {
   "cell_type": "markdown",
   "metadata": {},
   "source": [
    "tells whether the day is a workday in Boolean"
   ]
  },
  {
   "cell_type": "code",
   "execution_count": 83,
   "metadata": {},
   "outputs": [
    {
     "name": "stdout",
     "output_type": "stream",
     "text": [
      "                                  2024\n",
      "\n",
      "      January                   February                   March\n",
      "Mo Tu We Th Fr Sa Su      Mo Tu We Th Fr Sa Su      Mo Tu We Th Fr Sa Su\n",
      " 1  2  3  4  5  6  7                1  2  3  4                   1  2  3\n",
      " 8  9 10 11 12 13 14       5  6  7  8  9 10 11       4  5  6  7  8  9 10\n",
      "15 16 17 18 19 20 21      12 13 14 15 16 17 18      11 12 13 14 15 16 17\n",
      "22 23 24 25 26 27 28      19 20 21 22 23 24 25      18 19 20 21 22 23 24\n",
      "29 30 31                  26 27 28 29               25 26 27 28 29 30 31\n",
      "\n",
      "       April                      May                       June\n",
      "Mo Tu We Th Fr Sa Su      Mo Tu We Th Fr Sa Su      Mo Tu We Th Fr Sa Su\n",
      " 1  2  3  4  5  6  7             1  2  3  4  5                      1  2\n",
      " 8  9 10 11 12 13 14       6  7  8  9 10 11 12       3  4  5  6  7  8  9\n",
      "15 16 17 18 19 20 21      13 14 15 16 17 18 19      10 11 12 13 14 15 16\n",
      "22 23 24 25 26 27 28      20 21 22 23 24 25 26      17 18 19 20 21 22 23\n",
      "29 30                     27 28 29 30 31            24 25 26 27 28 29 30\n",
      "\n",
      "        July                     August                  September\n",
      "Mo Tu We Th Fr Sa Su      Mo Tu We Th Fr Sa Su      Mo Tu We Th Fr Sa Su\n",
      " 1  2  3  4  5  6  7                1  2  3  4                         1\n",
      " 8  9 10 11 12 13 14       5  6  7  8  9 10 11       2  3  4  5  6  7  8\n",
      "15 16 17 18 19 20 21      12 13 14 15 16 17 18       9 10 11 12 13 14 15\n",
      "22 23 24 25 26 27 28      19 20 21 22 23 24 25      16 17 18 19 20 21 22\n",
      "29 30 31                  26 27 28 29 30 31         23 24 25 26 27 28 29\n",
      "                                                    30\n",
      "\n",
      "      October                   November                  December\n",
      "Mo Tu We Th Fr Sa Su      Mo Tu We Th Fr Sa Su      Mo Tu We Th Fr Sa Su\n",
      "    1  2  3  4  5  6                   1  2  3                         1\n",
      " 7  8  9 10 11 12 13       4  5  6  7  8  9 10       2  3  4  5  6  7  8\n",
      "14 15 16 17 18 19 20      11 12 13 14 15 16 17       9 10 11 12 13 14 15\n",
      "21 22 23 24 25 26 27      18 19 20 21 22 23 24      16 17 18 19 20 21 22\n",
      "28 29 30 31               25 26 27 28 29 30         23 24 25 26 27 28 29\n",
      "                                                    30 31\n",
      "\n"
     ]
    }
   ],
   "source": [
    "import calendar\n",
    "import datetime\n",
    "import schedule\n",
    "\n",
    "class Schedule:\n",
    "    def __init__(self,day):\n",
    "        self.day = day\n",
    "   \n",
    "    @staticmethod\n",
    "    def is_workday(day):\n",
    "        #datetime starts the week as a list with monday being 0.\n",
    "        if day.weekday() == 5 or day.weekday() ==6:\n",
    "            return False\n",
    "        return True\n",
    "#     count = 0\n",
    "#     while count < 366:\n",
    "#         if \n",
    "        \n",
    "year = 2021\n",
    "\n",
    "print(calendar.month())\n",
    "\n",
    "print(calendar.calendar(year))\n",
    "\n",
    "\n",
    "# curr_yr = int(input('what is the current year (YYYY): '))\n",
    "# y = int(input('month (MM): '))\n",
    "# z = int(input('day (DD): '))\n",
    "\n",
    "# my_date = datetime.date(curr_yr,y,z)\n",
    "# my_date = (my_date)\n",
    "# print(Schedule.is_workday(my_date))\n",
    "\n"
   ]
  },
  {
   "cell_type": "code",
   "execution_count": null,
   "metadata": {},
   "outputs": [],
   "source": [
    "@staticmethod\n",
    "def is_workday(day):\n",
    "    #datetime starts the week as a list with monday being 0.\n",
    "    if day.weekday() == 5 or if day.weekday() ==6:\n",
    "        return False\n",
    "    return True"
   ]
  },
  {
   "cell_type": "code",
   "execution_count": 66,
   "metadata": {},
   "outputs": [
    {
     "ename": "SyntaxError",
     "evalue": "invalid syntax (<ipython-input-66-4ded9edcbcb3>, line 1)",
     "output_type": "error",
     "traceback": [
      "\u001b[1;36m  File \u001b[1;32m\"<ipython-input-66-4ded9edcbcb3>\"\u001b[1;36m, line \u001b[1;32m1\u001b[0m\n\u001b[1;33m    man calendar\u001b[0m\n\u001b[1;37m        ^\u001b[0m\n\u001b[1;31mSyntaxError\u001b[0m\u001b[1;31m:\u001b[0m invalid syntax\n"
     ]
    }
   ],
   "source": []
  },
  {
   "cell_type": "code",
   "execution_count": 2,
   "metadata": {},
   "outputs": [
    {
     "name": "stdout",
     "output_type": "stream",
     "text": [
      "I'm working...\n",
      "stuff...\n",
      "I'm working...\n",
      "I'm working...\n",
      "stuff...\n",
      "stuff...\n",
      "I'm working...\n",
      "I'm working...\n",
      "stuff...\n",
      "I'm working...\n",
      "stuff...\n",
      "I'm working...\n",
      "I'm working...\n",
      "stuff...\n",
      "stuff...\n",
      "I'm working...\n",
      "I'm working...\n",
      "stuff...\n"
     ]
    },
    {
     "ename": "KeyboardInterrupt",
     "evalue": "",
     "output_type": "error",
     "traceback": [
      "\u001b[1;31m---------------------------------------------------------------------------\u001b[0m",
      "\u001b[1;31mKeyboardInterrupt\u001b[0m                         Traceback (most recent call last)",
      "\u001b[1;32m<ipython-input-2-2a4a8d4c3896>\u001b[0m in \u001b[0;36m<module>\u001b[1;34m\u001b[0m\n\u001b[0;32m     20\u001b[0m \u001b[1;32mwhile\u001b[0m \u001b[1;32mTrue\u001b[0m\u001b[1;33m:\u001b[0m\u001b[1;33m\u001b[0m\u001b[1;33m\u001b[0m\u001b[0m\n\u001b[0;32m     21\u001b[0m     \u001b[0mschedule\u001b[0m\u001b[1;33m.\u001b[0m\u001b[0mrun_pending\u001b[0m\u001b[1;33m(\u001b[0m\u001b[1;33m)\u001b[0m\u001b[1;33m\u001b[0m\u001b[1;33m\u001b[0m\u001b[0m\n\u001b[1;32m---> 22\u001b[1;33m     \u001b[0mtime\u001b[0m\u001b[1;33m.\u001b[0m\u001b[0msleep\u001b[0m\u001b[1;33m(\u001b[0m\u001b[1;36m1\u001b[0m\u001b[1;33m)\u001b[0m\u001b[1;33m\u001b[0m\u001b[1;33m\u001b[0m\u001b[0m\n\u001b[0m",
      "\u001b[1;31mKeyboardInterrupt\u001b[0m: "
     ]
    }
   ],
   "source": [
    "import schedule\n",
    "import time\n",
    "\n",
    "def job():\n",
    "    print(\"I'm working...\")\n",
    "\n",
    "def other():\n",
    "    print(\"stuff...\")\n",
    "\n",
    "schedule.every(10).seconds.do(job)\n",
    "schedule.every(5).seconds.do(other)\n",
    "# schedule.every(10).minutes.do(job)\n",
    "# schedule.every().hour.do(job)\n",
    "# schedule.every().day.at(\"10:30\").do(job)\n",
    "# schedule.every(5).to(10).minutes.do(job)\n",
    "# schedule.every().monday.do(job)\n",
    "# schedule.every().wednesday.at(\"13:15\").do(job)\n",
    "# schedule.every().minute.at(\":17\").do(job)\n",
    "\n",
    "while True:\n",
    "    schedule.run_pending()\n",
    "    time.sleep(1)"
   ]
  },
  {
   "cell_type": "code",
   "execution_count": 21,
   "metadata": {},
   "outputs": [
    {
     "name": "stdout",
     "output_type": "stream",
     "text": [
      "Requirement already satisfied: schedule in c:\\users\\ridge\\anaconda3\\lib\\site-packages (0.6.0)\n",
      "Note: you may need to restart the kernel to use updated packages.\n"
     ]
    }
   ],
   "source": [
    "pip install schedule"
   ]
  },
  {
   "cell_type": "code",
   "execution_count": 23,
   "metadata": {},
   "outputs": [
    {
     "name": "stdout",
     "output_type": "stream",
     "text": [
      "3\n",
      "False\n"
     ]
    }
   ],
   "source": [
    "class Number:\n",
    "    def __init__(self,num):\n",
    "        self.num = num\n",
    "   \n",
    "        \n",
    "    @staticmethod\n",
    "    def isEven(x):\n",
    "        if x%2==0:\n",
    "            return True\n",
    "        else:\n",
    "            return False\n",
    "        \n",
    "        \n",
    "print(stuff.isEven(int(input())))"
   ]
  },
  {
   "cell_type": "code",
   "execution_count": 11,
   "metadata": {},
   "outputs": [
    {
     "name": "stdout",
     "output_type": "stream",
     "text": [
      "3\n",
      "False\n"
     ]
    }
   ],
   "source": [
    "class Number:\n",
    "    def __init__(self,num):\n",
    "        self.num = num\n",
    "        self._isEven = False\n",
    "    \n",
    "    @property\n",
    "    def isEven(self):\n",
    "        return self._isEven\n",
    "    \n",
    "    @isEven.setter\n",
    "    def isEven(self,value):\n",
    "        if value%2 == 0:\n",
    "            if x%2==0:\n",
    "                return True\n",
    "            else:\n",
    "                return False\n",
    "\n",
    "stuff = Number(int(input()))\n",
    "# print(stuff.isEven)\n",
    "# stuff.isEven = True\n",
    "        \n",
    "print(stuff.isEven)"
   ]
  },
  {
   "cell_type": "code",
   "execution_count": null,
   "metadata": {},
   "outputs": [],
   "source": [
    "self._pineapple_allowed = False\n",
    "\n",
    "    @property\n",
    "    def pineapple_allowed(self):\n",
    "        return self._pineapple_allowed\n",
    "\n",
    "    @pineapple_allowed.setter\n",
    "    def pineapple_allowed(self, value):\n",
    "        if value:"
   ]
  }
 ],
 "metadata": {
  "kernelspec": {
   "display_name": "Python 3",
   "language": "python",
   "name": "python3"
  },
  "language_info": {
   "codemirror_mode": {
    "name": "ipython",
    "version": 3
   },
   "file_extension": ".py",
   "mimetype": "text/x-python",
   "name": "python",
   "nbconvert_exporter": "python",
   "pygments_lexer": "ipython3",
   "version": "3.8.5"
  }
 },
 "nbformat": 4,
 "nbformat_minor": 4
}
