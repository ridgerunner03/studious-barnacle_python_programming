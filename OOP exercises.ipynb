{
 "cells": [
  {
   "cell_type": "code",
   "execution_count": 12,
   "metadata": {},
   "outputs": [
    {
     "name": "stdout",
     "output_type": "stream",
     "text": [
      "42\n",
      "42\n"
     ]
    },
    {
     "data": {
      "text/plain": [
       "1764"
      ]
     },
     "execution_count": 12,
     "metadata": {},
     "output_type": "execute_result"
    }
   ],
   "source": [
    "class Rectangle:\n",
    "#     defines the two attributes of this 2D shape\n",
    "    def __init__ (self, height, width):\n",
    "        self.w = width\n",
    "        self.h = height\n",
    "        \n",
    "#     they ask for the volume but they mean the area because it is 2D not 3D\n",
    "    def vol(self):\n",
    "        return self.w * self.h\n",
    "        \n",
    "w = int(input())\n",
    "h = int(input())\n",
    "        \n",
    "obj = Rectangle(w,h)\n",
    "obj.vol()"
   ]
  },
  {
   "cell_type": "code",
   "execution_count": 6,
   "metadata": {},
   "outputs": [],
   "source": [
    "obj = Rectangle(3,4)"
   ]
  },
  {
   "cell_type": "code",
   "execution_count": 7,
   "metadata": {},
   "outputs": [
    {
     "data": {
      "text/plain": [
       "12"
      ]
     },
     "execution_count": 7,
     "metadata": {},
     "output_type": "execute_result"
    }
   ],
   "source": [
    "obj.vol()"
   ]
  },
  {
   "cell_type": "code",
   "execution_count": null,
   "metadata": {},
   "outputs": [],
   "source": [
    "class Living:\n",
    "    def __init__ (self, breathing, emoting):\n",
    "        self.breathing = breathing\n",
    "        self.emoting = emoting\n",
    "class Animal(Living): \n",
    "    def __init__(self, name, color):\n",
    "        self.name = name\n",
    "        self.color = color\n",
    "\n",
    "class Cat(Animal):\n",
    "    def purr(self):\n",
    "        print(\"Purr...\")\n",
    "        \n",
    "class Dog(Animal):\n",
    "    def bark(self):\n",
    "        print(\"Woof!\")\n",
    "\n",
    "fido = Dog(\"Fido\", \"brown\")\n",
    "print(fido.color)\n",
    "\n",
    "#here fido is allowed attributes from dog, animal, and living so you can have superclasses within superclasses!\n",
    "fido.bark()"
   ]
  }
 ],
 "metadata": {
  "kernelspec": {
   "display_name": "Python 3",
   "language": "python",
   "name": "python3"
  },
  "language_info": {
   "codemirror_mode": {
    "name": "ipython",
    "version": 3
   },
   "file_extension": ".py",
   "mimetype": "text/x-python",
   "name": "python",
   "nbconvert_exporter": "python",
   "pygments_lexer": "ipython3",
   "version": "3.8.5"
  }
 },
 "nbformat": 4,
 "nbformat_minor": 4
}
