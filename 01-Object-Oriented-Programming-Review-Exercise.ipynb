{
 "cells": [
  {
   "cell_type": "markdown",
   "metadata": {
    "collapsed": true
   },
   "source": [
    "# OOP Review Exercises\n",
    "\n",
    "Since OOP can be complex for recruits, let's give you some quick exercises to check your understanding!\n",
    "\n",
    "### Exercise 1\n",
    "\n",
    "** Create a Sphere class that accepts a radius upon instantiation and has a volume and surface area method. **"
   ]
  },
  {
   "cell_type": "code",
   "execution_count": 5,
   "metadata": {},
   "outputs": [],
   "source": [
    "class Sphere():\n",
    "    # set up the variables for area and volume of a sphere\n",
    "    def __init__(self,radius):\n",
    "        self.radius = radius\n",
    "    def surface_area(self):\n",
    "#         Determine the surface area of the sphere\n",
    "        return 4*3.14*(self.radius**2)\n",
    "    def volume(self):\n",
    "#         Determine the volume of the sphere\n",
    "        return (4/3)*3.14*(self.radius**3)"
   ]
  },
  {
   "cell_type": "markdown",
   "metadata": {},
   "source": [
    "___"
   ]
  },
  {
   "cell_type": "code",
   "execution_count": 6,
   "metadata": {},
   "outputs": [],
   "source": [
    "x=Sphere(4)"
   ]
  },
  {
   "cell_type": "code",
   "execution_count": 7,
   "metadata": {},
   "outputs": [
    {
     "data": {
      "text/plain": [
       "200.96"
      ]
     },
     "execution_count": 7,
     "metadata": {},
     "output_type": "execute_result"
    }
   ],
   "source": [
    "x.surface_area()"
   ]
  },
  {
   "cell_type": "code",
   "execution_count": 9,
   "metadata": {},
   "outputs": [
    {
     "data": {
      "text/plain": [
       "267.94666666666666"
      ]
     },
     "execution_count": 9,
     "metadata": {},
     "output_type": "execute_result"
    }
   ],
   "source": [
    "x.volume()"
   ]
  },
  {
   "cell_type": "code",
   "execution_count": 10,
   "metadata": {},
   "outputs": [],
   "source": [
    "s = Sphere(1)"
   ]
  },
  {
   "cell_type": "code",
   "execution_count": 11,
   "metadata": {},
   "outputs": [
    {
     "data": {
      "text/plain": [
       "12.56"
      ]
     },
     "execution_count": 11,
     "metadata": {},
     "output_type": "execute_result"
    }
   ],
   "source": [
    "s.surface_area()"
   ]
  },
  {
   "cell_type": "code",
   "execution_count": 12,
   "metadata": {},
   "outputs": [
    {
     "data": {
      "text/plain": [
       "4.1866666666666665"
      ]
     },
     "execution_count": 12,
     "metadata": {},
     "output_type": "execute_result"
    }
   ],
   "source": [
    "s.volume()"
   ]
  },
  {
   "cell_type": "markdown",
   "metadata": {},
   "source": [
    "____"
   ]
  },
  {
   "cell_type": "markdown",
   "metadata": {},
   "source": [
    "## Exercise 2\n",
    "\n",
    "**For this exercise we will have several steps.**\n",
    "1. Create a class called GuessingGame.\n",
    "2. The class doesn't need any user provided arguments for instantiation.\n",
    "3. In the __init__ method have the class set a  self.rand_choice attribute to a random integer between 0-10 (use import random)\n",
    "4. Now create a method in the class called reset_random that will reset this self.rand_choice attribute\n",
    "5. Now create a method called guess that uses the input() function to accept a user guess for the random number. This method should print out a statement indicating whether or not the user guess was correct. Bonus: Add logic that will report back to the user to guess higher or lower next time they call the guess() method.\n",
    "\n",
    "**Check out the example code below for what the game should look like:**"
   ]
  },
  {
   "cell_type": "code",
   "execution_count": 214,
   "metadata": {},
   "outputs": [],
   "source": [
    "import random\n",
    "\n",
    "class GuessingGame():\n",
    "#     Here I define my random number\n",
    "    def __init__(self):\n",
    "#         Note that this rand_choice variable was created without making an instance of it\n",
    "#         this means that it is not necessary to provide an input.\n",
    "#         also, there was no need to create a rand_choice method.\n",
    "        self.rand_choice = random.randint(0,11)\n",
    "        \n",
    "    def reset_random(self):\n",
    "#         This method can be called to reset the game or to start over\n",
    "        self.rand_choice = random.randint(0,11)\n",
    "        print(\"resetting random choice\")\n",
    "        \n",
    "    def guess(self):\n",
    "#         Call this method to play the game.\n",
    "#         It will give you a hint if you need to guess higher or lower\n",
    "#         and you can call this method as many times as you need to get the correct answer\n",
    "        user_choice = int(input('Please input your guess (0-10): '))\n",
    "\n",
    "        if user_choice>self.rand_choice:\n",
    "            print(\"Sorry you didn't guess correctly!\")\n",
    "            print('Guess Lower!')\n",
    "            print('Call the guess() method again to try again.')\n",
    "            \n",
    "            \n",
    "        elif user_choice<self.rand_choice:\n",
    "            print(\"Sorry you didn't guess correctly!\")\n",
    "            print('Guess Higher!')\n",
    "            print('Call the guess() method again to try again.')\n",
    "           \n",
    "        else:\n",
    "            print(\"Correct!\")\n",
    "            print(\"You guessed the correct number.\")\n",
    "            print(\"type 'reset_random()' to play again.\")\n",
    "        "
   ]
  },
  {
   "cell_type": "code",
   "execution_count": 204,
   "metadata": {},
   "outputs": [],
   "source": [
    "g=GuessingGame()"
   ]
  },
  {
   "cell_type": "code",
   "execution_count": 209,
   "metadata": {},
   "outputs": [
    {
     "name": "stdout",
     "output_type": "stream",
     "text": [
      "resetting random choice\n"
     ]
    }
   ],
   "source": [
    "g.reset_random()"
   ]
  },
  {
   "cell_type": "code",
   "execution_count": 210,
   "metadata": {
    "scrolled": false
   },
   "outputs": [
    {
     "name": "stdout",
     "output_type": "stream",
     "text": [
      "Please input your guess (0-10): 4\n",
      "Sorry you didn't guess correctly!\n",
      "Guess Higher!\n",
      "Call the guess() method again to try again.\n"
     ]
    }
   ],
   "source": [
    "g.guess()"
   ]
  },
  {
   "cell_type": "code",
   "execution_count": 211,
   "metadata": {},
   "outputs": [
    {
     "name": "stdout",
     "output_type": "stream",
     "text": [
      "Please input your guess (0-10): 7\n",
      "Sorry you didn't guess correctly!\n",
      "Guess Lower!\n",
      "Call the guess() method again to try again.\n"
     ]
    }
   ],
   "source": [
    "g.guess()"
   ]
  },
  {
   "cell_type": "code",
   "execution_count": 212,
   "metadata": {
    "scrolled": true
   },
   "outputs": [
    {
     "name": "stdout",
     "output_type": "stream",
     "text": [
      "Please input your guess (0-10): 5\n",
      "Sorry you didn't guess correctly!\n",
      "Guess Higher!\n",
      "Call the guess() method again to try again.\n"
     ]
    }
   ],
   "source": [
    "g.guess()"
   ]
  },
  {
   "cell_type": "code",
   "execution_count": 213,
   "metadata": {},
   "outputs": [
    {
     "name": "stdout",
     "output_type": "stream",
     "text": [
      "Please input your guess (0-10): 6\n",
      "Correct!\n",
      "You guessed the correct number.\n",
      "type 'reset_random()' to play again.\n"
     ]
    }
   ],
   "source": [
    "g.guess()"
   ]
  },
  {
   "cell_type": "code",
   "execution_count": 192,
   "metadata": {},
   "outputs": [
    {
     "name": "stdout",
     "output_type": "stream",
     "text": [
      "Please input your guess (0-10): 4\n",
      "Correct!\n",
      "You guessed the correct number.\n",
      "type 'reset_random()' to play again.\n"
     ]
    }
   ],
   "source": [
    "g.guess()"
   ]
  },
  {
   "cell_type": "markdown",
   "metadata": {},
   "source": [
    "____"
   ]
  },
  {
   "cell_type": "code",
   "execution_count": 23,
   "metadata": {
    "collapsed": true
   },
   "outputs": [],
   "source": [
    "g = GuessingGame()"
   ]
  },
  {
   "cell_type": "code",
   "execution_count": 24,
   "metadata": {},
   "outputs": [
    {
     "data": {
      "text/plain": [
       "6"
      ]
     },
     "execution_count": 24,
     "metadata": {},
     "output_type": "execute_result"
    }
   ],
   "source": [
    "g.rand_choice"
   ]
  },
  {
   "cell_type": "code",
   "execution_count": 25,
   "metadata": {},
   "outputs": [
    {
     "name": "stdout",
     "output_type": "stream",
     "text": [
      "Resetting Random Choice\n"
     ]
    }
   ],
   "source": [
    "g.reset_random()"
   ]
  },
  {
   "cell_type": "code",
   "execution_count": 26,
   "metadata": {},
   "outputs": [
    {
     "name": "stdout",
     "output_type": "stream",
     "text": [
      "Please input your guess (0-10): 3\n",
      "Sorry you didn't guess correctly!\n",
      "Guess Lower!\n",
      "Call the guess() method again to try again.\n"
     ]
    }
   ],
   "source": [
    "g.guess()"
   ]
  },
  {
   "cell_type": "code",
   "execution_count": 27,
   "metadata": {},
   "outputs": [
    {
     "name": "stdout",
     "output_type": "stream",
     "text": [
      "Please input your guess (0-10): 1\n",
      "Correct Guess!\n"
     ]
    }
   ],
   "source": [
    "g.guess()"
   ]
  },
  {
   "cell_type": "markdown",
   "metadata": {},
   "source": [
    "**Best of luck on the exercises! Solutions are coming up next!**"
   ]
  }
 ],
 "metadata": {
  "anaconda-cloud": {},
  "kernelspec": {
   "display_name": "Python 3",
   "language": "python",
   "name": "python3"
  },
  "language_info": {
   "codemirror_mode": {
    "name": "ipython",
    "version": 3
   },
   "file_extension": ".py",
   "mimetype": "text/x-python",
   "name": "python",
   "nbconvert_exporter": "python",
   "pygments_lexer": "ipython3",
   "version": "3.8.5"
  }
 },
 "nbformat": 4,
 "nbformat_minor": 2
}
