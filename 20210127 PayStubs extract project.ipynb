{
 "cells": [
  {
   "cell_type": "markdown",
   "metadata": {},
   "source": [
    "20210126 final attempt starts here.  I have figured out the regex operands I believe but need to figure out the file import os.  For some reason it is looping through the file twice. NOTE that it all four data points have two entries so the problem must exist between lines 18-25."
   ]
  },
  {
   "cell_type": "markdown",
   "metadata": {},
   "source": [
    "While in the folder/directory to be converted run the following command in CLI:\n",
    "\n",
    "for f in ./*.pdf; do ocrmypdf \"$f\" \"$(basename \"$f\" \".pdf\")_ocr.pdf\"; done"
   ]
  },
  {
   "cell_type": "code",
   "execution_count": 52,
   "metadata": {},
   "outputs": [],
   "source": [
    "# empty global lists and variables for later\n",
    "employee_id = []\n",
    "date = []\n",
    "gross_amt = []\n",
    "net_amt = []"
   ]
  },
  {
   "cell_type": "code",
   "execution_count": 53,
   "metadata": {},
   "outputs": [
    {
     "name": "stdout",
     "output_type": "stream",
     "text": [
      "['rnings  986.80']\n",
      "1\n",
      "['rnings  166.67']\n",
      "2\n",
      "['rnings  986.80']\n",
      "3\n",
      "['rnings  986.80']\n",
      "4\n",
      "['rnings  986.80']\n",
      "5\n",
      "['rnings  820.13']\n",
      "6\n",
      "['rnings  166.67']\n",
      "['rnings  820.13']\n",
      "['rnings  166.67']\n",
      "['rnings  820.13']\n",
      "['rnings  820.13']\n",
      "7\n",
      "['rnings  820.13']\n",
      "8\n",
      "['rnings  166.67']\n",
      "['rnings  986.80']\n",
      "9\n"
     ]
    }
   ],
   "source": [
    "import os\n",
    "# I have found better results with pdfplumber than with PyPDF2\n",
    "import pdfplumber\n",
    "import re\n",
    "count = 0\n",
    "eid=[r'Id\\s*\\d\\d\\d\\d\\d']\n",
    "pattern= (r'.........\\s*..\\s*.\\s*20\\d\\d')\n",
    "gross=[r'rnings\\s*\\d\\d\\d.\\d\\d']\n",
    "net=[r'ary\\s*\\d\\d\\d.\\d\\d']\n",
    "\n",
    "directory = '/home/kings_gambit/Documents/Python/PayStubs/'\n",
    "\n",
    "for file in os.listdir(directory):\n",
    "    location = os.path.join(directory,file)\n",
    "    if  file.endswith(\"_ocr.pdf\"):\n",
    "        with pdfplumber.open(location)as f:\n",
    "            page = f.pages[0]\n",
    "            text = page.extract_text()\n",
    "\n",
    "\n",
    "            for f in eid:\n",
    "                if re.findall(f,text) != []:\n",
    "                    match = re.findall(f,text)\n",
    "                    # removes 'Id' from the string\n",
    "                    new = [char.replace('Id', '') for char in match]\n",
    "                    for num in range(len(new)):\n",
    "                        new[num] = int(new[num])\n",
    "                    employee_id.extend(new)\n",
    "                    \n",
    "#             match = re.findall(pattern,text)\n",
    "#             date.append(match[0])\n",
    "\n",
    "            for f in gross:\n",
    "                if re.findall(f,text) != []:\n",
    "                    match = re.findall(f,text)\n",
    "                    print(match)\n",
    "                    # removes 'Id' from the string\n",
    "                    new = [char.replace('rnings', '') for char in match]\n",
    "    #                     print(new[0])\n",
    "                    for num in range(len(new)):\n",
    "                        new[num] = float(new[num])\n",
    "                    gross_amt.extend(new)\n",
    "                    \n",
    "\n",
    "\n",
    "            for f in net:\n",
    "                if re.findall(f,text) != []:\n",
    "                    match = re.findall(f,text)\n",
    "                    # removes 'Id' from the string\n",
    "                    new = [char.replace('ary', '') for char in match]\n",
    "                    for num in range(len(new)):\n",
    "                        new[num] = float(new[num])\n",
    "                    net_amt.extend(new)   \n",
    "                    count +=1\n",
    "                    print(count)\n",
    "            "
   ]
  },
  {
   "cell_type": "code",
   "execution_count": 54,
   "metadata": {},
   "outputs": [
    {
     "name": "stdout",
     "output_type": "stream",
     "text": [
      "[10160, 10160, 10160, 19007, 19007, 19007]\n",
      "[]\n",
      "[986.8, 166.67, 986.8, 986.8, 986.8, 820.13, 166.67, 820.13, 166.67, 820.13, 820.13, 820.13, 166.67, 986.8]\n",
      "[916.67, 750.0, 916.67, 916.67, 916.67, 750.0, 750.0, 750.0, 916.67]\n"
     ]
    }
   ],
   "source": [
    "print(employee_id)\n",
    "print(date)\n",
    "print(gross_amt)\n",
    "print(net_amt)"
   ]
  },
  {
   "cell_type": "code",
   "execution_count": 55,
   "metadata": {},
   "outputs": [
    {
     "name": "stdout",
     "output_type": "stream",
     "text": [
      "6\n",
      "0\n",
      "14\n",
      "9\n"
     ]
    }
   ],
   "source": [
    "# totalfiles = \n",
    "print(len(employee_id))\n",
    "print(len(date))\n",
    "print(len(gross_amt))\n",
    "print(len(net_amt))"
   ]
  },
  {
   "cell_type": "code",
   "execution_count": null,
   "metadata": {},
   "outputs": [],
   "source": []
  },
  {
   "cell_type": "code",
   "execution_count": null,
   "metadata": {},
   "outputs": [],
   "source": []
  },
  {
   "cell_type": "code",
   "execution_count": null,
   "metadata": {},
   "outputs": [],
   "source": []
  },
  {
   "cell_type": "code",
   "execution_count": null,
   "metadata": {},
   "outputs": [],
   "source": []
  },
  {
   "cell_type": "code",
   "execution_count": null,
   "metadata": {},
   "outputs": [],
   "source": []
  },
  {
   "cell_type": "code",
   "execution_count": null,
   "metadata": {},
   "outputs": [],
   "source": []
  },
  {
   "cell_type": "code",
   "execution_count": null,
   "metadata": {},
   "outputs": [],
   "source": []
  },
  {
   "cell_type": "code",
   "execution_count": null,
   "metadata": {},
   "outputs": [],
   "source": []
  },
  {
   "cell_type": "code",
   "execution_count": null,
   "metadata": {},
   "outputs": [],
   "source": []
  },
  {
   "cell_type": "code",
   "execution_count": null,
   "metadata": {},
   "outputs": [],
   "source": []
  },
  {
   "cell_type": "code",
   "execution_count": null,
   "metadata": {},
   "outputs": [],
   "source": []
  }
 ],
 "metadata": {
  "kernelspec": {
   "display_name": "Python 3",
   "language": "python",
   "name": "python3"
  },
  "language_info": {
   "codemirror_mode": {
    "name": "ipython",
    "version": 3
   },
   "file_extension": ".py",
   "mimetype": "text/x-python",
   "name": "python",
   "nbconvert_exporter": "python",
   "pygments_lexer": "ipython3",
   "version": "3.8.5"
  }
 },
 "nbformat": 4,
 "nbformat_minor": 4
}
