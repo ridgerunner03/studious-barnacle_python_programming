{
 "cells": [
  {
   "cell_type": "code",
   "execution_count": 1,
   "metadata": {},
   "outputs": [
    {
     "name": "stdout",
     "output_type": "stream",
     "text": [
      "The Zen of Python, by Tim Peters\n",
      "\n",
      "Beautiful is better than ugly.\n",
      "Explicit is better than implicit.\n",
      "Simple is better than complex.\n",
      "Complex is better than complicated.\n",
      "Flat is better than nested.\n",
      "Sparse is better than dense.\n",
      "Readability counts.\n",
      "Special cases aren't special enough to break the rules.\n",
      "Although practicality beats purity.\n",
      "Errors should never pass silently.\n",
      "Unless explicitly silenced.\n",
      "In the face of ambiguity, refuse the temptation to guess.\n",
      "There should be one-- and preferably only one --obvious way to do it.\n",
      "Although that way may not be obvious at first unless you're Dutch.\n",
      "Now is better than never.\n",
      "Although never is often better than *right* now.\n",
      "If the implementation is hard to explain, it's a bad idea.\n",
      "If the implementation is easy to explain, it may be a good idea.\n",
      "Namespaces are one honking great idea -- let's do more of those!\n"
     ]
    }
   ],
   "source": [
    "import this\n"
   ]
  },
  {
   "cell_type": "markdown",
   "metadata": {},
   "source": [
    "PEP8 summary:\n",
    "\n",
    "-modules = alllowercasenames\n",
    "-classes = AlwaysUseCamelCasing\n",
    "-variables & functions = always_use_snake_casing\n",
    "-constants = ALWAYS_USE_ALL_CAPS\n",
    "-variables that would clash with keywords should be avoided or end in an underscore (i.e. class_)\n",
    "-use whitespace esp. around operators and after commas to increase readability but not in brackets or parentheses\n",
    "\n",
    "-lines should never be longer than 80 characters\n",
    "-'from module import*' should be avoided\n",
    "-only one statement per line\n",
    "\n"
   ]
  },
  {
   "cell_type": "markdown",
   "metadata": {},
   "source": [
    "Given a function that takes 2 arguments and returns their sum.\n",
    "But we get an error when we want to sum more than 2 numbers. Change the function and complete the code so that the function sums as many numbers as are input.\n",
    "*args are accessible as the tuple args in the body of the function, so you can iterate through its items."
   ]
  },
  {
   "cell_type": "code",
   "execution_count": 10,
   "metadata": {},
   "outputs": [
    {
     "name": "stdout",
     "output_type": "stream",
     "text": [
      "9\n"
     ]
    }
   ],
   "source": [
    "#change the function\n",
    "def adder(*args):\n",
    "    result = 0\n",
    "    for x in args:\n",
    "        result += x\n",
    "    print(result)\n",
    "\n",
    "adder(2, 3)\n",
    "adder(2, 3, 4)\n",
    "adder(1, 2, 3, 4, 5)"
   ]
  },
  {
   "cell_type": "code",
   "execution_count": 20,
   "metadata": {},
   "outputs": [
    {
     "name": "stdout",
     "output_type": "stream",
     "text": [
      "17\n",
      "16\n",
      "Too young!\n"
     ]
    }
   ],
   "source": [
    "ages = []\n",
    "i = 0\n",
    "while i<3:\n",
    "    age = int(input())\n",
    "    if age > 16:\n",
    "        ages.append(age)\n",
    "        if i >= 2:\n",
    "            print(\"Get ready!\")\n",
    "            break\n",
    "        i+=1\n",
    "    else:\n",
    "        print(\"Too young!\")\n",
    "        break"
   ]
  },
  {
   "cell_type": "code",
   "execution_count": 27,
   "metadata": {},
   "outputs": [
    {
     "name": "stdout",
     "output_type": "stream",
     "text": [
      "sd\n",
      "Enter only digits\n"
     ]
    }
   ],
   "source": [
    "code = input()\n",
    "\n",
    "\n",
    "#your code goes here\n",
    "try:\n",
    "    code = int(code)\n",
    "    print(\"Order accepted\")\n",
    "except ValueError:\n",
    "    print(\"Enter only digits\")\n",
    "else:\n",
    "    print(\"mon appetit\")"
   ]
  },
  {
   "cell_type": "code",
   "execution_count": 100,
   "metadata": {},
   "outputs": [
    {
     "name": "stdout",
     "output_type": "stream",
     "text": [
      "I-love-Python-!\n"
     ]
    }
   ],
   "source": [
    "def concatenate(*args):\n",
    "    result = []\n",
    "    a = 0\n",
    "    for i in args:\n",
    "        result.insert(a,i)\n",
    "        if a%2 == 0:\n",
    "            result.insert(a,\"-\")\n",
    "            a +=2\n",
    "    result.pop(0)\n",
    "    final = ''.join(result)\n",
    "    return(final)\n",
    "        \n",
    "print(concatenate(\"I\", \"love\", \"Python\", \"!\"))"
   ]
  },
  {
   "cell_type": "code",
   "execution_count": null,
   "metadata": {},
   "outputs": [],
   "source": []
  },
  {
   "cell_type": "code",
   "execution_count": null,
   "metadata": {},
   "outputs": [],
   "source": []
  },
  {
   "cell_type": "code",
   "execution_count": null,
   "metadata": {},
   "outputs": [],
   "source": []
  },
  {
   "cell_type": "code",
   "execution_count": null,
   "metadata": {},
   "outputs": [],
   "source": []
  }
 ],
 "metadata": {
  "kernelspec": {
   "display_name": "Python 3",
   "language": "python",
   "name": "python3"
  },
  "language_info": {
   "codemirror_mode": {
    "name": "ipython",
    "version": 3
   },
   "file_extension": ".py",
   "mimetype": "text/x-python",
   "name": "python",
   "nbconvert_exporter": "python",
   "pygments_lexer": "ipython3",
   "version": "3.8.5"
  }
 },
 "nbformat": 4,
 "nbformat_minor": 4
}
