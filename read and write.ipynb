{
 "cells": [
  {
   "cell_type": "markdown",
   "metadata": {},
   "source": [
    "This is the write to text function.  it is possible to open at the beginning and then close afterwards but this is neater and uses less coding so is considered preferable."
   ]
  },
  {
   "cell_type": "code",
   "execution_count": 9,
   "metadata": {},
   "outputs": [],
   "source": [
    "with open ('myfile.txt','w') as file:\n",
    "    file.write(\"yo momma\")"
   ]
  },
  {
   "cell_type": "markdown",
   "metadata": {},
   "source": [
    "This is the read function.  not that the variable 'things' is not in the parentheses but is an independent variable at the beginning of the second phrase.  In the parentheses, however, can be put the number of bytes that you wish to read or write.  negative amounts will read the whole file.  if you make multiple arguments python will pick up where it left off after the previous reading."
   ]
  },
  {
   "cell_type": "code",
   "execution_count": 14,
   "metadata": {},
   "outputs": [
    {
     "name": "stdout",
     "output_type": "stream",
     "text": [
      "john\n"
     ]
    }
   ],
   "source": [
    "with open('myfile.txt','r') as file:\n",
    "    things = file.read()\n",
    "    print(things)"
   ]
  },
  {
   "cell_type": "code",
   "execution_count": 31,
   "metadata": {},
   "outputs": [
    {
     "name": "stdout",
     "output_type": "stream",
     "text": [
      "john\n",
      "james\n",
      "ann\n",
      "susan\n"
     ]
    }
   ],
   "source": [
    "names= ['john','james', 'ann', 'susan']\n",
    "\n",
    "file = open('myfile.txt','w')\n",
    "stuff = \"\\n\".join(person for person in names)\n",
    "\n",
    "file.write(stuff)\n",
    "\n",
    "\n",
    "file.close()\n",
    "\n",
    "with open('myfile.txt','r') as file:\n",
    "    things = file.read()\n",
    "    print(things)"
   ]
  },
  {
   "cell_type": "code",
   "execution_count": 9,
   "metadata": {},
   "outputs": [],
   "source": [
    "names= ['john','james', 'ann', 'susan']\n",
    "\n",
    "with open ('myfile.txt','w+') as file:\n",
    "    for person in file:\n",
    "        \n",
    "        print(person)\n",
    "    "
   ]
  },
  {
   "cell_type": "code",
   "execution_count": 10,
   "metadata": {},
   "outputs": [
    {
     "name": "stdout",
     "output_type": "stream",
     "text": [
      "\n"
     ]
    }
   ],
   "source": [
    "with open('myfile.txt','r') as file:\n",
    "    things = file.read()\n",
    "    print(things)"
   ]
  },
  {
   "cell_type": "code",
   "execution_count": 11,
   "metadata": {},
   "outputs": [
    {
     "name": "stdout",
     "output_type": "stream",
     "text": [
      "12\n"
     ]
    }
   ],
   "source": [
    "title = 'harry potter'\n",
    "\n",
    "x = len(title)\n",
    "\n",
    "print(x)"
   ]
  },
  {
   "cell_type": "code",
   "execution_count": 43,
   "metadata": {},
   "outputs": [
    {
     "name": "stdout",
     "output_type": "stream",
     "text": [
      "h\n"
     ]
    }
   ],
   "source": [
    "title.split()\n",
    "print(title[0])"
   ]
  },
  {
   "cell_type": "code",
   "execution_count": 2,
   "metadata": {},
   "outputs": [
    {
     "name": "stdout",
     "output_type": "stream",
     "text": [
      "68\n"
     ]
    }
   ],
   "source": [
    "books = ['harry potter\\n', 'the hunger games\\n', 'pride and prejudice\\n', 'gone with the wind']\n",
    "\n",
    "with open('books.txt','w') as f:\n",
    "    stuff = \"\".join(books)\n",
    "    things = f.write(stuff)\n",
    "    print(things)\n",
    "    \n",
    "    \n",
    "    \n",
    "    "
   ]
  },
  {
   "cell_type": "code",
   "execution_count": 17,
   "metadata": {},
   "outputs": [
    {
     "name": "stdout",
     "output_type": "stream",
     "text": [
      "\n",
      "70\n"
     ]
    }
   ],
   "source": [
    "with open('books.txt','r') as f:\n",
    "    things = f.read()\n",
    "    print(things)"
   ]
  },
  {
   "cell_type": "code",
   "execution_count": 4,
   "metadata": {},
   "outputs": [
    {
     "ename": "NameError",
     "evalue": "name 'g' is not defined",
     "output_type": "error",
     "traceback": [
      "\u001b[1;31m---------------------------------------------------------------------------\u001b[0m",
      "\u001b[1;31mNameError\u001b[0m                                 Traceback (most recent call last)",
      "\u001b[1;32m<ipython-input-4-b4e2815fd115>\u001b[0m in \u001b[0;36m<module>\u001b[1;34m\u001b[0m\n\u001b[0;32m      8\u001b[0m             \u001b[0mnum\u001b[0m \u001b[1;33m=\u001b[0m \u001b[0mstr\u001b[0m\u001b[1;33m(\u001b[0m\u001b[0mx\u001b[0m\u001b[1;33m)\u001b[0m\u001b[1;33m\u001b[0m\u001b[1;33m\u001b[0m\u001b[0m\n\u001b[0;32m      9\u001b[0m \u001b[1;33m\u001b[0m\u001b[0m\n\u001b[1;32m---> 10\u001b[1;33m             \u001b[0my\u001b[0m \u001b[1;33m=\u001b[0m \u001b[0mg\u001b[0m\u001b[1;33m[\u001b[0m\u001b[1;36m0\u001b[0m\u001b[1;33m]\u001b[0m\u001b[1;33m[\u001b[0m\u001b[0ma\u001b[0m\u001b[1;33m]\u001b[0m\u001b[1;33m\u001b[0m\u001b[1;33m\u001b[0m\u001b[0m\n\u001b[0m\u001b[0;32m     11\u001b[0m \u001b[1;33m\u001b[0m\u001b[0m\n\u001b[0;32m     12\u001b[0m             \u001b[0ma\u001b[0m \u001b[1;33m+=\u001b[0m\u001b[1;36m1\u001b[0m\u001b[1;33m\u001b[0m\u001b[1;33m\u001b[0m\u001b[0m\n",
      "\u001b[1;31mNameError\u001b[0m: name 'g' is not defined"
     ]
    }
   ],
   "source": [
    "count = 0\n",
    "a = 0\n",
    "while count < 100:\n",
    "    for title in books:\n",
    "        with open('books.txt','r') as f:\n",
    "            \n",
    "            x = len(title)\n",
    "            num = str(x)\n",
    "\n",
    "            y = g[0][a]\n",
    "\n",
    "            a +=1\n",
    "            count +=1\n",
    "            print(y+num)"
   ]
  },
  {
   "cell_type": "code",
   "execution_count": 5,
   "metadata": {},
   "outputs": [
    {
     "ename": "NameError",
     "evalue": "name 'book_code' is not defined",
     "output_type": "error",
     "traceback": [
      "\u001b[1;31m---------------------------------------------------------------------------\u001b[0m",
      "\u001b[1;31mNameError\u001b[0m                                 Traceback (most recent call last)",
      "\u001b[1;32m<ipython-input-5-05d4042dda99>\u001b[0m in \u001b[0;36m<module>\u001b[1;34m\u001b[0m\n\u001b[1;32m----> 1\u001b[1;33m \u001b[0mbook_code\u001b[0m\u001b[1;33m(\u001b[0m\u001b[1;33m)\u001b[0m\u001b[1;33m\u001b[0m\u001b[1;33m\u001b[0m\u001b[0m\n\u001b[0m",
      "\u001b[1;31mNameError\u001b[0m: name 'book_code' is not defined"
     ]
    }
   ],
   "source": [
    "book_code()"
   ]
  },
  {
   "cell_type": "code",
   "execution_count": 40,
   "metadata": {},
   "outputs": [],
   "source": [
    "def book_code():\n",
    "    with open('books.txt','r') as f:\n",
    "\n",
    "        for title in books:\n",
    "            while title != \"\":\n",
    "                    x = len(title)\n",
    "                    x = x-1\n",
    "                    num = str(x)\n",
    "                    title.split()\n",
    "                    y = title[0]           \n",
    "                    return(y+num)\n",
    "                    count +=1\n"
   ]
  },
  {
   "cell_type": "code",
   "execution_count": 41,
   "metadata": {},
   "outputs": [
    {
     "data": {
      "text/plain": [
       "'h12'"
      ]
     },
     "execution_count": 41,
     "metadata": {},
     "output_type": "execute_result"
    }
   ],
   "source": [
    "book_code()"
   ]
  },
  {
   "cell_type": "code",
   "execution_count": null,
   "metadata": {},
   "outputs": [],
   "source": []
  },
  {
   "cell_type": "code",
   "execution_count": 42,
   "metadata": {},
   "outputs": [
    {
     "name": "stdout",
     "output_type": "stream",
     "text": [
      "t\n"
     ]
    }
   ],
   "source": [
    "books = ['harry potter\\n', 'the hunger games\\n', 'pride and prejudice\\n', 'gone with the wind']\n",
    "\n",
    "print(books[1][0])"
   ]
  },
  {
   "cell_type": "code",
   "execution_count": 32,
   "metadata": {},
   "outputs": [
    {
     "data": {
      "text/plain": [
       "'h12'"
      ]
     },
     "execution_count": 32,
     "metadata": {},
     "output_type": "execute_result"
    }
   ],
   "source": [
    "book_code()"
   ]
  },
  {
   "cell_type": "code",
   "execution_count": 44,
   "metadata": {},
   "outputs": [
    {
     "name": "stdout",
     "output_type": "stream",
     "text": [
      "harry potter\n",
      "the hunger games\n",
      "pride and prejudice\n",
      "gone with the wind\n"
     ]
    }
   ],
   "source": [
    "with open(\"books.txt\",'r') as f:\n",
    "    words = f.read()\n",
    "    print(words)"
   ]
  },
  {
   "cell_type": "code",
   "execution_count": 43,
   "metadata": {},
   "outputs": [],
   "source": [
    "books = ['harry potter\\n', 'the hunger games\\n', 'pride and prejudice\\n', 'gone with the wind']\n",
    "\n",
    "with open('books.txt','w') as f:\n",
    "    for book in books:\n",
    "        f.write(book)"
   ]
  },
  {
   "cell_type": "code",
   "execution_count": 52,
   "metadata": {},
   "outputs": [
    {
     "name": "stdout",
     "output_type": "stream",
     "text": [
      "h12\n",
      "t16\n",
      "p19\n",
      "g18\n"
     ]
    }
   ],
   "source": [
    "#ended up running into an issue with this code because he last line didn't have a '\\n'.\n",
    "#I added this little append section to fix that problem.\n",
    "f = open(\"books.txt\",'a')\n",
    "f.write('\\n')\n",
    "f.close()\n",
    "\n",
    "#This is the rest of the code that I used.\n",
    "with open(\"books.txt\",'r') as f:\n",
    "    for title in f:\n",
    "        x = len(title)\n",
    "        x = x-1\n",
    "        num = str(x)\n",
    "#         print(num)\n",
    "#         print(title[0])\n",
    "        code = title[0] + num\n",
    "        print(code)"
   ]
  },
  {
   "cell_type": "code",
   "execution_count": null,
   "metadata": {},
   "outputs": [],
   "source": []
  }
 ],
 "metadata": {
  "kernelspec": {
   "display_name": "Python 3",
   "language": "python",
   "name": "python3"
  },
  "language_info": {
   "codemirror_mode": {
    "name": "ipython",
    "version": 3
   },
   "file_extension": ".py",
   "mimetype": "text/x-python",
   "name": "python",
   "nbconvert_exporter": "python",
   "pygments_lexer": "ipython3",
   "version": "3.8.5"
  }
 },
 "nbformat": 4,
 "nbformat_minor": 4
}
